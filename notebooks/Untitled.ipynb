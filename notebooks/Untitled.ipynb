{
 "cells": [
  {
   "cell_type": "code",
   "execution_count": 1,
   "id": "093bc78f",
   "metadata": {},
   "outputs": [],
   "source": [
    "import os\n",
    "import json\n",
    "import os.path\n",
    "if os.path.basename(os.getcwd()) == \"notebooks\":\n",
    "    os.chdir('..')\n",
    "from dotenv import load_dotenv\n",
    "\n",
    "load_dotenv(\".env\")  # take environment variables from .env.\n",
    "\n",
    "from steam_trade_bot.containers import Container\n",
    "from steam_trade_bot.settings import BotSettings\n",
    "container = Container()\n",
    "container.config.from_pydantic(BotSettings())\n",
    "container.wire(modules=[__name__])"
   ]
  },
  {
   "cell_type": "code",
   "execution_count": 2,
   "id": "a8103a3f",
   "metadata": {},
   "outputs": [],
   "source": [
    "uow_ = container.repositories.unit_of_work"
   ]
  },
  {
   "cell_type": "code",
   "execution_count": 57,
   "id": "5a26cbb2",
   "metadata": {},
   "outputs": [],
   "source": [
    "async with uow_() as uow:\n",
    "    history = []\n",
    "    for game in await uow.game.get_all():\n",
    "        history.extend(await uow.sell_history.get_all(app_id=game.app_id, currency=1, count=500000))"
   ]
  },
  {
   "cell_type": "code",
   "execution_count": 58,
   "id": "667cb52f",
   "metadata": {},
   "outputs": [
    {
     "data": {
      "text/plain": [
       "330277"
      ]
     },
     "execution_count": 58,
     "metadata": {},
     "output_type": "execute_result"
    }
   ],
   "source": [
    "len(history)"
   ]
  },
  {
   "cell_type": "code",
   "execution_count": 70,
   "id": "a0829aae",
   "metadata": {
    "scrolled": false
   },
   "outputs": [
    {
     "name": "stdout",
     "output_type": "stream",
     "text": [
      "Processed 0 items\n",
      "Processed 1000 items\n",
      "Processed 2000 items\n",
      "Processed 3000 items\n",
      "Processed 4000 items\n",
      "Processed 5000 items\n",
      "Processed 6000 items\n",
      "Processed 7000 items\n",
      "Processed 8000 items\n",
      "Processed 9000 items\n",
      "Processed 10000 items\n",
      "Processed 11000 items\n",
      "Processed 12000 items\n",
      "Processed 13000 items\n",
      "Processed 14000 items\n",
      "Processed 15000 items\n",
      "Processed 16000 items\n",
      "Processed 17000 items\n",
      "Processed 18000 items\n",
      "Processed 19000 items\n",
      "Processed 20000 items\n",
      "Processed 21000 items\n",
      "Processed 22000 items\n",
      "Processed 23000 items\n",
      "Processed 24000 items\n",
      "Processed 25000 items\n",
      "Processed 26000 items\n",
      "Processed 27000 items\n",
      "Processed 28000 items\n",
      "Processed 29000 items\n",
      "Processed 30000 items\n",
      "Processed 31000 items\n",
      "Processed 32000 items\n",
      "Processed 33000 items\n",
      "Processed 34000 items\n",
      "Processed 35000 items\n",
      "Processed 36000 items\n",
      "Processed 37000 items\n",
      "Processed 38000 items\n",
      "Processed 39000 items\n",
      "Processed 40000 items\n",
      "Processed 41000 items\n",
      "Processed 42000 items\n",
      "Processed 43000 items\n",
      "Processed 44000 items\n",
      "Processed 45000 items\n",
      "Processed 46000 items\n",
      "Processed 47000 items\n",
      "Processed 48000 items\n",
      "Processed 49000 items\n",
      "Processed 50000 items\n",
      "Processed 51000 items\n",
      "Processed 52000 items\n",
      "Processed 53000 items\n",
      "Processed 54000 items\n",
      "Processed 55000 items\n",
      "Processed 56000 items\n",
      "Processed 57000 items\n",
      "Processed 58000 items\n",
      "Processed 59000 items\n",
      "Processed 60000 items\n",
      "Processed 61000 items\n",
      "Processed 62000 items\n",
      "Processed 63000 items\n",
      "Processed 64000 items\n",
      "Processed 65000 items\n",
      "Processed 66000 items\n",
      "Processed 67000 items\n",
      "Processed 68000 items\n",
      "Processed 69000 items\n",
      "Processed 70000 items\n",
      "Processed 71000 items\n",
      "Processed 72000 items\n",
      "Processed 73000 items\n",
      "Processed 74000 items\n",
      "Processed 75000 items\n",
      "Processed 76000 items\n",
      "Processed 77000 items\n",
      "Processed 78000 items\n",
      "Processed 79000 items\n",
      "Processed 80000 items\n",
      "Processed 81000 items\n",
      "Processed 82000 items\n",
      "Processed 83000 items\n",
      "Processed 84000 items\n",
      "Processed 85000 items\n",
      "Processed 86000 items\n",
      "Processed 87000 items\n",
      "Processed 88000 items\n",
      "Processed 89000 items\n",
      "Processed 90000 items\n",
      "Processed 91000 items\n",
      "Processed 92000 items\n",
      "Processed 93000 items\n",
      "Processed 94000 items\n",
      "Processed 95000 items\n",
      "Processed 96000 items\n",
      "Processed 97000 items\n",
      "Processed 98000 items\n",
      "Processed 99000 items\n",
      "Processed 100000 items\n",
      "Processed 101000 items\n",
      "Processed 102000 items\n",
      "Processed 103000 items\n",
      "Processed 104000 items\n",
      "Processed 105000 items\n",
      "Processed 106000 items\n",
      "Processed 107000 items\n",
      "Processed 108000 items\n",
      "Processed 109000 items\n",
      "Processed 110000 items\n",
      "Processed 111000 items\n",
      "Processed 112000 items\n",
      "Processed 113000 items\n",
      "Processed 114000 items\n",
      "Processed 115000 items\n",
      "Processed 116000 items\n",
      "Processed 117000 items\n",
      "Processed 118000 items\n",
      "Processed 119000 items\n",
      "Processed 120000 items\n",
      "Processed 121000 items\n",
      "Processed 122000 items\n",
      "Processed 123000 items\n",
      "Processed 124000 items\n",
      "Processed 125000 items\n",
      "Processed 126000 items\n",
      "Processed 127000 items\n",
      "Processed 128000 items\n",
      "Processed 129000 items\n",
      "Processed 130000 items\n",
      "Processed 131000 items\n",
      "Processed 132000 items\n",
      "Processed 133000 items\n",
      "Processed 134000 items\n",
      "Processed 135000 items\n",
      "Processed 136000 items\n",
      "Processed 137000 items\n",
      "Processed 138000 items\n",
      "Processed 139000 items\n",
      "Processed 140000 items\n",
      "Processed 141000 items\n",
      "Processed 142000 items\n",
      "Processed 143000 items\n",
      "Processed 144000 items\n",
      "Processed 145000 items\n",
      "Processed 146000 items\n",
      "Processed 147000 items\n",
      "Processed 148000 items\n",
      "Processed 149000 items\n",
      "Processed 150000 items\n",
      "Processed 151000 items\n",
      "Processed 152000 items\n",
      "Processed 153000 items\n",
      "Processed 154000 items\n",
      "Processed 155000 items\n",
      "Processed 156000 items\n",
      "Processed 157000 items\n",
      "Processed 158000 items\n",
      "Processed 159000 items\n",
      "Processed 160000 items\n",
      "Processed 161000 items\n",
      "Processed 162000 items\n",
      "Processed 163000 items\n",
      "Processed 164000 items\n",
      "Processed 165000 items\n",
      "Processed 166000 items\n",
      "Processed 167000 items\n",
      "Processed 168000 items\n",
      "Processed 169000 items\n",
      "Processed 170000 items\n",
      "Processed 171000 items\n",
      "Processed 172000 items\n",
      "Processed 173000 items\n",
      "Processed 174000 items\n",
      "Processed 175000 items\n",
      "Processed 176000 items\n",
      "Processed 177000 items\n",
      "Processed 178000 items\n",
      "Processed 179000 items\n",
      "Processed 180000 items\n",
      "Processed 181000 items\n",
      "Processed 182000 items\n",
      "Processed 183000 items\n",
      "Processed 184000 items\n",
      "Processed 185000 items\n",
      "Processed 186000 items\n",
      "Processed 187000 items\n",
      "Processed 188000 items\n",
      "Processed 189000 items\n",
      "Processed 190000 items\n",
      "Processed 191000 items\n",
      "Processed 192000 items\n",
      "Processed 193000 items\n",
      "Processed 194000 items\n",
      "Processed 195000 items\n",
      "Processed 196000 items\n",
      "Processed 197000 items\n",
      "Processed 198000 items\n",
      "Processed 199000 items\n",
      "Processed 200000 items\n",
      "Processed 201000 items\n",
      "Processed 202000 items\n",
      "Processed 203000 items\n",
      "Processed 204000 items\n",
      "Processed 205000 items\n",
      "Processed 206000 items\n",
      "Processed 207000 items\n",
      "Processed 208000 items\n",
      "Processed 209000 items\n",
      "Processed 210000 items\n",
      "Processed 211000 items\n",
      "Processed 212000 items\n",
      "Processed 213000 items\n",
      "Processed 214000 items\n",
      "Processed 215000 items\n",
      "Processed 216000 items\n",
      "Processed 217000 items\n",
      "Processed 218000 items\n",
      "Processed 219000 items\n",
      "Processed 220000 items\n",
      "Processed 221000 items\n",
      "Processed 222000 items\n",
      "Processed 223000 items\n",
      "Processed 224000 items\n",
      "Processed 225000 items\n",
      "Processed 226000 items\n",
      "Processed 227000 items\n",
      "Processed 228000 items\n",
      "Processed 229000 items\n",
      "Processed 230000 items\n",
      "Processed 231000 items\n",
      "Processed 232000 items\n",
      "Processed 233000 items\n",
      "Processed 234000 items\n",
      "Processed 235000 items\n",
      "Processed 236000 items\n",
      "Processed 237000 items\n",
      "Processed 238000 items\n",
      "Processed 239000 items\n",
      "Processed 240000 items\n",
      "Processed 241000 items\n",
      "Processed 242000 items\n",
      "Processed 243000 items\n",
      "Processed 244000 items\n",
      "Processed 245000 items\n",
      "Processed 246000 items\n",
      "Processed 247000 items\n",
      "Processed 248000 items\n",
      "Processed 249000 items\n",
      "Processed 250000 items\n",
      "Processed 251000 items\n",
      "Processed 252000 items\n",
      "Processed 253000 items\n",
      "Processed 254000 items\n",
      "Processed 255000 items\n",
      "Processed 256000 items\n",
      "Processed 257000 items\n",
      "Processed 258000 items\n",
      "Processed 259000 items\n",
      "Processed 260000 items\n",
      "Processed 261000 items\n",
      "Processed 262000 items\n",
      "Processed 263000 items\n",
      "Processed 264000 items\n",
      "Processed 265000 items\n",
      "Processed 266000 items\n",
      "Processed 267000 items\n",
      "Processed 268000 items\n",
      "Processed 269000 items\n",
      "Processed 270000 items\n",
      "Processed 271000 items\n",
      "Processed 272000 items\n",
      "Processed 273000 items\n",
      "Processed 274000 items\n",
      "Processed 275000 items\n",
      "Processed 276000 items\n",
      "Processed 277000 items\n",
      "Processed 278000 items\n",
      "Processed 279000 items\n",
      "Processed 280000 items\n",
      "Processed 281000 items\n",
      "Processed 282000 items\n",
      "Processed 283000 items\n",
      "Processed 284000 items\n",
      "Processed 285000 items\n",
      "Processed 286000 items\n",
      "Processed 287000 items\n",
      "Processed 288000 items\n",
      "Processed 289000 items\n",
      "Processed 290000 items\n",
      "Processed 291000 items\n",
      "Processed 292000 items\n",
      "Processed 293000 items\n",
      "Processed 294000 items\n",
      "Processed 295000 items\n",
      "Processed 296000 items\n",
      "Processed 297000 items\n",
      "Processed 298000 items\n",
      "Processed 299000 items\n",
      "Processed 300000 items\n",
      "Processed 301000 items\n",
      "Processed 302000 items\n",
      "Processed 303000 items\n",
      "Processed 304000 items\n",
      "Processed 305000 items\n",
      "Processed 306000 items\n",
      "Processed 307000 items\n",
      "Processed 308000 items\n",
      "Processed 309000 items\n",
      "Processed 310000 items\n",
      "Processed 311000 items\n",
      "Processed 312000 items\n",
      "Processed 313000 items\n",
      "Processed 314000 items\n",
      "Processed 315000 items\n",
      "Processed 316000 items\n",
      "Processed 317000 items\n",
      "Processed 318000 items\n",
      "Processed 319000 items\n",
      "Processed 320000 items\n",
      "Processed 321000 items\n",
      "Processed 322000 items\n",
      "Processed 323000 items\n",
      "Processed 324000 items\n",
      "Processed 325000 items\n",
      "Processed 326000 items\n",
      "Processed 327000 items\n",
      "Processed 328000 items\n",
      "Processed 329000 items\n",
      "Processed 330000 items\n"
     ]
    }
   ],
   "source": [
    "import csv\n",
    "import pandas as pd\n",
    "from steam_trade_bot.domain.services.sell_history_analyzer import steam_date_str_to_datetime\n",
    "\n",
    "# Write CSV file\n",
    "with open(\"bigdata.csv\", \"wt\", newline='', encoding=\"utf8\") as fp:\n",
    "    writer = csv.writer(fp, delimiter=\",\")\n",
    "    writer.writerow(['app_id', 'market_hash_name', 'timestamp', 'price', 'amount'])  # write header\n",
    "    for i, element in enumerate(history):\n",
    "        j = json.loads(element.history)\n",
    "        writer.writerows([(element.app_id, element.market_hash_name, steam_date_str_to_datetime(pair[0]), round(pair[1], 2), int(pair[2])) for pair in j])\n",
    "        if i % 1000 == 0:\n",
    "            print(f\"Processed {i} items\")"
   ]
  },
  {
   "cell_type": "code",
   "execution_count": null,
   "id": "1e444eee",
   "metadata": {},
   "outputs": [],
   "source": []
  },
  {
   "cell_type": "code",
   "execution_count": 4,
   "id": "a3f990f0",
   "metadata": {},
   "outputs": [
    {
     "name": "stdout",
     "output_type": "stream",
     "text": [
      "<class 'pandas.core.frame.DataFrame'>\n",
      "Index: 0 entries\n",
      "Data columns (total 5 columns):\n",
      " #   Column            Non-Null Count  Dtype \n",
      "---  ------            --------------  ----- \n",
      " 0   app_id            0 non-null      object\n",
      " 1   market_hash_name  0 non-null      object\n",
      " 2   timestamp         0 non-null      object\n",
      " 3   price             0 non-null      object\n",
      " 4   amount            0 non-null      object\n",
      "dtypes: object(5)\n",
      "memory usage: 0.0+ bytes\n"
     ]
    }
   ],
   "source": [
    "df = pd.DataFrame([], columns=['app_id', 'market_hash_name', 'timestamp', 'price', 'amount'])\n",
    "\n",
    "df.info()"
   ]
  },
  {
   "cell_type": "code",
   "execution_count": 5,
   "id": "8629f5cf",
   "metadata": {},
   "outputs": [
    {
     "name": "stdout",
     "output_type": "stream",
     "text": [
      "<class 'pandas.core.frame.DataFrame'>\n",
      "RangeIndex: 215911515 entries, 0 to 215911514\n",
      "Data columns (total 5 columns):\n",
      " #   Column            Dtype  \n",
      "---  ------            -----  \n",
      " 0   app_id            int64  \n",
      " 1   market_hash_name  object \n",
      " 2   timestamp         object \n",
      " 3   price             float64\n",
      " 4   amount            int64  \n",
      "dtypes: float64(1), int64(2), object(2)\n",
      "memory usage: 8.0+ GB\n"
     ]
    }
   ],
   "source": [
    "df = pd.read_csv(\"bigdata.csv\")\n",
    "df.info()"
   ]
  },
  {
   "cell_type": "code",
   "execution_count": 8,
   "id": "58f286ca",
   "metadata": {},
   "outputs": [
    {
     "data": {
      "text/plain": [
       "753        123424132\n",
       "570         33247132\n",
       "730         26171717\n",
       "440         12111915\n",
       "218620       4315816\n",
       "             ...    \n",
       "1818410            2\n",
       "1706770            2\n",
       "1680550            2\n",
       "1412190            2\n",
       "1187920            2\n",
       "Name: app_id, Length: 248, dtype: int64"
      ]
     },
     "execution_count": 8,
     "metadata": {},
     "output_type": "execute_result"
    }
   ],
   "source": [
    "df[\"app_id\"].value_counts()"
   ]
  },
  {
   "cell_type": "code",
   "execution_count": 21,
   "id": "e8e33ace",
   "metadata": {},
   "outputs": [],
   "source": [
    "df[\"partition\"] = df.apply(lambda x: x[\"timestamp\"].rsplit('-', 1)[0], axis=1)"
   ]
  },
  {
   "cell_type": "code",
   "execution_count": 22,
   "id": "8388aa51",
   "metadata": {},
   "outputs": [],
   "source": [
    "df.to_parquet(path='./parquet/', engine='fastparquet', compression='snappy', index=False, partition_cols=[\"partition\"])"
   ]
  },
  {
   "cell_type": "code",
   "execution_count": 23,
   "id": "9591bd39",
   "metadata": {},
   "outputs": [
    {
     "name": "stdout",
     "output_type": "stream",
     "text": [
      "<class 'pandas.core.frame.DataFrame'>\n",
      "RangeIndex: 215911515 entries, 0 to 215911514\n",
      "Data columns (total 6 columns):\n",
      " #   Column            Dtype  \n",
      "---  ------            -----  \n",
      " 0   app_id            int64  \n",
      " 1   market_hash_name  object \n",
      " 2   timestamp         object \n",
      " 3   price             float64\n",
      " 4   amount            int64  \n",
      " 5   partition         object \n",
      "dtypes: float64(1), int64(2), object(3)\n",
      "memory usage: 9.7+ GB\n"
     ]
    }
   ],
   "source": [
    "df.info()"
   ]
  },
  {
   "cell_type": "code",
   "execution_count": 24,
   "id": "04eec331",
   "metadata": {},
   "outputs": [],
   "source": [
    "del df\n"
   ]
  },
  {
   "cell_type": "code",
   "execution_count": 4,
   "id": "fb8fe25d",
   "metadata": {},
   "outputs": [],
   "source": [
    "df = pd.read_parquet('./parquet/partition=2022-10/', engine='fastparquet')"
   ]
  },
  {
   "cell_type": "code",
   "execution_count": 5,
   "id": "7d94708a",
   "metadata": {},
   "outputs": [
    {
     "name": "stdout",
     "output_type": "stream",
     "text": [
      "<class 'pandas.core.frame.DataFrame'>\n",
      "RangeIndex: 11628019 entries, 0 to 11628018\n",
      "Data columns (total 5 columns):\n",
      " #   Column            Dtype  \n",
      "---  ------            -----  \n",
      " 0   app_id            int64  \n",
      " 1   market_hash_name  object \n",
      " 2   timestamp         object \n",
      " 3   price             float64\n",
      " 4   amount            int64  \n",
      "dtypes: float64(1), int64(2), object(2)\n",
      "memory usage: 443.6+ MB\n"
     ]
    }
   ],
   "source": [
    "df.info()"
   ]
  },
  {
   "cell_type": "code",
   "execution_count": 6,
   "id": "ee971407",
   "metadata": {},
   "outputs": [],
   "source": [
    "pd.options.plotting.backend = \"plotly\""
   ]
  },
  {
   "cell_type": "code",
   "execution_count": 18,
   "id": "7c68f868",
   "metadata": {},
   "outputs": [
    {
     "data": {
      "application/vnd.plotly.v1+json": {
       "config": {
        "plotlyServerURL": "https://plot.ly"
       },
       "data": [
        {
         "alignmentgroup": "True",
         "hovertemplate": "price=%{x}<br>amount=%{y}<extra></extra>",
         "legendgroup": "",
         "marker": {
          "color": "#636efa",
          "pattern": {
           "shape": ""
          }
         },
         "name": "",
         "offsetgroup": "",
         "orientation": "v",
         "showlegend": false,
         "textposition": "auto",
         "type": "bar",
         "x": [
          0.03,
          0.03,
          0.03,
          0.03,
          0.03,
          0.03,
          0.03,
          0.03,
          0.03,
          0.03,
          0.03,
          0.03,
          0.03,
          0.03,
          0.03,
          0.03,
          0.03,
          0.03,
          0.03,
          0.03,
          0.03,
          0.03,
          0.03,
          0.03,
          0.03,
          0.03,
          0.03,
          0.03,
          0.03,
          0.03,
          0.03,
          0.03,
          0.03,
          0.03,
          0.03,
          0.03,
          0.03,
          0.03,
          0.03,
          0.03,
          0.03,
          0.03,
          0.03,
          0.03,
          0.03,
          0.03,
          0.03,
          0.03,
          0.03,
          0.03,
          0.03,
          0.03,
          0.03,
          0.03,
          0.03,
          0.03,
          0.03,
          0.03,
          0.03,
          0.03,
          0.03,
          0.03,
          0.03,
          0.03,
          0.03,
          0.03,
          0.03,
          0.03,
          0.03,
          0.03,
          0.03,
          0.03,
          0.03,
          0.03,
          0.03,
          0.03,
          0.03,
          0.03,
          0.03,
          0.03,
          0.03,
          0.03,
          0.03,
          0.03,
          0.03,
          0.03,
          0.03,
          0.03,
          0.03,
          0.03,
          0.03,
          0.03,
          0.03,
          0.03,
          0.03,
          0.03,
          0.03,
          0.03,
          0.03,
          0.03,
          0.03,
          0.03,
          0.03,
          0.03,
          0.03,
          0.03,
          0.03,
          0.03,
          0.03,
          0.03,
          0.03,
          0.03,
          0.03,
          0.03,
          0.03,
          0.03,
          0.03,
          0.03,
          0.03,
          0.03,
          0.03,
          0.03,
          0.03,
          0.03,
          0.03,
          0.03,
          0.03,
          0.03,
          0.03,
          0.03,
          0.03,
          0.03,
          0.03,
          0.03,
          0.03,
          0.03,
          0.03,
          0.03,
          0.03,
          0.03,
          0.03,
          0.03,
          0.03,
          0.03,
          0.03,
          0.03,
          0.03,
          0.03,
          0.03,
          0.03,
          0.03,
          0.03,
          0.03,
          0.03,
          0.03,
          0.03,
          0.03,
          0.03,
          0.03,
          0.03,
          0.03,
          0.03,
          0.03,
          0.03,
          0.03,
          0.03,
          5.3,
          0.03,
          0.03,
          0.03,
          0.03,
          0.03,
          0.03,
          0.03,
          0.03,
          0.03,
          0.04,
          0.03,
          0.03,
          0.03,
          0.03,
          0.03,
          0.03,
          0.03,
          0.03,
          0.03,
          0.03,
          0.03,
          0.03,
          0.03,
          0.03,
          0.03,
          0.03,
          0.03,
          0.03,
          0.03,
          0.03,
          0.03,
          0.03,
          0.03,
          0.03,
          0.03,
          0.03,
          0.03,
          0.03,
          0.03,
          0.03,
          0.03,
          0.03,
          8.48,
          0.03,
          0.03,
          0.03,
          0.03,
          0.03,
          0.03,
          0.03,
          0.03,
          0.03,
          0.03,
          0.03,
          0.03,
          0.72,
          0.03,
          0.03,
          0.03,
          0.03,
          0.41,
          0.59,
          0.39,
          0.35,
          0.34,
          0.38,
          0.58,
          0.56,
          0.47,
          0.63,
          0.62,
          0.64,
          0.18,
          0.19,
          0.62,
          0.63,
          0.64,
          0.65,
          0.73,
          0.82,
          0.95,
          0.57,
          0.43,
          0.03,
          0.04,
          0.08,
          0.04,
          0.41,
          0.03,
          0.04,
          0.19,
          0.16,
          0.23,
          0.09,
          0.06,
          0.03,
          0.13,
          0.04,
          0.03,
          0.1,
          0.03,
          0.03,
          0.03,
          0.31,
          0.03,
          0.11,
          0.03,
          0.11,
          0.03,
          0.03,
          0.03,
          0.03,
          0.07,
          0.07,
          0.16,
          0.03,
          0.03,
          0.03,
          0.03,
          0.03,
          0.03,
          0.13,
          0.03,
          0.03,
          0.03,
          0.03,
          0.1,
          0.03,
          0.57,
          0.03,
          0.03,
          0.04,
          0.03,
          0.03,
          0.03,
          0.03,
          0.03,
          0.03,
          0.03,
          0.03,
          0.03,
          0.04,
          0.03,
          0.03,
          0.03,
          0.17,
          0.45,
          0.42,
          0.03,
          0.3,
          0.81,
          0.03,
          0.03,
          0.03,
          0.03,
          0.03,
          0.04,
          0.03,
          0.03,
          0.03,
          0.03,
          0.03,
          0.03,
          0.03,
          0.04,
          0.03,
          1.51,
          0.06,
          0.63,
          0.07,
          0.03,
          0.69,
          0.51,
          0.06,
          0.03,
          0.03,
          0.03,
          0.03,
          0.06,
          0.03,
          0.03,
          0.03,
          0.03,
          0.05,
          0.03,
          0.03,
          0.03,
          0.03,
          0.03,
          0.03,
          0.15,
          0.81,
          0.45,
          0.03,
          0.1,
          0.03,
          0.06,
          0.03,
          0.03,
          0.28,
          0.04,
          0.03,
          0.03,
          0.03,
          0.12,
          0.03,
          0.03,
          0.03,
          0.03,
          0.03,
          0.05,
          0.05,
          0.06,
          0.03,
          4.96,
          0.03,
          0.03,
          0.03,
          0.33,
          0.03,
          0.05,
          0.03,
          0.03,
          0.03,
          0.03,
          0.03,
          0.03,
          0.03,
          0.03,
          0.03,
          0.13,
          0.03,
          0.06,
          0.03,
          0.03,
          0.03,
          0.03,
          0.16,
          0.03,
          0.22,
          0.15,
          0.03,
          0.03,
          0.05,
          0.03,
          0.08,
          0.11,
          0.03,
          0.03,
          0.03,
          1.13,
          0.03,
          0.03,
          0.06,
          0.14,
          0.03,
          0.03,
          0.17,
          0.03,
          0.3,
          0.03,
          0.43,
          0.03,
          0.03,
          0.06,
          0.07,
          0.03,
          0.05,
          0.03,
          0.03,
          0.03,
          0.03,
          0.03,
          0.03,
          0.03,
          0.03,
          0.03,
          0.67,
          0.04,
          0.49,
          0.03,
          0.26,
          0.03,
          0.03,
          0.11,
          0.03,
          0.03,
          0.03,
          0.03,
          0.05,
          0.03,
          1.14,
          0.03,
          0.03,
          0.04,
          0.03,
          0.03,
          0.03,
          0.03,
          0.04,
          0.03,
          0.03,
          0.03,
          0.11,
          0.09,
          0.03,
          0.07,
          0.03,
          0.03,
          0.03,
          0.07,
          0.13,
          0.03,
          0.03,
          0.03,
          0.03,
          0.03,
          0.13,
          0.03,
          0.23,
          0.03,
          0.03,
          0.03,
          0.22,
          0.03,
          0.03,
          0.3,
          0.03,
          0.03,
          0.05,
          0.13,
          0.03,
          0.03,
          0.03,
          0.03,
          0.03,
          0.03,
          0.03,
          0.03,
          0.03,
          0.07,
          0.08,
          1.53,
          0.03,
          0.03,
          0.03,
          0.03,
          0.03,
          0.05,
          0.03,
          0.03,
          0.03,
          0.03,
          0.03,
          0.03,
          0.03,
          0.03,
          0.05,
          0.03,
          0.03,
          0.03,
          0.03,
          0.03,
          0.03,
          0.03,
          0.36,
          0.03,
          0.03,
          0.04,
          0.04,
          0.03,
          0.03,
          0.03,
          0.03,
          0.03,
          0.03,
          0.03,
          0.06,
          0.03,
          0.03,
          0.03,
          0.07,
          0.03,
          0.14,
          0.07,
          0.03,
          0.03,
          0.03,
          0.03,
          0.03,
          0.03,
          0.03,
          0.03,
          0.04,
          0.12,
          0.03,
          0.03,
          0.18,
          0.03,
          0.03,
          0.03,
          0.03,
          0.06,
          0.03,
          0.03,
          0.12,
          0.03,
          0.03,
          0.13,
          0.03,
          0.03,
          0.03,
          0.03,
          0.03,
          0.03,
          0.03,
          0.03,
          0.03,
          0.42,
          0.03,
          0.04,
          0.03,
          0.05,
          0.03,
          0.08,
          0.03,
          0.03,
          0.03,
          0.03,
          0.03,
          0.03,
          0.07,
          0.03,
          0.03,
          0.03,
          0.04,
          0.04,
          0.03,
          0.03,
          0.76,
          0.03,
          0.03,
          0.05,
          0.03,
          0.08,
          0.03,
          0.03,
          0.03,
          3.76,
          0.04,
          0.03,
          0.15,
          0.09,
          0.03,
          0.03,
          0.03,
          0.04,
          0.03,
          0.03,
          0.03,
          0.03,
          0.03,
          0.03,
          0.29,
          0.18,
          0.03,
          0.03,
          0.03,
          0.03,
          0.03,
          0.03,
          0.03,
          0.03,
          0.03,
          0.03,
          0.03,
          0.03,
          0.03,
          0.03,
          0.03,
          0.03,
          0.03,
          0.03,
          0.03,
          0.03,
          0.03,
          0.03,
          0.03,
          0.03,
          0.03,
          0.03,
          0.03,
          0.03,
          0.03,
          0.03,
          0.03,
          0.03,
          0.03,
          0.03,
          0.03,
          0.03,
          0.03,
          0.03,
          0.03,
          0.03,
          0.03,
          0.03,
          0.03,
          0.03,
          0.03,
          0.03,
          0.03,
          0.03,
          0.03,
          1.6,
          0.03,
          0.03,
          0.03,
          0.03,
          0.03,
          0.03,
          0.03,
          0.03,
          0.03,
          0.03,
          0.03,
          0.03,
          0.03,
          0.03,
          0.03,
          0.03,
          0.03,
          0.03,
          0.03,
          0.03,
          0.03,
          0.03,
          0.03,
          0.03,
          0.03,
          0.03,
          0.03,
          0.03,
          0.03,
          0.03,
          0.03,
          0.03,
          0.03,
          0.03,
          0.03,
          0.03,
          0.03,
          0.03,
          0.03,
          0.03,
          0.03,
          0.03,
          0.03,
          0.03,
          0.03,
          0.03,
          0.03,
          0.03,
          0.03,
          0.03,
          0.03,
          0.03,
          0.03,
          0.03,
          0.03,
          0.03,
          0.03,
          0.03,
          0.03,
          0.03,
          0.03,
          0.06,
          0.03,
          0.03,
          0.03,
          0.03,
          0.03,
          0.03,
          0.03,
          0.03,
          0.03,
          0.03,
          0.03,
          0.03,
          0.03,
          0.03,
          0.03,
          0.03,
          0.03,
          0.03,
          0.03,
          0.03,
          0.03,
          0.03,
          0.03,
          0.03,
          0.03,
          0.03,
          0.03,
          0.03,
          0.03,
          0.03,
          0.03,
          0.03,
          0.03,
          0.03,
          0.03,
          0.03,
          0.17,
          0.07,
          0.32,
          0.5,
          0.03,
          0.06,
          0.03,
          0.07,
          0.7,
          0.06,
          0.07,
          0.06,
          0.03,
          0.06,
          0.06,
          0.26,
          0.05,
          0.03,
          0.05,
          0.11,
          0.1,
          0.07,
          0.19,
          0.03,
          0.03,
          0.03,
          0.05,
          0.05,
          0.05,
          0.04,
          0.03,
          0.03,
          0.03,
          0.03,
          0.03,
          0.03,
          0.05,
          0.04,
          0.04,
          0.04,
          0.04,
          0.04,
          0.04,
          0.03,
          0.04,
          0.04,
          0.06,
          0.06,
          0.06,
          0.04,
          0.03,
          0.05,
          0.03,
          0.06,
          0.03,
          0.03,
          0.06,
          0.04,
          0.04,
          0.04,
          0.06,
          0.06,
          0.04,
          3,
          0.06,
          0.06,
          0.07,
          0.04,
          0.15,
          1.56,
          0.31,
          0.09,
          0.03,
          0.04,
          0.03,
          0.13,
          0.12,
          0.04,
          0.04,
          0.06,
          0.04,
          0.36,
          0.03,
          0.03,
          0.03,
          0.03,
          0.03,
          0.03,
          0.03,
          0.03,
          0.03,
          0.06,
          0.03,
          0.03,
          0.08,
          0.03,
          0.03,
          0.15,
          0.18,
          0.16,
          0.15,
          0.08,
          0.18,
          0.18,
          0.19,
          0.19,
          0.06,
          0.03,
          0.11,
          0.08,
          0.14,
          0.11,
          0.15,
          0.17,
          0.18,
          0.09,
          0.18,
          0.08,
          0.1,
          0.11,
          0.39,
          0.62,
          0.03,
          0.15,
          0.17,
          0.15,
          0.13,
          0.15,
          0.13,
          0.14,
          0.03,
          0.14,
          0.16,
          0.18,
          0.15,
          0.14,
          0.17,
          0.17,
          0.15,
          0.17,
          0.16,
          0.18,
          0.19,
          0.18,
          0.09,
          0.05,
          0.09,
          0.06,
          0.11,
          0.11,
          0.11,
          0.08,
          0.09,
          0.11,
          0.11,
          0.1,
          0.11,
          0.12,
          0.12,
          0.12,
          0.12,
          0.2,
          0.05,
          0.07,
          0.06,
          0.07,
          0.07,
          0.09,
          0.06,
          0.03,
          0.09,
          0.09,
          1.98,
          0.03,
          0.04,
          0.03,
          0.03,
          0.03,
          0.03,
          0.03,
          0.03,
          0.03,
          0.03,
          0.03,
          0.03,
          0.03,
          0.03,
          0.03,
          0.03,
          0.03,
          0.03,
          0.03,
          0.03,
          0.03,
          0.03,
          0.03,
          0.03,
          0.03,
          0.03,
          0.03,
          0.03,
          0.03,
          0.03,
          0.03,
          0.03,
          0.03,
          0.03,
          0.03,
          0.03,
          0.03,
          0.03,
          0.03,
          0.03,
          0.03,
          0.03,
          0.03,
          0.03,
          0.03,
          0.03,
          0.03
         ],
         "xaxis": "x",
         "y": [
          36,
          12,
          10,
          6,
          59,
          10,
          9,
          14,
          22,
          10,
          25,
          11,
          62,
          2,
          1,
          2,
          1,
          2,
          1,
          1,
          1,
          1,
          1,
          1,
          1,
          1,
          1,
          1,
          2,
          2,
          4,
          2,
          1,
          1,
          1,
          1,
          1,
          1,
          1,
          2,
          1,
          1,
          2,
          1,
          1,
          1,
          3,
          3,
          1,
          1,
          1,
          1,
          1,
          1,
          2,
          1,
          1,
          1,
          2,
          2,
          1,
          1,
          1,
          2,
          1,
          1,
          3,
          68,
          1,
          7,
          4,
          1,
          3,
          1,
          1,
          2,
          1,
          2,
          1,
          1,
          1,
          1,
          1,
          1,
          1,
          14,
          1,
          1,
          4,
          1,
          2,
          1,
          1,
          1,
          1,
          1,
          1,
          1,
          2,
          2,
          2,
          11,
          2,
          1,
          1,
          1,
          1,
          1,
          22,
          21,
          2,
          1,
          1,
          1,
          1,
          1,
          2,
          1,
          1,
          2,
          1,
          1,
          2,
          1,
          1,
          4,
          2,
          1,
          2,
          1,
          1,
          1,
          1,
          22,
          1,
          2,
          1,
          2,
          1,
          1,
          1,
          1,
          2,
          8,
          1,
          1,
          2,
          3,
          1,
          1,
          1,
          1,
          2,
          2,
          1,
          1,
          2,
          1,
          2,
          1,
          1,
          1,
          1,
          1,
          7,
          1,
          2,
          1,
          2,
          1,
          1,
          1,
          2,
          26,
          1,
          1,
          1,
          1,
          1,
          1,
          1,
          6,
          1,
          1,
          4,
          1,
          1,
          1,
          1,
          1,
          1,
          186,
          1,
          27,
          1,
          1,
          50,
          1,
          1,
          1,
          1,
          1,
          1,
          1,
          1,
          1,
          1,
          10,
          1,
          3,
          1,
          1,
          1,
          2,
          1,
          1,
          1,
          2,
          20,
          1,
          1,
          1,
          1,
          1,
          1,
          5,
          1,
          1,
          1,
          1,
          1,
          1,
          3,
          1,
          1,
          1,
          1,
          1,
          1,
          1,
          1,
          1,
          2,
          1,
          1,
          1,
          1,
          1,
          1,
          1,
          17079,
          7425,
          2228,
          28312,
          7859,
          9281,
          4438,
          9291,
          5485,
          3790,
          4648,
          5306,
          53095,
          7268,
          352,
          323,
          192,
          1,
          18,
          1,
          80,
          305,
          75,
          362,
          289,
          183,
          2,
          57,
          145,
          1519,
          1766,
          6351,
          76,
          34,
          66,
          4,
          592,
          108,
          115,
          198,
          744,
          61,
          88,
          318,
          67,
          19,
          15,
          23,
          125,
          16,
          498,
          121,
          332,
          33,
          274,
          41,
          203,
          203,
          349,
          175,
          298,
          333,
          84,
          45,
          29,
          44,
          340,
          1768,
          51,
          110,
          225,
          3230,
          10,
          109,
          60,
          370,
          652,
          180,
          926,
          1552,
          1369,
          301,
          312,
          101,
          100,
          183,
          143,
          41,
          60,
          74,
          191,
          2,
          22,
          747,
          1,
          211,
          274,
          146,
          176,
          1,
          115,
          331,
          31,
          30,
          268,
          217,
          63,
          46,
          27,
          15,
          1375,
          256,
          1,
          185,
          1,
          2,
          35,
          91,
          253,
          63,
          311,
          388,
          184,
          46,
          163,
          377,
          297,
          201,
          100,
          177,
          31,
          292,
          133,
          1,
          804,
          715,
          237,
          131,
          147,
          20,
          878,
          503,
          86,
          67,
          240,
          138,
          223,
          47,
          120,
          213,
          1,
          43,
          222,
          1,
          637,
          3,
          336,
          664,
          1,
          11,
          101,
          241,
          138,
          187,
          1020,
          590,
          65,
          5402,
          323,
          283,
          366,
          47,
          2,
          1,
          5,
          5,
          10,
          96,
          20,
          6,
          1,
          154,
          100,
          98,
          352,
          23,
          346,
          50,
          433,
          585,
          83,
          125,
          545,
          172,
          20,
          70,
          34,
          209,
          400,
          8,
          284,
          350,
          58,
          1182,
          7121,
          172,
          120,
          8,
          112,
          219,
          385,
          82,
          505,
          446,
          1,
          20,
          100,
          51,
          12,
          156,
          250,
          407,
          1,
          100,
          6,
          42,
          30,
          200,
          6,
          60,
          636,
          457,
          69,
          15,
          3663,
          4,
          1257,
          1,
          2,
          1,
          722,
          1511,
          682,
          10,
          31,
          31,
          11,
          103,
          53,
          160,
          26,
          63,
          612,
          372,
          705,
          105,
          270,
          240,
          650,
          1900,
          139,
          106,
          11,
          1,
          101,
          50,
          175,
          23,
          2298,
          40,
          256,
          1570,
          75,
          177,
          390,
          52,
          101,
          202,
          12,
          1,
          20,
          1,
          23,
          60,
          11,
          20,
          121,
          917,
          363,
          53,
          204,
          8,
          295,
          1055,
          652,
          2,
          1,
          145,
          100,
          41,
          4,
          100,
          1095,
          555,
          149,
          37,
          22,
          46,
          5,
          95,
          679,
          4,
          157,
          100,
          8,
          5,
          167,
          16,
          3,
          128,
          141,
          1378,
          344,
          10,
          5,
          432,
          11,
          131,
          355,
          103,
          140,
          228,
          304,
          659,
          123,
          117,
          317,
          3,
          1,
          206,
          47,
          71,
          1,
          758,
          66,
          79,
          172,
          69,
          250,
          32,
          37,
          23,
          178,
          390,
          25,
          26,
          59,
          81,
          1,
          226,
          50,
          20,
          18,
          314,
          66,
          17626,
          1064,
          1,
          451,
          309,
          38,
          52,
          10,
          134,
          1,
          142,
          3,
          34,
          227,
          45,
          1,
          1,
          1,
          4,
          3,
          2,
          5,
          1,
          1,
          5,
          1,
          1,
          1,
          1,
          1,
          1,
          1,
          1,
          1,
          1,
          2,
          1,
          21,
          1,
          1,
          1,
          1,
          1,
          2,
          1,
          2,
          2,
          4,
          3,
          1,
          1,
          1,
          1,
          1,
          1,
          1,
          1,
          1,
          1,
          1,
          1,
          7,
          1,
          1,
          1,
          1,
          1,
          1,
          1,
          1,
          1,
          1,
          2,
          2,
          2,
          1,
          2,
          1,
          1,
          1,
          1,
          2,
          1,
          1,
          1,
          2,
          1,
          1,
          2,
          1,
          1,
          1,
          1,
          1,
          1,
          1,
          2,
          10,
          1,
          1,
          1,
          1,
          5,
          2,
          1,
          1,
          2,
          1,
          1,
          1,
          1,
          1,
          1,
          1,
          1,
          1,
          1,
          2,
          2,
          1,
          1,
          1,
          1,
          1,
          1,
          1,
          1,
          3,
          1,
          2,
          22,
          3,
          2,
          1,
          2,
          1,
          3,
          1,
          2,
          2,
          1,
          1,
          1,
          1,
          1,
          1,
          1,
          1,
          1,
          1,
          1,
          1,
          1,
          2,
          23,
          1,
          1,
          1,
          1,
          1,
          1,
          1,
          1,
          1,
          1,
          3,
          5,
          1,
          1,
          2,
          154,
          14,
          6,
          10,
          14,
          1,
          20,
          2,
          21,
          15,
          9,
          3,
          1,
          3,
          7,
          16,
          2,
          13,
          7,
          10,
          97,
          4,
          1,
          9,
          2,
          2,
          3,
          1,
          1,
          1,
          1,
          22,
          88,
          1,
          10,
          4,
          4,
          33,
          9,
          8,
          2,
          1,
          1,
          3,
          2,
          1,
          5,
          1,
          46,
          8,
          1,
          13,
          9,
          2,
          5,
          1,
          12,
          23,
          50,
          52,
          3,
          2,
          2,
          13,
          26,
          7,
          2,
          1,
          1,
          1,
          3,
          2,
          8,
          27,
          12,
          11,
          26,
          2,
          1,
          1,
          3,
          1,
          28,
          3,
          11,
          7,
          2,
          1,
          2,
          3,
          3,
          6,
          2,
          2,
          1,
          1,
          1,
          1,
          1,
          1,
          1,
          1,
          1,
          1,
          1,
          1,
          1,
          3,
          1,
          1,
          1,
          1,
          1,
          1,
          1,
          1,
          1,
          1,
          2,
          3,
          1,
          1,
          1,
          1,
          1,
          1,
          1,
          1,
          1,
          1,
          1,
          2,
          4,
          1,
          1,
          1,
          2,
          2,
          1,
          1,
          1,
          1,
          1,
          1,
          1,
          1,
          1,
          1,
          1,
          1,
          1,
          1,
          1,
          1,
          1,
          2,
          3,
          1,
          1,
          1,
          1,
          1,
          1,
          1,
          1,
          1,
          1,
          1,
          1,
          1,
          1,
          1,
          1,
          1,
          1,
          1,
          1,
          1,
          1,
          1,
          1,
          1,
          1,
          1,
          1,
          1,
          1,
          1,
          1,
          1,
          1,
          2,
          1,
          1,
          1,
          1,
          1,
          1,
          1,
          1,
          1,
          1,
          1,
          1,
          1,
          1,
          2,
          1,
          1,
          1,
          1,
          1,
          1,
          1,
          2
         ],
         "yaxis": "y"
        }
       ],
       "layout": {
        "barmode": "relative",
        "legend": {
         "tracegroupgap": 0
        },
        "margin": {
         "t": 60
        },
        "template": {
         "data": {
          "bar": [
           {
            "error_x": {
             "color": "#2a3f5f"
            },
            "error_y": {
             "color": "#2a3f5f"
            },
            "marker": {
             "line": {
              "color": "#E5ECF6",
              "width": 0.5
             },
             "pattern": {
              "fillmode": "overlay",
              "size": 10,
              "solidity": 0.2
             }
            },
            "type": "bar"
           }
          ],
          "barpolar": [
           {
            "marker": {
             "line": {
              "color": "#E5ECF6",
              "width": 0.5
             },
             "pattern": {
              "fillmode": "overlay",
              "size": 10,
              "solidity": 0.2
             }
            },
            "type": "barpolar"
           }
          ],
          "carpet": [
           {
            "aaxis": {
             "endlinecolor": "#2a3f5f",
             "gridcolor": "white",
             "linecolor": "white",
             "minorgridcolor": "white",
             "startlinecolor": "#2a3f5f"
            },
            "baxis": {
             "endlinecolor": "#2a3f5f",
             "gridcolor": "white",
             "linecolor": "white",
             "minorgridcolor": "white",
             "startlinecolor": "#2a3f5f"
            },
            "type": "carpet"
           }
          ],
          "choropleth": [
           {
            "colorbar": {
             "outlinewidth": 0,
             "ticks": ""
            },
            "type": "choropleth"
           }
          ],
          "contour": [
           {
            "colorbar": {
             "outlinewidth": 0,
             "ticks": ""
            },
            "colorscale": [
             [
              0,
              "#0d0887"
             ],
             [
              0.1111111111111111,
              "#46039f"
             ],
             [
              0.2222222222222222,
              "#7201a8"
             ],
             [
              0.3333333333333333,
              "#9c179e"
             ],
             [
              0.4444444444444444,
              "#bd3786"
             ],
             [
              0.5555555555555556,
              "#d8576b"
             ],
             [
              0.6666666666666666,
              "#ed7953"
             ],
             [
              0.7777777777777778,
              "#fb9f3a"
             ],
             [
              0.8888888888888888,
              "#fdca26"
             ],
             [
              1,
              "#f0f921"
             ]
            ],
            "type": "contour"
           }
          ],
          "contourcarpet": [
           {
            "colorbar": {
             "outlinewidth": 0,
             "ticks": ""
            },
            "type": "contourcarpet"
           }
          ],
          "heatmap": [
           {
            "colorbar": {
             "outlinewidth": 0,
             "ticks": ""
            },
            "colorscale": [
             [
              0,
              "#0d0887"
             ],
             [
              0.1111111111111111,
              "#46039f"
             ],
             [
              0.2222222222222222,
              "#7201a8"
             ],
             [
              0.3333333333333333,
              "#9c179e"
             ],
             [
              0.4444444444444444,
              "#bd3786"
             ],
             [
              0.5555555555555556,
              "#d8576b"
             ],
             [
              0.6666666666666666,
              "#ed7953"
             ],
             [
              0.7777777777777778,
              "#fb9f3a"
             ],
             [
              0.8888888888888888,
              "#fdca26"
             ],
             [
              1,
              "#f0f921"
             ]
            ],
            "type": "heatmap"
           }
          ],
          "heatmapgl": [
           {
            "colorbar": {
             "outlinewidth": 0,
             "ticks": ""
            },
            "colorscale": [
             [
              0,
              "#0d0887"
             ],
             [
              0.1111111111111111,
              "#46039f"
             ],
             [
              0.2222222222222222,
              "#7201a8"
             ],
             [
              0.3333333333333333,
              "#9c179e"
             ],
             [
              0.4444444444444444,
              "#bd3786"
             ],
             [
              0.5555555555555556,
              "#d8576b"
             ],
             [
              0.6666666666666666,
              "#ed7953"
             ],
             [
              0.7777777777777778,
              "#fb9f3a"
             ],
             [
              0.8888888888888888,
              "#fdca26"
             ],
             [
              1,
              "#f0f921"
             ]
            ],
            "type": "heatmapgl"
           }
          ],
          "histogram": [
           {
            "marker": {
             "pattern": {
              "fillmode": "overlay",
              "size": 10,
              "solidity": 0.2
             }
            },
            "type": "histogram"
           }
          ],
          "histogram2d": [
           {
            "colorbar": {
             "outlinewidth": 0,
             "ticks": ""
            },
            "colorscale": [
             [
              0,
              "#0d0887"
             ],
             [
              0.1111111111111111,
              "#46039f"
             ],
             [
              0.2222222222222222,
              "#7201a8"
             ],
             [
              0.3333333333333333,
              "#9c179e"
             ],
             [
              0.4444444444444444,
              "#bd3786"
             ],
             [
              0.5555555555555556,
              "#d8576b"
             ],
             [
              0.6666666666666666,
              "#ed7953"
             ],
             [
              0.7777777777777778,
              "#fb9f3a"
             ],
             [
              0.8888888888888888,
              "#fdca26"
             ],
             [
              1,
              "#f0f921"
             ]
            ],
            "type": "histogram2d"
           }
          ],
          "histogram2dcontour": [
           {
            "colorbar": {
             "outlinewidth": 0,
             "ticks": ""
            },
            "colorscale": [
             [
              0,
              "#0d0887"
             ],
             [
              0.1111111111111111,
              "#46039f"
             ],
             [
              0.2222222222222222,
              "#7201a8"
             ],
             [
              0.3333333333333333,
              "#9c179e"
             ],
             [
              0.4444444444444444,
              "#bd3786"
             ],
             [
              0.5555555555555556,
              "#d8576b"
             ],
             [
              0.6666666666666666,
              "#ed7953"
             ],
             [
              0.7777777777777778,
              "#fb9f3a"
             ],
             [
              0.8888888888888888,
              "#fdca26"
             ],
             [
              1,
              "#f0f921"
             ]
            ],
            "type": "histogram2dcontour"
           }
          ],
          "mesh3d": [
           {
            "colorbar": {
             "outlinewidth": 0,
             "ticks": ""
            },
            "type": "mesh3d"
           }
          ],
          "parcoords": [
           {
            "line": {
             "colorbar": {
              "outlinewidth": 0,
              "ticks": ""
             }
            },
            "type": "parcoords"
           }
          ],
          "pie": [
           {
            "automargin": true,
            "type": "pie"
           }
          ],
          "scatter": [
           {
            "fillpattern": {
             "fillmode": "overlay",
             "size": 10,
             "solidity": 0.2
            },
            "type": "scatter"
           }
          ],
          "scatter3d": [
           {
            "line": {
             "colorbar": {
              "outlinewidth": 0,
              "ticks": ""
             }
            },
            "marker": {
             "colorbar": {
              "outlinewidth": 0,
              "ticks": ""
             }
            },
            "type": "scatter3d"
           }
          ],
          "scattercarpet": [
           {
            "marker": {
             "colorbar": {
              "outlinewidth": 0,
              "ticks": ""
             }
            },
            "type": "scattercarpet"
           }
          ],
          "scattergeo": [
           {
            "marker": {
             "colorbar": {
              "outlinewidth": 0,
              "ticks": ""
             }
            },
            "type": "scattergeo"
           }
          ],
          "scattergl": [
           {
            "marker": {
             "colorbar": {
              "outlinewidth": 0,
              "ticks": ""
             }
            },
            "type": "scattergl"
           }
          ],
          "scattermapbox": [
           {
            "marker": {
             "colorbar": {
              "outlinewidth": 0,
              "ticks": ""
             }
            },
            "type": "scattermapbox"
           }
          ],
          "scatterpolar": [
           {
            "marker": {
             "colorbar": {
              "outlinewidth": 0,
              "ticks": ""
             }
            },
            "type": "scatterpolar"
           }
          ],
          "scatterpolargl": [
           {
            "marker": {
             "colorbar": {
              "outlinewidth": 0,
              "ticks": ""
             }
            },
            "type": "scatterpolargl"
           }
          ],
          "scatterternary": [
           {
            "marker": {
             "colorbar": {
              "outlinewidth": 0,
              "ticks": ""
             }
            },
            "type": "scatterternary"
           }
          ],
          "surface": [
           {
            "colorbar": {
             "outlinewidth": 0,
             "ticks": ""
            },
            "colorscale": [
             [
              0,
              "#0d0887"
             ],
             [
              0.1111111111111111,
              "#46039f"
             ],
             [
              0.2222222222222222,
              "#7201a8"
             ],
             [
              0.3333333333333333,
              "#9c179e"
             ],
             [
              0.4444444444444444,
              "#bd3786"
             ],
             [
              0.5555555555555556,
              "#d8576b"
             ],
             [
              0.6666666666666666,
              "#ed7953"
             ],
             [
              0.7777777777777778,
              "#fb9f3a"
             ],
             [
              0.8888888888888888,
              "#fdca26"
             ],
             [
              1,
              "#f0f921"
             ]
            ],
            "type": "surface"
           }
          ],
          "table": [
           {
            "cells": {
             "fill": {
              "color": "#EBF0F8"
             },
             "line": {
              "color": "white"
             }
            },
            "header": {
             "fill": {
              "color": "#C8D4E3"
             },
             "line": {
              "color": "white"
             }
            },
            "type": "table"
           }
          ]
         },
         "layout": {
          "annotationdefaults": {
           "arrowcolor": "#2a3f5f",
           "arrowhead": 0,
           "arrowwidth": 1
          },
          "autotypenumbers": "strict",
          "coloraxis": {
           "colorbar": {
            "outlinewidth": 0,
            "ticks": ""
           }
          },
          "colorscale": {
           "diverging": [
            [
             0,
             "#8e0152"
            ],
            [
             0.1,
             "#c51b7d"
            ],
            [
             0.2,
             "#de77ae"
            ],
            [
             0.3,
             "#f1b6da"
            ],
            [
             0.4,
             "#fde0ef"
            ],
            [
             0.5,
             "#f7f7f7"
            ],
            [
             0.6,
             "#e6f5d0"
            ],
            [
             0.7,
             "#b8e186"
            ],
            [
             0.8,
             "#7fbc41"
            ],
            [
             0.9,
             "#4d9221"
            ],
            [
             1,
             "#276419"
            ]
           ],
           "sequential": [
            [
             0,
             "#0d0887"
            ],
            [
             0.1111111111111111,
             "#46039f"
            ],
            [
             0.2222222222222222,
             "#7201a8"
            ],
            [
             0.3333333333333333,
             "#9c179e"
            ],
            [
             0.4444444444444444,
             "#bd3786"
            ],
            [
             0.5555555555555556,
             "#d8576b"
            ],
            [
             0.6666666666666666,
             "#ed7953"
            ],
            [
             0.7777777777777778,
             "#fb9f3a"
            ],
            [
             0.8888888888888888,
             "#fdca26"
            ],
            [
             1,
             "#f0f921"
            ]
           ],
           "sequentialminus": [
            [
             0,
             "#0d0887"
            ],
            [
             0.1111111111111111,
             "#46039f"
            ],
            [
             0.2222222222222222,
             "#7201a8"
            ],
            [
             0.3333333333333333,
             "#9c179e"
            ],
            [
             0.4444444444444444,
             "#bd3786"
            ],
            [
             0.5555555555555556,
             "#d8576b"
            ],
            [
             0.6666666666666666,
             "#ed7953"
            ],
            [
             0.7777777777777778,
             "#fb9f3a"
            ],
            [
             0.8888888888888888,
             "#fdca26"
            ],
            [
             1,
             "#f0f921"
            ]
           ]
          },
          "colorway": [
           "#636efa",
           "#EF553B",
           "#00cc96",
           "#ab63fa",
           "#FFA15A",
           "#19d3f3",
           "#FF6692",
           "#B6E880",
           "#FF97FF",
           "#FECB52"
          ],
          "font": {
           "color": "#2a3f5f"
          },
          "geo": {
           "bgcolor": "white",
           "lakecolor": "white",
           "landcolor": "#E5ECF6",
           "showlakes": true,
           "showland": true,
           "subunitcolor": "white"
          },
          "hoverlabel": {
           "align": "left"
          },
          "hovermode": "closest",
          "mapbox": {
           "style": "light"
          },
          "paper_bgcolor": "white",
          "plot_bgcolor": "#E5ECF6",
          "polar": {
           "angularaxis": {
            "gridcolor": "white",
            "linecolor": "white",
            "ticks": ""
           },
           "bgcolor": "#E5ECF6",
           "radialaxis": {
            "gridcolor": "white",
            "linecolor": "white",
            "ticks": ""
           }
          },
          "scene": {
           "xaxis": {
            "backgroundcolor": "#E5ECF6",
            "gridcolor": "white",
            "gridwidth": 2,
            "linecolor": "white",
            "showbackground": true,
            "ticks": "",
            "zerolinecolor": "white"
           },
           "yaxis": {
            "backgroundcolor": "#E5ECF6",
            "gridcolor": "white",
            "gridwidth": 2,
            "linecolor": "white",
            "showbackground": true,
            "ticks": "",
            "zerolinecolor": "white"
           },
           "zaxis": {
            "backgroundcolor": "#E5ECF6",
            "gridcolor": "white",
            "gridwidth": 2,
            "linecolor": "white",
            "showbackground": true,
            "ticks": "",
            "zerolinecolor": "white"
           }
          },
          "shapedefaults": {
           "line": {
            "color": "#2a3f5f"
           }
          },
          "ternary": {
           "aaxis": {
            "gridcolor": "white",
            "linecolor": "white",
            "ticks": ""
           },
           "baxis": {
            "gridcolor": "white",
            "linecolor": "white",
            "ticks": ""
           },
           "bgcolor": "#E5ECF6",
           "caxis": {
            "gridcolor": "white",
            "linecolor": "white",
            "ticks": ""
           }
          },
          "title": {
           "x": 0.05
          },
          "xaxis": {
           "automargin": true,
           "gridcolor": "white",
           "linecolor": "white",
           "ticks": "",
           "title": {
            "standoff": 15
           },
           "zerolinecolor": "white",
           "zerolinewidth": 2
          },
          "yaxis": {
           "automargin": true,
           "gridcolor": "white",
           "linecolor": "white",
           "ticks": "",
           "title": {
            "standoff": 15
           },
           "zerolinecolor": "white",
           "zerolinewidth": 2
          }
         }
        },
        "xaxis": {
         "anchor": "y",
         "domain": [
          0,
          1
         ],
         "title": {
          "text": "price"
         }
        },
        "yaxis": {
         "anchor": "x",
         "domain": [
          0,
          1
         ],
         "title": {
          "text": "amount"
         }
        }
       }
      },
      "text/html": [
       "<div>                            <div id=\"0250f604-20e6-43b8-970a-7a62a2cb2a77\" class=\"plotly-graph-div\" style=\"height:525px; width:100%;\"></div>            <script type=\"text/javascript\">                require([\"plotly\"], function(Plotly) {                    window.PLOTLYENV=window.PLOTLYENV || {};                                    if (document.getElementById(\"0250f604-20e6-43b8-970a-7a62a2cb2a77\")) {                    Plotly.newPlot(                        \"0250f604-20e6-43b8-970a-7a62a2cb2a77\",                        [{\"alignmentgroup\":\"True\",\"hovertemplate\":\"price=%{x}<br>amount=%{y}<extra></extra>\",\"legendgroup\":\"\",\"marker\":{\"color\":\"#636efa\",\"pattern\":{\"shape\":\"\"}},\"name\":\"\",\"offsetgroup\":\"\",\"orientation\":\"v\",\"showlegend\":false,\"textposition\":\"auto\",\"x\":[0.03,0.03,0.03,0.03,0.03,0.03,0.03,0.03,0.03,0.03,0.03,0.03,0.03,0.03,0.03,0.03,0.03,0.03,0.03,0.03,0.03,0.03,0.03,0.03,0.03,0.03,0.03,0.03,0.03,0.03,0.03,0.03,0.03,0.03,0.03,0.03,0.03,0.03,0.03,0.03,0.03,0.03,0.03,0.03,0.03,0.03,0.03,0.03,0.03,0.03,0.03,0.03,0.03,0.03,0.03,0.03,0.03,0.03,0.03,0.03,0.03,0.03,0.03,0.03,0.03,0.03,0.03,0.03,0.03,0.03,0.03,0.03,0.03,0.03,0.03,0.03,0.03,0.03,0.03,0.03,0.03,0.03,0.03,0.03,0.03,0.03,0.03,0.03,0.03,0.03,0.03,0.03,0.03,0.03,0.03,0.03,0.03,0.03,0.03,0.03,0.03,0.03,0.03,0.03,0.03,0.03,0.03,0.03,0.03,0.03,0.03,0.03,0.03,0.03,0.03,0.03,0.03,0.03,0.03,0.03,0.03,0.03,0.03,0.03,0.03,0.03,0.03,0.03,0.03,0.03,0.03,0.03,0.03,0.03,0.03,0.03,0.03,0.03,0.03,0.03,0.03,0.03,0.03,0.03,0.03,0.03,0.03,0.03,0.03,0.03,0.03,0.03,0.03,0.03,0.03,0.03,0.03,0.03,0.03,0.03,0.03,0.03,0.03,0.03,0.03,0.03,5.3,0.03,0.03,0.03,0.03,0.03,0.03,0.03,0.03,0.03,0.04,0.03,0.03,0.03,0.03,0.03,0.03,0.03,0.03,0.03,0.03,0.03,0.03,0.03,0.03,0.03,0.03,0.03,0.03,0.03,0.03,0.03,0.03,0.03,0.03,0.03,0.03,0.03,0.03,0.03,0.03,0.03,0.03,8.48,0.03,0.03,0.03,0.03,0.03,0.03,0.03,0.03,0.03,0.03,0.03,0.03,0.72,0.03,0.03,0.03,0.03,0.41,0.59,0.39,0.35,0.34,0.38,0.58,0.56,0.47,0.63,0.62,0.64,0.18,0.19,0.62,0.63,0.64,0.65,0.73,0.82,0.95,0.57,0.43,0.03,0.04,0.08,0.04,0.41,0.03,0.04,0.19,0.16,0.23,0.09,0.06,0.03,0.13,0.04,0.03,0.1,0.03,0.03,0.03,0.31,0.03,0.11,0.03,0.11,0.03,0.03,0.03,0.03,0.07,0.07,0.16,0.03,0.03,0.03,0.03,0.03,0.03,0.13,0.03,0.03,0.03,0.03,0.1,0.03,0.57,0.03,0.03,0.04,0.03,0.03,0.03,0.03,0.03,0.03,0.03,0.03,0.03,0.04,0.03,0.03,0.03,0.17,0.45,0.42,0.03,0.3,0.81,0.03,0.03,0.03,0.03,0.03,0.04,0.03,0.03,0.03,0.03,0.03,0.03,0.03,0.04,0.03,1.51,0.06,0.63,0.07,0.03,0.69,0.51,0.06,0.03,0.03,0.03,0.03,0.06,0.03,0.03,0.03,0.03,0.05,0.03,0.03,0.03,0.03,0.03,0.03,0.15,0.81,0.45,0.03,0.1,0.03,0.06,0.03,0.03,0.28,0.04,0.03,0.03,0.03,0.12,0.03,0.03,0.03,0.03,0.03,0.05,0.05,0.06,0.03,4.96,0.03,0.03,0.03,0.33,0.03,0.05,0.03,0.03,0.03,0.03,0.03,0.03,0.03,0.03,0.03,0.13,0.03,0.06,0.03,0.03,0.03,0.03,0.16,0.03,0.22,0.15,0.03,0.03,0.05,0.03,0.08,0.11,0.03,0.03,0.03,1.13,0.03,0.03,0.06,0.14,0.03,0.03,0.17,0.03,0.3,0.03,0.43,0.03,0.03,0.06,0.07,0.03,0.05,0.03,0.03,0.03,0.03,0.03,0.03,0.03,0.03,0.03,0.67,0.04,0.49,0.03,0.26,0.03,0.03,0.11,0.03,0.03,0.03,0.03,0.05,0.03,1.14,0.03,0.03,0.04,0.03,0.03,0.03,0.03,0.04,0.03,0.03,0.03,0.11,0.09,0.03,0.07,0.03,0.03,0.03,0.07,0.13,0.03,0.03,0.03,0.03,0.03,0.13,0.03,0.23,0.03,0.03,0.03,0.22,0.03,0.03,0.3,0.03,0.03,0.05,0.13,0.03,0.03,0.03,0.03,0.03,0.03,0.03,0.03,0.03,0.07,0.08,1.53,0.03,0.03,0.03,0.03,0.03,0.05,0.03,0.03,0.03,0.03,0.03,0.03,0.03,0.03,0.05,0.03,0.03,0.03,0.03,0.03,0.03,0.03,0.36,0.03,0.03,0.04,0.04,0.03,0.03,0.03,0.03,0.03,0.03,0.03,0.06,0.03,0.03,0.03,0.07,0.03,0.14,0.07,0.03,0.03,0.03,0.03,0.03,0.03,0.03,0.03,0.04,0.12,0.03,0.03,0.18,0.03,0.03,0.03,0.03,0.06,0.03,0.03,0.12,0.03,0.03,0.13,0.03,0.03,0.03,0.03,0.03,0.03,0.03,0.03,0.03,0.42,0.03,0.04,0.03,0.05,0.03,0.08,0.03,0.03,0.03,0.03,0.03,0.03,0.07,0.03,0.03,0.03,0.04,0.04,0.03,0.03,0.76,0.03,0.03,0.05,0.03,0.08,0.03,0.03,0.03,3.76,0.04,0.03,0.15,0.09,0.03,0.03,0.03,0.04,0.03,0.03,0.03,0.03,0.03,0.03,0.29,0.18,0.03,0.03,0.03,0.03,0.03,0.03,0.03,0.03,0.03,0.03,0.03,0.03,0.03,0.03,0.03,0.03,0.03,0.03,0.03,0.03,0.03,0.03,0.03,0.03,0.03,0.03,0.03,0.03,0.03,0.03,0.03,0.03,0.03,0.03,0.03,0.03,0.03,0.03,0.03,0.03,0.03,0.03,0.03,0.03,0.03,0.03,0.03,0.03,0.03,1.6,0.03,0.03,0.03,0.03,0.03,0.03,0.03,0.03,0.03,0.03,0.03,0.03,0.03,0.03,0.03,0.03,0.03,0.03,0.03,0.03,0.03,0.03,0.03,0.03,0.03,0.03,0.03,0.03,0.03,0.03,0.03,0.03,0.03,0.03,0.03,0.03,0.03,0.03,0.03,0.03,0.03,0.03,0.03,0.03,0.03,0.03,0.03,0.03,0.03,0.03,0.03,0.03,0.03,0.03,0.03,0.03,0.03,0.03,0.03,0.03,0.03,0.06,0.03,0.03,0.03,0.03,0.03,0.03,0.03,0.03,0.03,0.03,0.03,0.03,0.03,0.03,0.03,0.03,0.03,0.03,0.03,0.03,0.03,0.03,0.03,0.03,0.03,0.03,0.03,0.03,0.03,0.03,0.03,0.03,0.03,0.03,0.03,0.03,0.17,0.07,0.32,0.5,0.03,0.06,0.03,0.07,0.7,0.06,0.07,0.06,0.03,0.06,0.06,0.26,0.05,0.03,0.05,0.11,0.1,0.07,0.19,0.03,0.03,0.03,0.05,0.05,0.05,0.04,0.03,0.03,0.03,0.03,0.03,0.03,0.05,0.04,0.04,0.04,0.04,0.04,0.04,0.03,0.04,0.04,0.06,0.06,0.06,0.04,0.03,0.05,0.03,0.06,0.03,0.03,0.06,0.04,0.04,0.04,0.06,0.06,0.04,3.0,0.06,0.06,0.07,0.04,0.15,1.56,0.31,0.09,0.03,0.04,0.03,0.13,0.12,0.04,0.04,0.06,0.04,0.36,0.03,0.03,0.03,0.03,0.03,0.03,0.03,0.03,0.03,0.06,0.03,0.03,0.08,0.03,0.03,0.15,0.18,0.16,0.15,0.08,0.18,0.18,0.19,0.19,0.06,0.03,0.11,0.08,0.14,0.11,0.15,0.17,0.18,0.09,0.18,0.08,0.1,0.11,0.39,0.62,0.03,0.15,0.17,0.15,0.13,0.15,0.13,0.14,0.03,0.14,0.16,0.18,0.15,0.14,0.17,0.17,0.15,0.17,0.16,0.18,0.19,0.18,0.09,0.05,0.09,0.06,0.11,0.11,0.11,0.08,0.09,0.11,0.11,0.1,0.11,0.12,0.12,0.12,0.12,0.2,0.05,0.07,0.06,0.07,0.07,0.09,0.06,0.03,0.09,0.09,1.98,0.03,0.04,0.03,0.03,0.03,0.03,0.03,0.03,0.03,0.03,0.03,0.03,0.03,0.03,0.03,0.03,0.03,0.03,0.03,0.03,0.03,0.03,0.03,0.03,0.03,0.03,0.03,0.03,0.03,0.03,0.03,0.03,0.03,0.03,0.03,0.03,0.03,0.03,0.03,0.03,0.03,0.03,0.03,0.03,0.03,0.03,0.03],\"xaxis\":\"x\",\"y\":[36,12,10,6,59,10,9,14,22,10,25,11,62,2,1,2,1,2,1,1,1,1,1,1,1,1,1,1,2,2,4,2,1,1,1,1,1,1,1,2,1,1,2,1,1,1,3,3,1,1,1,1,1,1,2,1,1,1,2,2,1,1,1,2,1,1,3,68,1,7,4,1,3,1,1,2,1,2,1,1,1,1,1,1,1,14,1,1,4,1,2,1,1,1,1,1,1,1,2,2,2,11,2,1,1,1,1,1,22,21,2,1,1,1,1,1,2,1,1,2,1,1,2,1,1,4,2,1,2,1,1,1,1,22,1,2,1,2,1,1,1,1,2,8,1,1,2,3,1,1,1,1,2,2,1,1,2,1,2,1,1,1,1,1,7,1,2,1,2,1,1,1,2,26,1,1,1,1,1,1,1,6,1,1,4,1,1,1,1,1,1,186,1,27,1,1,50,1,1,1,1,1,1,1,1,1,1,10,1,3,1,1,1,2,1,1,1,2,20,1,1,1,1,1,1,5,1,1,1,1,1,1,3,1,1,1,1,1,1,1,1,1,2,1,1,1,1,1,1,1,17079,7425,2228,28312,7859,9281,4438,9291,5485,3790,4648,5306,53095,7268,352,323,192,1,18,1,80,305,75,362,289,183,2,57,145,1519,1766,6351,76,34,66,4,592,108,115,198,744,61,88,318,67,19,15,23,125,16,498,121,332,33,274,41,203,203,349,175,298,333,84,45,29,44,340,1768,51,110,225,3230,10,109,60,370,652,180,926,1552,1369,301,312,101,100,183,143,41,60,74,191,2,22,747,1,211,274,146,176,1,115,331,31,30,268,217,63,46,27,15,1375,256,1,185,1,2,35,91,253,63,311,388,184,46,163,377,297,201,100,177,31,292,133,1,804,715,237,131,147,20,878,503,86,67,240,138,223,47,120,213,1,43,222,1,637,3,336,664,1,11,101,241,138,187,1020,590,65,5402,323,283,366,47,2,1,5,5,10,96,20,6,1,154,100,98,352,23,346,50,433,585,83,125,545,172,20,70,34,209,400,8,284,350,58,1182,7121,172,120,8,112,219,385,82,505,446,1,20,100,51,12,156,250,407,1,100,6,42,30,200,6,60,636,457,69,15,3663,4,1257,1,2,1,722,1511,682,10,31,31,11,103,53,160,26,63,612,372,705,105,270,240,650,1900,139,106,11,1,101,50,175,23,2298,40,256,1570,75,177,390,52,101,202,12,1,20,1,23,60,11,20,121,917,363,53,204,8,295,1055,652,2,1,145,100,41,4,100,1095,555,149,37,22,46,5,95,679,4,157,100,8,5,167,16,3,128,141,1378,344,10,5,432,11,131,355,103,140,228,304,659,123,117,317,3,1,206,47,71,1,758,66,79,172,69,250,32,37,23,178,390,25,26,59,81,1,226,50,20,18,314,66,17626,1064,1,451,309,38,52,10,134,1,142,3,34,227,45,1,1,1,4,3,2,5,1,1,5,1,1,1,1,1,1,1,1,1,1,2,1,21,1,1,1,1,1,2,1,2,2,4,3,1,1,1,1,1,1,1,1,1,1,1,1,7,1,1,1,1,1,1,1,1,1,1,2,2,2,1,2,1,1,1,1,2,1,1,1,2,1,1,2,1,1,1,1,1,1,1,2,10,1,1,1,1,5,2,1,1,2,1,1,1,1,1,1,1,1,1,1,2,2,1,1,1,1,1,1,1,1,3,1,2,22,3,2,1,2,1,3,1,2,2,1,1,1,1,1,1,1,1,1,1,1,1,1,2,23,1,1,1,1,1,1,1,1,1,1,3,5,1,1,2,154,14,6,10,14,1,20,2,21,15,9,3,1,3,7,16,2,13,7,10,97,4,1,9,2,2,3,1,1,1,1,22,88,1,10,4,4,33,9,8,2,1,1,3,2,1,5,1,46,8,1,13,9,2,5,1,12,23,50,52,3,2,2,13,26,7,2,1,1,1,3,2,8,27,12,11,26,2,1,1,3,1,28,3,11,7,2,1,2,3,3,6,2,2,1,1,1,1,1,1,1,1,1,1,1,1,1,3,1,1,1,1,1,1,1,1,1,1,2,3,1,1,1,1,1,1,1,1,1,1,1,2,4,1,1,1,2,2,1,1,1,1,1,1,1,1,1,1,1,1,1,1,1,1,1,2,3,1,1,1,1,1,1,1,1,1,1,1,1,1,1,1,1,1,1,1,1,1,1,1,1,1,1,1,1,1,1,1,1,1,1,2,1,1,1,1,1,1,1,1,1,1,1,1,1,1,2,1,1,1,1,1,1,1,2],\"yaxis\":\"y\",\"type\":\"bar\"}],                        {\"template\":{\"data\":{\"histogram2dcontour\":[{\"type\":\"histogram2dcontour\",\"colorbar\":{\"outlinewidth\":0,\"ticks\":\"\"},\"colorscale\":[[0.0,\"#0d0887\"],[0.1111111111111111,\"#46039f\"],[0.2222222222222222,\"#7201a8\"],[0.3333333333333333,\"#9c179e\"],[0.4444444444444444,\"#bd3786\"],[0.5555555555555556,\"#d8576b\"],[0.6666666666666666,\"#ed7953\"],[0.7777777777777778,\"#fb9f3a\"],[0.8888888888888888,\"#fdca26\"],[1.0,\"#f0f921\"]]}],\"choropleth\":[{\"type\":\"choropleth\",\"colorbar\":{\"outlinewidth\":0,\"ticks\":\"\"}}],\"histogram2d\":[{\"type\":\"histogram2d\",\"colorbar\":{\"outlinewidth\":0,\"ticks\":\"\"},\"colorscale\":[[0.0,\"#0d0887\"],[0.1111111111111111,\"#46039f\"],[0.2222222222222222,\"#7201a8\"],[0.3333333333333333,\"#9c179e\"],[0.4444444444444444,\"#bd3786\"],[0.5555555555555556,\"#d8576b\"],[0.6666666666666666,\"#ed7953\"],[0.7777777777777778,\"#fb9f3a\"],[0.8888888888888888,\"#fdca26\"],[1.0,\"#f0f921\"]]}],\"heatmap\":[{\"type\":\"heatmap\",\"colorbar\":{\"outlinewidth\":0,\"ticks\":\"\"},\"colorscale\":[[0.0,\"#0d0887\"],[0.1111111111111111,\"#46039f\"],[0.2222222222222222,\"#7201a8\"],[0.3333333333333333,\"#9c179e\"],[0.4444444444444444,\"#bd3786\"],[0.5555555555555556,\"#d8576b\"],[0.6666666666666666,\"#ed7953\"],[0.7777777777777778,\"#fb9f3a\"],[0.8888888888888888,\"#fdca26\"],[1.0,\"#f0f921\"]]}],\"heatmapgl\":[{\"type\":\"heatmapgl\",\"colorbar\":{\"outlinewidth\":0,\"ticks\":\"\"},\"colorscale\":[[0.0,\"#0d0887\"],[0.1111111111111111,\"#46039f\"],[0.2222222222222222,\"#7201a8\"],[0.3333333333333333,\"#9c179e\"],[0.4444444444444444,\"#bd3786\"],[0.5555555555555556,\"#d8576b\"],[0.6666666666666666,\"#ed7953\"],[0.7777777777777778,\"#fb9f3a\"],[0.8888888888888888,\"#fdca26\"],[1.0,\"#f0f921\"]]}],\"contourcarpet\":[{\"type\":\"contourcarpet\",\"colorbar\":{\"outlinewidth\":0,\"ticks\":\"\"}}],\"contour\":[{\"type\":\"contour\",\"colorbar\":{\"outlinewidth\":0,\"ticks\":\"\"},\"colorscale\":[[0.0,\"#0d0887\"],[0.1111111111111111,\"#46039f\"],[0.2222222222222222,\"#7201a8\"],[0.3333333333333333,\"#9c179e\"],[0.4444444444444444,\"#bd3786\"],[0.5555555555555556,\"#d8576b\"],[0.6666666666666666,\"#ed7953\"],[0.7777777777777778,\"#fb9f3a\"],[0.8888888888888888,\"#fdca26\"],[1.0,\"#f0f921\"]]}],\"surface\":[{\"type\":\"surface\",\"colorbar\":{\"outlinewidth\":0,\"ticks\":\"\"},\"colorscale\":[[0.0,\"#0d0887\"],[0.1111111111111111,\"#46039f\"],[0.2222222222222222,\"#7201a8\"],[0.3333333333333333,\"#9c179e\"],[0.4444444444444444,\"#bd3786\"],[0.5555555555555556,\"#d8576b\"],[0.6666666666666666,\"#ed7953\"],[0.7777777777777778,\"#fb9f3a\"],[0.8888888888888888,\"#fdca26\"],[1.0,\"#f0f921\"]]}],\"mesh3d\":[{\"type\":\"mesh3d\",\"colorbar\":{\"outlinewidth\":0,\"ticks\":\"\"}}],\"scatter\":[{\"fillpattern\":{\"fillmode\":\"overlay\",\"size\":10,\"solidity\":0.2},\"type\":\"scatter\"}],\"parcoords\":[{\"type\":\"parcoords\",\"line\":{\"colorbar\":{\"outlinewidth\":0,\"ticks\":\"\"}}}],\"scatterpolargl\":[{\"type\":\"scatterpolargl\",\"marker\":{\"colorbar\":{\"outlinewidth\":0,\"ticks\":\"\"}}}],\"bar\":[{\"error_x\":{\"color\":\"#2a3f5f\"},\"error_y\":{\"color\":\"#2a3f5f\"},\"marker\":{\"line\":{\"color\":\"#E5ECF6\",\"width\":0.5},\"pattern\":{\"fillmode\":\"overlay\",\"size\":10,\"solidity\":0.2}},\"type\":\"bar\"}],\"scattergeo\":[{\"type\":\"scattergeo\",\"marker\":{\"colorbar\":{\"outlinewidth\":0,\"ticks\":\"\"}}}],\"scatterpolar\":[{\"type\":\"scatterpolar\",\"marker\":{\"colorbar\":{\"outlinewidth\":0,\"ticks\":\"\"}}}],\"histogram\":[{\"marker\":{\"pattern\":{\"fillmode\":\"overlay\",\"size\":10,\"solidity\":0.2}},\"type\":\"histogram\"}],\"scattergl\":[{\"type\":\"scattergl\",\"marker\":{\"colorbar\":{\"outlinewidth\":0,\"ticks\":\"\"}}}],\"scatter3d\":[{\"type\":\"scatter3d\",\"line\":{\"colorbar\":{\"outlinewidth\":0,\"ticks\":\"\"}},\"marker\":{\"colorbar\":{\"outlinewidth\":0,\"ticks\":\"\"}}}],\"scattermapbox\":[{\"type\":\"scattermapbox\",\"marker\":{\"colorbar\":{\"outlinewidth\":0,\"ticks\":\"\"}}}],\"scatterternary\":[{\"type\":\"scatterternary\",\"marker\":{\"colorbar\":{\"outlinewidth\":0,\"ticks\":\"\"}}}],\"scattercarpet\":[{\"type\":\"scattercarpet\",\"marker\":{\"colorbar\":{\"outlinewidth\":0,\"ticks\":\"\"}}}],\"carpet\":[{\"aaxis\":{\"endlinecolor\":\"#2a3f5f\",\"gridcolor\":\"white\",\"linecolor\":\"white\",\"minorgridcolor\":\"white\",\"startlinecolor\":\"#2a3f5f\"},\"baxis\":{\"endlinecolor\":\"#2a3f5f\",\"gridcolor\":\"white\",\"linecolor\":\"white\",\"minorgridcolor\":\"white\",\"startlinecolor\":\"#2a3f5f\"},\"type\":\"carpet\"}],\"table\":[{\"cells\":{\"fill\":{\"color\":\"#EBF0F8\"},\"line\":{\"color\":\"white\"}},\"header\":{\"fill\":{\"color\":\"#C8D4E3\"},\"line\":{\"color\":\"white\"}},\"type\":\"table\"}],\"barpolar\":[{\"marker\":{\"line\":{\"color\":\"#E5ECF6\",\"width\":0.5},\"pattern\":{\"fillmode\":\"overlay\",\"size\":10,\"solidity\":0.2}},\"type\":\"barpolar\"}],\"pie\":[{\"automargin\":true,\"type\":\"pie\"}]},\"layout\":{\"autotypenumbers\":\"strict\",\"colorway\":[\"#636efa\",\"#EF553B\",\"#00cc96\",\"#ab63fa\",\"#FFA15A\",\"#19d3f3\",\"#FF6692\",\"#B6E880\",\"#FF97FF\",\"#FECB52\"],\"font\":{\"color\":\"#2a3f5f\"},\"hovermode\":\"closest\",\"hoverlabel\":{\"align\":\"left\"},\"paper_bgcolor\":\"white\",\"plot_bgcolor\":\"#E5ECF6\",\"polar\":{\"bgcolor\":\"#E5ECF6\",\"angularaxis\":{\"gridcolor\":\"white\",\"linecolor\":\"white\",\"ticks\":\"\"},\"radialaxis\":{\"gridcolor\":\"white\",\"linecolor\":\"white\",\"ticks\":\"\"}},\"ternary\":{\"bgcolor\":\"#E5ECF6\",\"aaxis\":{\"gridcolor\":\"white\",\"linecolor\":\"white\",\"ticks\":\"\"},\"baxis\":{\"gridcolor\":\"white\",\"linecolor\":\"white\",\"ticks\":\"\"},\"caxis\":{\"gridcolor\":\"white\",\"linecolor\":\"white\",\"ticks\":\"\"}},\"coloraxis\":{\"colorbar\":{\"outlinewidth\":0,\"ticks\":\"\"}},\"colorscale\":{\"sequential\":[[0.0,\"#0d0887\"],[0.1111111111111111,\"#46039f\"],[0.2222222222222222,\"#7201a8\"],[0.3333333333333333,\"#9c179e\"],[0.4444444444444444,\"#bd3786\"],[0.5555555555555556,\"#d8576b\"],[0.6666666666666666,\"#ed7953\"],[0.7777777777777778,\"#fb9f3a\"],[0.8888888888888888,\"#fdca26\"],[1.0,\"#f0f921\"]],\"sequentialminus\":[[0.0,\"#0d0887\"],[0.1111111111111111,\"#46039f\"],[0.2222222222222222,\"#7201a8\"],[0.3333333333333333,\"#9c179e\"],[0.4444444444444444,\"#bd3786\"],[0.5555555555555556,\"#d8576b\"],[0.6666666666666666,\"#ed7953\"],[0.7777777777777778,\"#fb9f3a\"],[0.8888888888888888,\"#fdca26\"],[1.0,\"#f0f921\"]],\"diverging\":[[0,\"#8e0152\"],[0.1,\"#c51b7d\"],[0.2,\"#de77ae\"],[0.3,\"#f1b6da\"],[0.4,\"#fde0ef\"],[0.5,\"#f7f7f7\"],[0.6,\"#e6f5d0\"],[0.7,\"#b8e186\"],[0.8,\"#7fbc41\"],[0.9,\"#4d9221\"],[1,\"#276419\"]]},\"xaxis\":{\"gridcolor\":\"white\",\"linecolor\":\"white\",\"ticks\":\"\",\"title\":{\"standoff\":15},\"zerolinecolor\":\"white\",\"automargin\":true,\"zerolinewidth\":2},\"yaxis\":{\"gridcolor\":\"white\",\"linecolor\":\"white\",\"ticks\":\"\",\"title\":{\"standoff\":15},\"zerolinecolor\":\"white\",\"automargin\":true,\"zerolinewidth\":2},\"scene\":{\"xaxis\":{\"backgroundcolor\":\"#E5ECF6\",\"gridcolor\":\"white\",\"linecolor\":\"white\",\"showbackground\":true,\"ticks\":\"\",\"zerolinecolor\":\"white\",\"gridwidth\":2},\"yaxis\":{\"backgroundcolor\":\"#E5ECF6\",\"gridcolor\":\"white\",\"linecolor\":\"white\",\"showbackground\":true,\"ticks\":\"\",\"zerolinecolor\":\"white\",\"gridwidth\":2},\"zaxis\":{\"backgroundcolor\":\"#E5ECF6\",\"gridcolor\":\"white\",\"linecolor\":\"white\",\"showbackground\":true,\"ticks\":\"\",\"zerolinecolor\":\"white\",\"gridwidth\":2}},\"shapedefaults\":{\"line\":{\"color\":\"#2a3f5f\"}},\"annotationdefaults\":{\"arrowcolor\":\"#2a3f5f\",\"arrowhead\":0,\"arrowwidth\":1},\"geo\":{\"bgcolor\":\"white\",\"landcolor\":\"#E5ECF6\",\"subunitcolor\":\"white\",\"showland\":true,\"showlakes\":true,\"lakecolor\":\"white\"},\"title\":{\"x\":0.05},\"mapbox\":{\"style\":\"light\"}}},\"xaxis\":{\"anchor\":\"y\",\"domain\":[0.0,1.0],\"title\":{\"text\":\"price\"}},\"yaxis\":{\"anchor\":\"x\",\"domain\":[0.0,1.0],\"title\":{\"text\":\"amount\"}},\"legend\":{\"tracegroupgap\":0},\"margin\":{\"t\":60},\"barmode\":\"relative\"},                        {\"responsive\": true}                    ).then(function(){\n",
       "                            \n",
       "var gd = document.getElementById('0250f604-20e6-43b8-970a-7a62a2cb2a77');\n",
       "var x = new MutationObserver(function (mutations, observer) {{\n",
       "        var display = window.getComputedStyle(gd).display;\n",
       "        if (!display || display === 'none') {{\n",
       "            console.log([gd, 'removed!']);\n",
       "            Plotly.purge(gd);\n",
       "            observer.disconnect();\n",
       "        }}\n",
       "}});\n",
       "\n",
       "// Listen for the removal of the full notebook cells\n",
       "var notebookContainer = gd.closest('#notebook-container');\n",
       "if (notebookContainer) {{\n",
       "    x.observe(notebookContainer, {childList: true});\n",
       "}}\n",
       "\n",
       "// Listen for the clearing of the current output cell\n",
       "var outputEl = gd.closest('.output');\n",
       "if (outputEl) {{\n",
       "    x.observe(outputEl, {childList: true});\n",
       "}}\n",
       "\n",
       "                        })                };                });            </script>        </div>"
      ]
     },
     "metadata": {},
     "output_type": "display_data"
    }
   ],
   "source": [
    "#new_df = df.apply()\n",
    "\n",
    "fig = df[:1000][[\"price\", \"amount\"]].plot.bar(x=\"price\", y=\"amount\")\n",
    "fig.show()"
   ]
  },
  {
   "cell_type": "code",
   "execution_count": 2,
   "id": "095b1451",
   "metadata": {},
   "outputs": [
    {
     "name": "stderr",
     "output_type": "stream",
     "text": [
      "C:\\Users\\User\\AppData\\Local\\pypoetry\\Cache\\virtualenvs\\steam-trade-bot-sZAdFImE-py3.10\\lib\\site-packages\\pyspark\\sql\\context.py:112: FutureWarning: Deprecated in 3.0.0. Use SparkSession.builder.getOrCreate() instead.\n",
      "  warnings.warn(\n"
     ]
    }
   ],
   "source": [
    "from pyspark.sql import SparkSession\n",
    "from pyspark.sql import SQLContext\n",
    "\n",
    "spark = SparkSession.builder \\\n",
    "    .master('local[6]') \\\n",
    "    .appName('myAppName') \\\n",
    "    .config(\"spark.driver.memory\", \"10g\") \\\n",
    "    .config('spark.executor.memory', '10g') \\\n",
    "    .config(\"spark.cores.max\", \"6\") \\\n",
    "    .getOrCreate()\n",
    "\n",
    "sc = spark.sparkContext\n",
    "sqlContext = SQLContext(sc)"
   ]
  },
  {
   "cell_type": "code",
   "execution_count": 13,
   "id": "67b936b9",
   "metadata": {},
   "outputs": [],
   "source": [
    "parquet_files = []\n",
    "for root, dirs, files in os.walk('parquet/'):\n",
    "    for file in files:\n",
    "        if file.endswith(\".parquet\"):\n",
    "            parquet_files.append(f\"{root}/{file}\")\n",
    "#df = spark.read.parquet(*parquet_files)\n",
    "df = sqlContext.read.parquet(*parquet_files)"
   ]
  },
  {
   "cell_type": "code",
   "execution_count": 14,
   "id": "37d9d97b",
   "metadata": {},
   "outputs": [],
   "source": [
    "rdd = df.rdd"
   ]
  },
  {
   "cell_type": "code",
   "execution_count": 10,
   "id": "b189b7e2",
   "metadata": {},
   "outputs": [
    {
     "data": {
      "text/plain": [
       "12725731"
      ]
     },
     "execution_count": 10,
     "metadata": {},
     "output_type": "execute_result"
    }
   ],
   "source": [
    "rdd.count()"
   ]
  },
  {
   "cell_type": "code",
   "execution_count": 6,
   "id": "fd861a7b",
   "metadata": {},
   "outputs": [
    {
     "data": {
      "text/plain": [
       "[Row(index=379671, app_id=753, market_hash_name='307070-The Main Hero (Initial Look)', timestamp='2014-12-31 01:00:00', price=0.03, amount=11),\n",
       " Row(index=379670, app_id=753, market_hash_name='307070-The Main Hero (Initial Look)', timestamp='2014-12-29 01:00:00', price=0.03, amount=2),\n",
       " Row(index=379669, app_id=753, market_hash_name='307070-The Main Hero (Initial Look)', timestamp='2014-12-17 01:00:00', price=0.03, amount=3),\n",
       " Row(index=379668, app_id=753, market_hash_name='307070-The Main Hero (Initial Look)', timestamp='2014-12-16 01:00:00', price=0.03, amount=3),\n",
       " Row(index=379667, app_id=753, market_hash_name='307070-The Main Hero (Initial Look)', timestamp='2014-12-15 01:00:00', price=0.03, amount=7)]"
      ]
     },
     "execution_count": 6,
     "metadata": {},
     "output_type": "execute_result"
    }
   ],
   "source": [
    "minirdd = rdd.top(5)\n",
    "minirdd"
   ]
  },
  {
   "cell_type": "code",
   "execution_count": 19,
   "id": "14de90ba",
   "metadata": {},
   "outputs": [],
   "source": [
    "mhn_price = rdd.map(lambda x: (x.market_hash_name, (x.price, x.amount)))\n",
    "mhn_volume = mhn_price.mapValues(lambda x: x[0] * x[1])\n",
    "mhn_volume = mhn_volume.reduceByKey(lambda x, y: round(x + y, 2))\n",
    "mhn_sorted = mhn_volume.sortBy(lambda x: -x[1])\n",
    "mhn_sorted_r = mhn_volume.sortBy(lambda x: x[1])\n",
    "#mhn_amount_sorted = mhn_price.mapValues(lambda x: x[1]).reduceByKey(lambda x, y: x + y).sortBy(lambda x: -x[1])\n",
    "# mhn_price_max_sorted = mhn_price.mapValues(lambda x: x[0]).reduceByKey(lambda x, y: max(x, y)).sortBy(lambda x: -x[1])"
   ]
  },
  {
   "cell_type": "code",
   "execution_count": 20,
   "id": "28fbc526",
   "metadata": {},
   "outputs": [
    {
     "data": {
      "text/plain": [
       "[('Nerd Glasses (Medium Slate Blue)', 0.06),\n",
       " ('1120320-:Trowel:', 0.06),\n",
       " ('1907900-:halftimemonk:', 0.06),\n",
       " ('384100-:roboflak:', 0.06),\n",
       " ('PKM - Savanna', 0.06),\n",
       " ('M9 - Savanna', 0.06),\n",
       " ('569870-Elite', 0.06),\n",
       " ('464260-:xcgrenade:', 0.06),\n",
       " ('1051960-:fpbwiggle:', 0.06),\n",
       " ('Farthing | cpbiTa', 0.06),\n",
       " ('Florin - Two Shillings | cmVNEY', 0.06),\n",
       " ('1086850-:omgblowbird:', 0.06),\n",
       " ('645320-:hyke:', 0.06),\n",
       " ('431120-:peephero:', 0.06),\n",
       " ('Grano | cnTXCa', 0.06),\n",
       " ('New Penny | cjRGSg', 0.06),\n",
       " ('Scorpion - Autumn', 0.06),\n",
       " ('1-2 Mark | canELv', 0.06),\n",
       " ('5 Pfennig | cWQfWA', 0.06),\n",
       " ('Festivized Plaid Potshotter Mk.II Winger (Well-Worn)', 0.06),\n",
       " ('20 Centesimi | cfDqhd', 0.06),\n",
       " ('564100-:smartkid:', 0.06),\n",
       " ('982290-Tapestry', 0.06),\n",
       " ('Dime | cuWtbp', 0.06),\n",
       " ('1325900-Forktown', 0.06),\n",
       " ('1146170-:winkwinkkingsim:', 0.06),\n",
       " ('1465510-:d82duskdude:', 0.06),\n",
       " ('1-2 Penny | cDSThm', 0.06),\n",
       " ('Bu - Ichibu | cKlbGB', 0.06),\n",
       " ('10 Zlotych | c11173', 0.06),\n",
       " (\"People's Car (Fast-Sale)\", 0.06),\n",
       " ('Wool Hat (Pink)', 0.06),\n",
       " ('1074070-:unlockD2E:', 0.06),\n",
       " ('682450-:strelka_slam:', 0.06),\n",
       " ('1076620-:panenka:', 0.06),\n",
       " (\"1253580-Let's take a stroll\", 0.06),\n",
       " ('1435780-:FFteddy:', 0.06),\n",
       " ('1028350-:scootvac:', 0.06),\n",
       " ('761910-:wrb_Sane_Angry:', 0.06),\n",
       " ('485400-:ammofind:', 0.06),\n",
       " ('6 Pence | cEEYFD', 0.06),\n",
       " ('RPG-7 - Autumn', 0.06),\n",
       " ('1435780-Freshly baked', 0.06),\n",
       " ('Unpolished Silver', 0.06),\n",
       " ('4 Ducat | cQjHoO', 0.06),\n",
       " ('Shu - Isshu Gin | cRftQx', 0.06),\n",
       " ('10 New Pence | cBDhbl', 0.06),\n",
       " ('1125480-:kskh:', 0.06),\n",
       " ('Farthing | cChRFE', 0.06),\n",
       " ('6 Pence | cTTaOS', 0.06),\n",
       " ('Groschen | cEsjXg', 0.06),\n",
       " ('20 Sen | cOSpqG', 0.06),\n",
       " ('3 Pence | cuvfkS', 0.06),\n",
       " ('Domino Hat (Purple)', 0.06),\n",
       " ('Marine Teal Sword', 0.06),\n",
       " ('494430-Thrall Background', 0.06),\n",
       " ('924780-:myana:', 0.06),\n",
       " ('2 Lire | cfWXUF', 0.06),\n",
       " ('6 Pence | cLfPJy', 0.06),\n",
       " ('6 Pence | cXBgcp', 0.06),\n",
       " ('1673630-Marcus versus Sefar', 0.06),\n",
       " ('526980-:goldentrophy:', 0.06),\n",
       " ('864700-Double Dino Background', 0.06),\n",
       " ('1-2 Crown | cVhnPX', 0.06),\n",
       " ('1358530-:harrowingwalk:', 0.06),\n",
       " ('Shilling | ctfKJc', 0.06),\n",
       " ('1588380-METAL CERBEBOSS (Profile Background)', 0.06),\n",
       " ('1496320-Experiment', 0.06),\n",
       " ('Farmboy Billy Vest', 0.06),\n",
       " ('1-2 New Penny | cbLXuX', 0.06),\n",
       " ('5 Centimes | cOXUdj', 0.06),\n",
       " ('5 New Pence | cIXGvp', 0.06),\n",
       " ('6 Pence | cesngW', 0.06),\n",
       " ('Crown | cPvibn', 0.06),\n",
       " ('Shilling | cyvWyw', 0.06),\n",
       " ('543410-:chgdrone:', 0.06),\n",
       " ('757310-Desert Glider', 0.06),\n",
       " ('Ninjin Orange Sword', 0.06),\n",
       " ('1340640-Banydebosc Family Background', 0.06),\n",
       " ('830370-:laz:', 0.06),\n",
       " ('If I Could Fly Sword', 0.06),\n",
       " ('436070-:NadiaAnnoyed:', 0.06),\n",
       " ('Rin | cfYxOP', 0.06),\n",
       " ('Yellow Pool Cue w- Killcounter', 0.06),\n",
       " ('5 Kopeks | cwkvcU', 0.06),\n",
       " ('1-2 ECU - 45 Sols | cPMBvC', 0.06),\n",
       " ('1968820-:OnlyFurry_3:', 0.06),\n",
       " ('50 Sen | csYOdJ', 0.06),\n",
       " ('Shu - Isshu Gin | cMgOBW', 0.06),\n",
       " ('682140-Backyard', 0.06),\n",
       " ('6 Pence | cnIdYi', 0.06),\n",
       " ('Rouble | cDloaU', 0.06),\n",
       " ('Makarov - Swamp', 0.06),\n",
       " ('Zloty | c10551', 0.06),\n",
       " ('591760-:hbt_Ti:', 0.06),\n",
       " ('1444350-:peeping:', 0.06),\n",
       " ('1904860-:LKRRage:', 0.06),\n",
       " ('616890-:fielder:', 0.06),\n",
       " ('Scar-H - Digital Desert', 0.06),\n",
       " ('1211110-:SBDaisy:', 0.06)]"
      ]
     },
     "execution_count": 20,
     "metadata": {},
     "output_type": "execute_result"
    }
   ],
   "source": [
    "mhn_sorted_r.take(100)\n"
   ]
  },
  {
   "cell_type": "code",
   "execution_count": 4,
   "id": "309ca344",
   "metadata": {},
   "outputs": [],
   "source": [
    "df.createOrReplaceTempView(\"history\")"
   ]
  },
  {
   "cell_type": "code",
   "execution_count": null,
   "id": "6b49a0a2",
   "metadata": {},
   "outputs": [],
   "source": [
    "\n",
    "parkSQL = spark.sql(\"select * from history where price >= 100 and amount > 10 order by timestamp asc\")\n",
    "parkSQL.show()"
   ]
  },
  {
   "cell_type": "code",
   "execution_count": 17,
   "id": "16e1909b",
   "metadata": {},
   "outputs": [
    {
     "name": "stdout",
     "output_type": "stream",
     "text": [
      "+---------------------+\n",
      "|sum((price * amount))|\n",
      "+---------------------+\n",
      "|  6.078173603628149E9|\n",
      "+---------------------+\n",
      "\n"
     ]
    }
   ],
   "source": [
    "parkSQL = spark.sql(\"select sum(price * amount) from history\")\n",
    "parkSQL.show()"
   ]
  },
  {
   "cell_type": "code",
   "execution_count": 18,
   "id": "68702dbf",
   "metadata": {},
   "outputs": [
    {
     "data": {
      "text/plain": [
       "790162568.39"
      ]
     },
     "execution_count": 18,
     "metadata": {},
     "output_type": "execute_result"
    }
   ],
   "source": [
    "6078173603 * 0.13"
   ]
  },
  {
   "cell_type": "code",
   "execution_count": 19,
   "id": "f18d1271",
   "metadata": {},
   "outputs": [
    {
     "name": "stdout",
     "output_type": "stream",
     "text": [
      "+-----------+\n",
      "|sum(amount)|\n",
      "+-----------+\n",
      "| 8385157278|\n",
      "+-----------+\n",
      "\n"
     ]
    }
   ],
   "source": [
    "parkSQL = spark.sql(\"select sum(amount) from history\")\n",
    "parkSQL.show()"
   ]
  },
  {
   "cell_type": "code",
   "execution_count": 20,
   "id": "93d54840",
   "metadata": {},
   "outputs": [
    {
     "name": "stdout",
     "output_type": "stream",
     "text": [
      "+---------------------+-----------+\n",
      "|sum((price * amount))|sum(amount)|\n",
      "+---------------------+-----------+\n",
      "|  4.246101903730945E9| 4269578286|\n",
      "+---------------------+-----------+\n",
      "\n"
     ]
    }
   ],
   "source": [
    "parkSQL = spark.sql(\"select sum(price * amount), sum(amount) from history where app_id = 730\")\n",
    "parkSQL.show()"
   ]
  },
  {
   "cell_type": "code",
   "execution_count": 22,
   "id": "59f57e87",
   "metadata": {
    "scrolled": true
   },
   "outputs": [
    {
     "name": "stdout",
     "output_type": "stream",
     "text": [
      "+---------------------+-----------+\n",
      "|sum((price * amount))|sum(amount)|\n",
      "+---------------------+-----------+\n",
      "|  8.883784525308354E8|  931933185|\n",
      "+---------------------+-----------+\n",
      "\n"
     ]
    }
   ],
   "source": [
    "parkSQL = spark.sql(\"select sum(price * amount), sum(amount) from history where app_id = 570\")\n",
    "parkSQL.show()"
   ]
  },
  {
   "cell_type": "code",
   "execution_count": 24,
   "id": "a17b2f43",
   "metadata": {},
   "outputs": [
    {
     "name": "stdout",
     "output_type": "stream",
     "text": [
      "+---------------------+-----------+\n",
      "|sum((price * amount))|sum(amount)|\n",
      "+---------------------+-----------+\n",
      "| 2.4895009611998528E8|  222003330|\n",
      "+---------------------+-----------+\n",
      "\n"
     ]
    }
   ],
   "source": [
    "parkSQL = spark.sql(\"select sum(price * amount), sum(amount) from history where app_id = 440\")\n",
    "parkSQL.show()"
   ]
  },
  {
   "cell_type": "code",
   "execution_count": 25,
   "id": "254dc7da",
   "metadata": {},
   "outputs": [
    {
     "data": {
      "text/plain": [
       "32363512.4956"
      ]
     },
     "execution_count": 25,
     "metadata": {},
     "output_type": "execute_result"
    }
   ],
   "source": [
    "248950096.12 * 0.13"
   ]
  },
  {
   "cell_type": "code",
   "execution_count": 39,
   "id": "26f6fd24",
   "metadata": {},
   "outputs": [
    {
     "name": "stdout",
     "output_type": "stream",
     "text": [
      "+------------------------------+------------+\n",
      "|market_hash_name              |total_amount|\n",
      "+------------------------------+------------+\n",
      "|Clutch Case                   |134768975   |\n",
      "|Gamma 2 Case                  |121917096   |\n",
      "|Chroma 3 Case                 |101683679   |\n",
      "|Danger Zone Case              |96496214    |\n",
      "|Operation Breakout Weapon Case|90903986    |\n",
      "+------------------------------+------------+\n",
      "\n"
     ]
    }
   ],
   "source": [
    "parkSQL = spark.sql(\"select market_hash_name, sum(amount) as total_amount from history where app_id = 730 group by market_hash_name order by total_amount desc limit 5\")\n",
    "parkSQL.show(20, False)"
   ]
  },
  {
   "cell_type": "code",
   "execution_count": 40,
   "id": "0f7d7ee5",
   "metadata": {},
   "outputs": [
    {
     "name": "stdout",
     "output_type": "stream",
     "text": [
      "+------------------------------+------------+\n",
      "|market_hash_name              |total_amount|\n",
      "+------------------------------+------------+\n",
      "|Hallowed Chest of the Diretide|11794539    |\n",
      "|Siltbreaker Reward            |2224732     |\n",
      "|Mantle of the Cinder Baron    |1282196     |\n",
      "|Controlled Burn               |1275757     |\n",
      "|Artificer's Hammer            |1272289     |\n",
      "+------------------------------+------------+\n",
      "\n"
     ]
    }
   ],
   "source": [
    "parkSQL = spark.sql(\"select market_hash_name, sum(amount) as total_amount from history where app_id = 570 group by market_hash_name order by total_amount desc limit 5\")\n",
    "parkSQL.show(20, False)"
   ]
  },
  {
   "cell_type": "code",
   "execution_count": 41,
   "id": "0992bf70",
   "metadata": {},
   "outputs": [
    {
     "name": "stdout",
     "output_type": "stream",
     "text": [
      "+---------------------------------+------------+\n",
      "|market_hash_name                 |total_amount|\n",
      "+---------------------------------+------------+\n",
      "|Mann Co. Supply Crate Key        |28881345    |\n",
      "|Battle-Worn Robot Taunt Processor|4709385     |\n",
      "|Battle-Worn Robot KB-808         |4635508     |\n",
      "|Battle-Worn Robot Money Furnace  |4611231     |\n",
      "|Tour of Duty Ticket              |4604275     |\n",
      "+---------------------------------+------------+\n",
      "\n"
     ]
    }
   ],
   "source": [
    "parkSQL = spark.sql(\"select market_hash_name, sum(amount) as total_amount from history where app_id = 440 group by market_hash_name order by total_amount desc limit 5\")\n",
    "parkSQL.show(20, False)"
   ]
  },
  {
   "cell_type": "code",
   "execution_count": 44,
   "id": "ad553305",
   "metadata": {},
   "outputs": [
    {
     "name": "stdout",
     "output_type": "stream",
     "text": [
      "+-------------------+------------------+-----------------+\n",
      "|timestamp          |total_volume      |fee              |\n",
      "+-------------------+------------------+-----------------+\n",
      "|2021-09-22 01:00:00|5595612.30000001  |727429.5990000013|\n",
      "|2020-12-04 01:00:00|5025082.020000035 |653260.6626000046|\n",
      "|2021-05-04 01:00:00|4930515.999999973 |640967.0799999965|\n",
      "|2021-01-28 01:00:00|4364076.779999953 |567329.9813999939|\n",
      "|2015-09-18 01:00:00|4246357.219999996 |552026.4385999995|\n",
      "|2021-04-09 01:00:00|4126482.100000013 |536442.6730000017|\n",
      "|2021-04-07 01:00:00|3804807.1200000015|494624.9256000002|\n",
      "|2015-05-27 01:00:00|3747518.5400000145|487177.4102000019|\n",
      "|2015-09-19 01:00:00|3728345.5200000084|484684.9176000011|\n",
      "|2021-06-04 01:00:00|3705929.7800000147|481770.8714000019|\n",
      "+-------------------+------------------+-----------------+\n",
      "\n"
     ]
    }
   ],
   "source": [
    "parkSQL = spark.sql(\"select timestamp, sum(price * amount) as total_volume, sum(price * amount)*0.13 as fee from history where app_id = 730 group by timestamp order by total_volume desc limit 10\")\n",
    "parkSQL.show(20, False)"
   ]
  },
  {
   "cell_type": "code",
   "execution_count": 6,
   "id": "9f169669",
   "metadata": {},
   "outputs": [
    {
     "name": "stderr",
     "output_type": "stream",
     "text": [
      "C:\\Users\\User\\AppData\\Local\\pypoetry\\Cache\\virtualenvs\\steam-trade-bot-sZAdFImE-py3.10\\lib\\site-packages\\pyspark\\sql\\context.py:112: FutureWarning: Deprecated in 3.0.0. Use SparkSession.builder.getOrCreate() instead.\n",
      "  warnings.warn(\n"
     ]
    }
   ],
   "source": [
    "sc = spark.sparkContext\n",
    "\n",
    "# using SQLContext to read parquet file\n",
    "from pyspark.sql import SQLContext\n",
    "sqlContext = SQLContext(sc)\n",
    "parquet_files = []\n",
    "for root, dirs, files in os.walk('parquet/'):\n",
    "    for file in files:\n",
    "        if file.endswith(\".parquet\"):\n",
    "            parquet_files.append(f\"{root}/{file}\")\n",
    "# read parquet file\n",
    "df = sqlContext.read.parquet(parquet_files[0])"
   ]
  },
  {
   "cell_type": "code",
   "execution_count": 7,
   "id": "7c3ee37d",
   "metadata": {},
   "outputs": [],
   "source": [
    "count_data=df.rdd.groupByKey()"
   ]
  },
  {
   "cell_type": "code",
   "execution_count": 8,
   "id": "c14913db",
   "metadata": {},
   "outputs": [
    {
     "ename": "Py4JJavaError",
     "evalue": "An error occurred while calling z:org.apache.spark.api.python.PythonRDD.collectAndServe.\n: org.apache.spark.SparkException: Job aborted due to stage failure: Task 0 in stage 1.0 failed 1 times, most recent failure: Lost task 0.0 in stage 1.0 (TID 1) (DESKTOP-FT79Q2M executor driver): org.apache.spark.SparkException: Python worker failed to connect back.\r\n\tat org.apache.spark.api.python.PythonWorkerFactory.createSimpleWorker(PythonWorkerFactory.scala:189)\r\n\tat org.apache.spark.api.python.PythonWorkerFactory.create(PythonWorkerFactory.scala:109)\r\n\tat org.apache.spark.SparkEnv.createPythonWorker(SparkEnv.scala:124)\r\n\tat org.apache.spark.api.python.BasePythonRunner.compute(PythonRunner.scala:164)\r\n\tat org.apache.spark.api.python.PythonRDD.compute(PythonRDD.scala:65)\r\n\tat org.apache.spark.rdd.RDD.computeOrReadCheckpoint(RDD.scala:365)\r\n\tat org.apache.spark.rdd.RDD.iterator(RDD.scala:329)\r\n\tat org.apache.spark.api.python.PairwiseRDD.compute(PythonRDD.scala:115)\r\n\tat org.apache.spark.rdd.RDD.computeOrReadCheckpoint(RDD.scala:365)\r\n\tat org.apache.spark.rdd.RDD.iterator(RDD.scala:329)\r\n\tat org.apache.spark.shuffle.ShuffleWriteProcessor.write(ShuffleWriteProcessor.scala:59)\r\n\tat org.apache.spark.scheduler.ShuffleMapTask.runTask(ShuffleMapTask.scala:99)\r\n\tat org.apache.spark.scheduler.ShuffleMapTask.runTask(ShuffleMapTask.scala:52)\r\n\tat org.apache.spark.scheduler.Task.run(Task.scala:136)\r\n\tat org.apache.spark.executor.Executor$TaskRunner.$anonfun$run$3(Executor.scala:548)\r\n\tat org.apache.spark.util.Utils$.tryWithSafeFinally(Utils.scala:1504)\r\n\tat org.apache.spark.executor.Executor$TaskRunner.run(Executor.scala:551)\r\n\tat java.base/java.util.concurrent.ThreadPoolExecutor.runWorker(ThreadPoolExecutor.java:1130)\r\n\tat java.base/java.util.concurrent.ThreadPoolExecutor$Worker.run(ThreadPoolExecutor.java:630)\r\n\tat java.base/java.lang.Thread.run(Thread.java:831)\r\nCaused by: java.net.SocketTimeoutException: Accept timed out\r\n\tat java.base/sun.nio.ch.NioSocketImpl.timedAccept(NioSocketImpl.java:708)\r\n\tat java.base/sun.nio.ch.NioSocketImpl.accept(NioSocketImpl.java:752)\r\n\tat java.base/java.net.ServerSocket.implAccept(ServerSocket.java:681)\r\n\tat java.base/java.net.ServerSocket.platformImplAccept(ServerSocket.java:647)\r\n\tat java.base/java.net.ServerSocket.implAccept(ServerSocket.java:623)\r\n\tat java.base/java.net.ServerSocket.implAccept(ServerSocket.java:580)\r\n\tat java.base/java.net.ServerSocket.accept(ServerSocket.java:538)\r\n\tat org.apache.spark.api.python.PythonWorkerFactory.createSimpleWorker(PythonWorkerFactory.scala:176)\r\n\t... 19 more\r\n\nDriver stacktrace:\r\n\tat org.apache.spark.scheduler.DAGScheduler.failJobAndIndependentStages(DAGScheduler.scala:2672)\r\n\tat org.apache.spark.scheduler.DAGScheduler.$anonfun$abortStage$2(DAGScheduler.scala:2608)\r\n\tat org.apache.spark.scheduler.DAGScheduler.$anonfun$abortStage$2$adapted(DAGScheduler.scala:2607)\r\n\tat scala.collection.mutable.ResizableArray.foreach(ResizableArray.scala:62)\r\n\tat scala.collection.mutable.ResizableArray.foreach$(ResizableArray.scala:55)\r\n\tat scala.collection.mutable.ArrayBuffer.foreach(ArrayBuffer.scala:49)\r\n\tat org.apache.spark.scheduler.DAGScheduler.abortStage(DAGScheduler.scala:2607)\r\n\tat org.apache.spark.scheduler.DAGScheduler.$anonfun$handleTaskSetFailed$1(DAGScheduler.scala:1182)\r\n\tat org.apache.spark.scheduler.DAGScheduler.$anonfun$handleTaskSetFailed$1$adapted(DAGScheduler.scala:1182)\r\n\tat scala.Option.foreach(Option.scala:407)\r\n\tat org.apache.spark.scheduler.DAGScheduler.handleTaskSetFailed(DAGScheduler.scala:1182)\r\n\tat org.apache.spark.scheduler.DAGSchedulerEventProcessLoop.doOnReceive(DAGScheduler.scala:2860)\r\n\tat org.apache.spark.scheduler.DAGSchedulerEventProcessLoop.onReceive(DAGScheduler.scala:2802)\r\n\tat org.apache.spark.scheduler.DAGSchedulerEventProcessLoop.onReceive(DAGScheduler.scala:2791)\r\n\tat org.apache.spark.util.EventLoop$$anon$1.run(EventLoop.scala:49)\r\n\tat org.apache.spark.scheduler.DAGScheduler.runJob(DAGScheduler.scala:952)\r\n\tat org.apache.spark.SparkContext.runJob(SparkContext.scala:2228)\r\n\tat org.apache.spark.SparkContext.runJob(SparkContext.scala:2249)\r\n\tat org.apache.spark.SparkContext.runJob(SparkContext.scala:2268)\r\n\tat org.apache.spark.SparkContext.runJob(SparkContext.scala:2293)\r\n\tat org.apache.spark.rdd.RDD.$anonfun$collect$1(RDD.scala:1021)\r\n\tat org.apache.spark.rdd.RDDOperationScope$.withScope(RDDOperationScope.scala:151)\r\n\tat org.apache.spark.rdd.RDDOperationScope$.withScope(RDDOperationScope.scala:112)\r\n\tat org.apache.spark.rdd.RDD.withScope(RDD.scala:406)\r\n\tat org.apache.spark.rdd.RDD.collect(RDD.scala:1020)\r\n\tat org.apache.spark.api.python.PythonRDD$.collectAndServe(PythonRDD.scala:180)\r\n\tat org.apache.spark.api.python.PythonRDD.collectAndServe(PythonRDD.scala)\r\n\tat java.base/jdk.internal.reflect.NativeMethodAccessorImpl.invoke0(Native Method)\r\n\tat java.base/jdk.internal.reflect.NativeMethodAccessorImpl.invoke(NativeMethodAccessorImpl.java:78)\r\n\tat java.base/jdk.internal.reflect.DelegatingMethodAccessorImpl.invoke(DelegatingMethodAccessorImpl.java:43)\r\n\tat java.base/java.lang.reflect.Method.invoke(Method.java:567)\r\n\tat py4j.reflection.MethodInvoker.invoke(MethodInvoker.java:244)\r\n\tat py4j.reflection.ReflectionEngine.invoke(ReflectionEngine.java:357)\r\n\tat py4j.Gateway.invoke(Gateway.java:282)\r\n\tat py4j.commands.AbstractCommand.invokeMethod(AbstractCommand.java:132)\r\n\tat py4j.commands.CallCommand.execute(CallCommand.java:79)\r\n\tat py4j.ClientServerConnection.waitForCommands(ClientServerConnection.java:182)\r\n\tat py4j.ClientServerConnection.run(ClientServerConnection.java:106)\r\n\tat java.base/java.lang.Thread.run(Thread.java:831)\r\nCaused by: org.apache.spark.SparkException: Python worker failed to connect back.\r\n\tat org.apache.spark.api.python.PythonWorkerFactory.createSimpleWorker(PythonWorkerFactory.scala:189)\r\n\tat org.apache.spark.api.python.PythonWorkerFactory.create(PythonWorkerFactory.scala:109)\r\n\tat org.apache.spark.SparkEnv.createPythonWorker(SparkEnv.scala:124)\r\n\tat org.apache.spark.api.python.BasePythonRunner.compute(PythonRunner.scala:164)\r\n\tat org.apache.spark.api.python.PythonRDD.compute(PythonRDD.scala:65)\r\n\tat org.apache.spark.rdd.RDD.computeOrReadCheckpoint(RDD.scala:365)\r\n\tat org.apache.spark.rdd.RDD.iterator(RDD.scala:329)\r\n\tat org.apache.spark.api.python.PairwiseRDD.compute(PythonRDD.scala:115)\r\n\tat org.apache.spark.rdd.RDD.computeOrReadCheckpoint(RDD.scala:365)\r\n\tat org.apache.spark.rdd.RDD.iterator(RDD.scala:329)\r\n\tat org.apache.spark.shuffle.ShuffleWriteProcessor.write(ShuffleWriteProcessor.scala:59)\r\n\tat org.apache.spark.scheduler.ShuffleMapTask.runTask(ShuffleMapTask.scala:99)\r\n\tat org.apache.spark.scheduler.ShuffleMapTask.runTask(ShuffleMapTask.scala:52)\r\n\tat org.apache.spark.scheduler.Task.run(Task.scala:136)\r\n\tat org.apache.spark.executor.Executor$TaskRunner.$anonfun$run$3(Executor.scala:548)\r\n\tat org.apache.spark.util.Utils$.tryWithSafeFinally(Utils.scala:1504)\r\n\tat org.apache.spark.executor.Executor$TaskRunner.run(Executor.scala:551)\r\n\tat java.base/java.util.concurrent.ThreadPoolExecutor.runWorker(ThreadPoolExecutor.java:1130)\r\n\tat java.base/java.util.concurrent.ThreadPoolExecutor$Worker.run(ThreadPoolExecutor.java:630)\r\n\t... 1 more\r\nCaused by: java.net.SocketTimeoutException: Accept timed out\r\n\tat java.base/sun.nio.ch.NioSocketImpl.timedAccept(NioSocketImpl.java:708)\r\n\tat java.base/sun.nio.ch.NioSocketImpl.accept(NioSocketImpl.java:752)\r\n\tat java.base/java.net.ServerSocket.implAccept(ServerSocket.java:681)\r\n\tat java.base/java.net.ServerSocket.platformImplAccept(ServerSocket.java:647)\r\n\tat java.base/java.net.ServerSocket.implAccept(ServerSocket.java:623)\r\n\tat java.base/java.net.ServerSocket.implAccept(ServerSocket.java:580)\r\n\tat java.base/java.net.ServerSocket.accept(ServerSocket.java:538)\r\n\tat org.apache.spark.api.python.PythonWorkerFactory.createSimpleWorker(PythonWorkerFactory.scala:176)\r\n\t... 19 more\r\n",
     "output_type": "error",
     "traceback": [
      "\u001b[1;31m---------------------------------------------------------------------------\u001b[0m",
      "\u001b[1;31mPy4JJavaError\u001b[0m                             Traceback (most recent call last)",
      "Cell \u001b[1;32mIn[8], line 1\u001b[0m\n\u001b[1;32m----> 1\u001b[0m \u001b[43mcount_data\u001b[49m\u001b[38;5;241;43m.\u001b[39;49m\u001b[43mcollect\u001b[49m\u001b[43m(\u001b[49m\u001b[43m)\u001b[49m\n",
      "File \u001b[1;32m~\\AppData\\Local\\pypoetry\\Cache\\virtualenvs\\steam-trade-bot-sZAdFImE-py3.10\\lib\\site-packages\\pyspark\\rdd.py:1197\u001b[0m, in \u001b[0;36mRDD.collect\u001b[1;34m(self)\u001b[0m\n\u001b[0;32m   1195\u001b[0m \u001b[38;5;28;01mwith\u001b[39;00m SCCallSiteSync(\u001b[38;5;28mself\u001b[39m\u001b[38;5;241m.\u001b[39mcontext):\n\u001b[0;32m   1196\u001b[0m     \u001b[38;5;28;01massert\u001b[39;00m \u001b[38;5;28mself\u001b[39m\u001b[38;5;241m.\u001b[39mctx\u001b[38;5;241m.\u001b[39m_jvm \u001b[38;5;129;01mis\u001b[39;00m \u001b[38;5;129;01mnot\u001b[39;00m \u001b[38;5;28;01mNone\u001b[39;00m\n\u001b[1;32m-> 1197\u001b[0m     sock_info \u001b[38;5;241m=\u001b[39m \u001b[38;5;28;43mself\u001b[39;49m\u001b[38;5;241;43m.\u001b[39;49m\u001b[43mctx\u001b[49m\u001b[38;5;241;43m.\u001b[39;49m\u001b[43m_jvm\u001b[49m\u001b[38;5;241;43m.\u001b[39;49m\u001b[43mPythonRDD\u001b[49m\u001b[38;5;241;43m.\u001b[39;49m\u001b[43mcollectAndServe\u001b[49m\u001b[43m(\u001b[49m\u001b[38;5;28;43mself\u001b[39;49m\u001b[38;5;241;43m.\u001b[39;49m\u001b[43m_jrdd\u001b[49m\u001b[38;5;241;43m.\u001b[39;49m\u001b[43mrdd\u001b[49m\u001b[43m(\u001b[49m\u001b[43m)\u001b[49m\u001b[43m)\u001b[49m\n\u001b[0;32m   1198\u001b[0m \u001b[38;5;28;01mreturn\u001b[39;00m \u001b[38;5;28mlist\u001b[39m(_load_from_socket(sock_info, \u001b[38;5;28mself\u001b[39m\u001b[38;5;241m.\u001b[39m_jrdd_deserializer))\n",
      "File \u001b[1;32m~\\AppData\\Local\\pypoetry\\Cache\\virtualenvs\\steam-trade-bot-sZAdFImE-py3.10\\lib\\site-packages\\py4j\\java_gateway.py:1321\u001b[0m, in \u001b[0;36mJavaMember.__call__\u001b[1;34m(self, *args)\u001b[0m\n\u001b[0;32m   1315\u001b[0m command \u001b[38;5;241m=\u001b[39m proto\u001b[38;5;241m.\u001b[39mCALL_COMMAND_NAME \u001b[38;5;241m+\u001b[39m\\\n\u001b[0;32m   1316\u001b[0m     \u001b[38;5;28mself\u001b[39m\u001b[38;5;241m.\u001b[39mcommand_header \u001b[38;5;241m+\u001b[39m\\\n\u001b[0;32m   1317\u001b[0m     args_command \u001b[38;5;241m+\u001b[39m\\\n\u001b[0;32m   1318\u001b[0m     proto\u001b[38;5;241m.\u001b[39mEND_COMMAND_PART\n\u001b[0;32m   1320\u001b[0m answer \u001b[38;5;241m=\u001b[39m \u001b[38;5;28mself\u001b[39m\u001b[38;5;241m.\u001b[39mgateway_client\u001b[38;5;241m.\u001b[39msend_command(command)\n\u001b[1;32m-> 1321\u001b[0m return_value \u001b[38;5;241m=\u001b[39m \u001b[43mget_return_value\u001b[49m\u001b[43m(\u001b[49m\n\u001b[0;32m   1322\u001b[0m \u001b[43m    \u001b[49m\u001b[43manswer\u001b[49m\u001b[43m,\u001b[49m\u001b[43m \u001b[49m\u001b[38;5;28;43mself\u001b[39;49m\u001b[38;5;241;43m.\u001b[39;49m\u001b[43mgateway_client\u001b[49m\u001b[43m,\u001b[49m\u001b[43m \u001b[49m\u001b[38;5;28;43mself\u001b[39;49m\u001b[38;5;241;43m.\u001b[39;49m\u001b[43mtarget_id\u001b[49m\u001b[43m,\u001b[49m\u001b[43m \u001b[49m\u001b[38;5;28;43mself\u001b[39;49m\u001b[38;5;241;43m.\u001b[39;49m\u001b[43mname\u001b[49m\u001b[43m)\u001b[49m\n\u001b[0;32m   1324\u001b[0m \u001b[38;5;28;01mfor\u001b[39;00m temp_arg \u001b[38;5;129;01min\u001b[39;00m temp_args:\n\u001b[0;32m   1325\u001b[0m     temp_arg\u001b[38;5;241m.\u001b[39m_detach()\n",
      "File \u001b[1;32m~\\AppData\\Local\\pypoetry\\Cache\\virtualenvs\\steam-trade-bot-sZAdFImE-py3.10\\lib\\site-packages\\pyspark\\sql\\utils.py:190\u001b[0m, in \u001b[0;36mcapture_sql_exception.<locals>.deco\u001b[1;34m(*a, **kw)\u001b[0m\n\u001b[0;32m    188\u001b[0m \u001b[38;5;28;01mdef\u001b[39;00m \u001b[38;5;21mdeco\u001b[39m(\u001b[38;5;241m*\u001b[39ma: Any, \u001b[38;5;241m*\u001b[39m\u001b[38;5;241m*\u001b[39mkw: Any) \u001b[38;5;241m-\u001b[39m\u001b[38;5;241m>\u001b[39m Any:\n\u001b[0;32m    189\u001b[0m     \u001b[38;5;28;01mtry\u001b[39;00m:\n\u001b[1;32m--> 190\u001b[0m         \u001b[38;5;28;01mreturn\u001b[39;00m f(\u001b[38;5;241m*\u001b[39ma, \u001b[38;5;241m*\u001b[39m\u001b[38;5;241m*\u001b[39mkw)\n\u001b[0;32m    191\u001b[0m     \u001b[38;5;28;01mexcept\u001b[39;00m Py4JJavaError \u001b[38;5;28;01mas\u001b[39;00m e:\n\u001b[0;32m    192\u001b[0m         converted \u001b[38;5;241m=\u001b[39m convert_exception(e\u001b[38;5;241m.\u001b[39mjava_exception)\n",
      "File \u001b[1;32m~\\AppData\\Local\\pypoetry\\Cache\\virtualenvs\\steam-trade-bot-sZAdFImE-py3.10\\lib\\site-packages\\py4j\\protocol.py:326\u001b[0m, in \u001b[0;36mget_return_value\u001b[1;34m(answer, gateway_client, target_id, name)\u001b[0m\n\u001b[0;32m    324\u001b[0m value \u001b[38;5;241m=\u001b[39m OUTPUT_CONVERTER[\u001b[38;5;28mtype\u001b[39m](answer[\u001b[38;5;241m2\u001b[39m:], gateway_client)\n\u001b[0;32m    325\u001b[0m \u001b[38;5;28;01mif\u001b[39;00m answer[\u001b[38;5;241m1\u001b[39m] \u001b[38;5;241m==\u001b[39m REFERENCE_TYPE:\n\u001b[1;32m--> 326\u001b[0m     \u001b[38;5;28;01mraise\u001b[39;00m Py4JJavaError(\n\u001b[0;32m    327\u001b[0m         \u001b[38;5;124m\"\u001b[39m\u001b[38;5;124mAn error occurred while calling \u001b[39m\u001b[38;5;132;01m{0}\u001b[39;00m\u001b[38;5;132;01m{1}\u001b[39;00m\u001b[38;5;132;01m{2}\u001b[39;00m\u001b[38;5;124m.\u001b[39m\u001b[38;5;130;01m\\n\u001b[39;00m\u001b[38;5;124m\"\u001b[39m\u001b[38;5;241m.\u001b[39m\n\u001b[0;32m    328\u001b[0m         \u001b[38;5;28mformat\u001b[39m(target_id, \u001b[38;5;124m\"\u001b[39m\u001b[38;5;124m.\u001b[39m\u001b[38;5;124m\"\u001b[39m, name), value)\n\u001b[0;32m    329\u001b[0m \u001b[38;5;28;01melse\u001b[39;00m:\n\u001b[0;32m    330\u001b[0m     \u001b[38;5;28;01mraise\u001b[39;00m Py4JError(\n\u001b[0;32m    331\u001b[0m         \u001b[38;5;124m\"\u001b[39m\u001b[38;5;124mAn error occurred while calling \u001b[39m\u001b[38;5;132;01m{0}\u001b[39;00m\u001b[38;5;132;01m{1}\u001b[39;00m\u001b[38;5;132;01m{2}\u001b[39;00m\u001b[38;5;124m. Trace:\u001b[39m\u001b[38;5;130;01m\\n\u001b[39;00m\u001b[38;5;132;01m{3}\u001b[39;00m\u001b[38;5;130;01m\\n\u001b[39;00m\u001b[38;5;124m\"\u001b[39m\u001b[38;5;241m.\u001b[39m\n\u001b[0;32m    332\u001b[0m         \u001b[38;5;28mformat\u001b[39m(target_id, \u001b[38;5;124m\"\u001b[39m\u001b[38;5;124m.\u001b[39m\u001b[38;5;124m\"\u001b[39m, name, value))\n",
      "\u001b[1;31mPy4JJavaError\u001b[0m: An error occurred while calling z:org.apache.spark.api.python.PythonRDD.collectAndServe.\n: org.apache.spark.SparkException: Job aborted due to stage failure: Task 0 in stage 1.0 failed 1 times, most recent failure: Lost task 0.0 in stage 1.0 (TID 1) (DESKTOP-FT79Q2M executor driver): org.apache.spark.SparkException: Python worker failed to connect back.\r\n\tat org.apache.spark.api.python.PythonWorkerFactory.createSimpleWorker(PythonWorkerFactory.scala:189)\r\n\tat org.apache.spark.api.python.PythonWorkerFactory.create(PythonWorkerFactory.scala:109)\r\n\tat org.apache.spark.SparkEnv.createPythonWorker(SparkEnv.scala:124)\r\n\tat org.apache.spark.api.python.BasePythonRunner.compute(PythonRunner.scala:164)\r\n\tat org.apache.spark.api.python.PythonRDD.compute(PythonRDD.scala:65)\r\n\tat org.apache.spark.rdd.RDD.computeOrReadCheckpoint(RDD.scala:365)\r\n\tat org.apache.spark.rdd.RDD.iterator(RDD.scala:329)\r\n\tat org.apache.spark.api.python.PairwiseRDD.compute(PythonRDD.scala:115)\r\n\tat org.apache.spark.rdd.RDD.computeOrReadCheckpoint(RDD.scala:365)\r\n\tat org.apache.spark.rdd.RDD.iterator(RDD.scala:329)\r\n\tat org.apache.spark.shuffle.ShuffleWriteProcessor.write(ShuffleWriteProcessor.scala:59)\r\n\tat org.apache.spark.scheduler.ShuffleMapTask.runTask(ShuffleMapTask.scala:99)\r\n\tat org.apache.spark.scheduler.ShuffleMapTask.runTask(ShuffleMapTask.scala:52)\r\n\tat org.apache.spark.scheduler.Task.run(Task.scala:136)\r\n\tat org.apache.spark.executor.Executor$TaskRunner.$anonfun$run$3(Executor.scala:548)\r\n\tat org.apache.spark.util.Utils$.tryWithSafeFinally(Utils.scala:1504)\r\n\tat org.apache.spark.executor.Executor$TaskRunner.run(Executor.scala:551)\r\n\tat java.base/java.util.concurrent.ThreadPoolExecutor.runWorker(ThreadPoolExecutor.java:1130)\r\n\tat java.base/java.util.concurrent.ThreadPoolExecutor$Worker.run(ThreadPoolExecutor.java:630)\r\n\tat java.base/java.lang.Thread.run(Thread.java:831)\r\nCaused by: java.net.SocketTimeoutException: Accept timed out\r\n\tat java.base/sun.nio.ch.NioSocketImpl.timedAccept(NioSocketImpl.java:708)\r\n\tat java.base/sun.nio.ch.NioSocketImpl.accept(NioSocketImpl.java:752)\r\n\tat java.base/java.net.ServerSocket.implAccept(ServerSocket.java:681)\r\n\tat java.base/java.net.ServerSocket.platformImplAccept(ServerSocket.java:647)\r\n\tat java.base/java.net.ServerSocket.implAccept(ServerSocket.java:623)\r\n\tat java.base/java.net.ServerSocket.implAccept(ServerSocket.java:580)\r\n\tat java.base/java.net.ServerSocket.accept(ServerSocket.java:538)\r\n\tat org.apache.spark.api.python.PythonWorkerFactory.createSimpleWorker(PythonWorkerFactory.scala:176)\r\n\t... 19 more\r\n\nDriver stacktrace:\r\n\tat org.apache.spark.scheduler.DAGScheduler.failJobAndIndependentStages(DAGScheduler.scala:2672)\r\n\tat org.apache.spark.scheduler.DAGScheduler.$anonfun$abortStage$2(DAGScheduler.scala:2608)\r\n\tat org.apache.spark.scheduler.DAGScheduler.$anonfun$abortStage$2$adapted(DAGScheduler.scala:2607)\r\n\tat scala.collection.mutable.ResizableArray.foreach(ResizableArray.scala:62)\r\n\tat scala.collection.mutable.ResizableArray.foreach$(ResizableArray.scala:55)\r\n\tat scala.collection.mutable.ArrayBuffer.foreach(ArrayBuffer.scala:49)\r\n\tat org.apache.spark.scheduler.DAGScheduler.abortStage(DAGScheduler.scala:2607)\r\n\tat org.apache.spark.scheduler.DAGScheduler.$anonfun$handleTaskSetFailed$1(DAGScheduler.scala:1182)\r\n\tat org.apache.spark.scheduler.DAGScheduler.$anonfun$handleTaskSetFailed$1$adapted(DAGScheduler.scala:1182)\r\n\tat scala.Option.foreach(Option.scala:407)\r\n\tat org.apache.spark.scheduler.DAGScheduler.handleTaskSetFailed(DAGScheduler.scala:1182)\r\n\tat org.apache.spark.scheduler.DAGSchedulerEventProcessLoop.doOnReceive(DAGScheduler.scala:2860)\r\n\tat org.apache.spark.scheduler.DAGSchedulerEventProcessLoop.onReceive(DAGScheduler.scala:2802)\r\n\tat org.apache.spark.scheduler.DAGSchedulerEventProcessLoop.onReceive(DAGScheduler.scala:2791)\r\n\tat org.apache.spark.util.EventLoop$$anon$1.run(EventLoop.scala:49)\r\n\tat org.apache.spark.scheduler.DAGScheduler.runJob(DAGScheduler.scala:952)\r\n\tat org.apache.spark.SparkContext.runJob(SparkContext.scala:2228)\r\n\tat org.apache.spark.SparkContext.runJob(SparkContext.scala:2249)\r\n\tat org.apache.spark.SparkContext.runJob(SparkContext.scala:2268)\r\n\tat org.apache.spark.SparkContext.runJob(SparkContext.scala:2293)\r\n\tat org.apache.spark.rdd.RDD.$anonfun$collect$1(RDD.scala:1021)\r\n\tat org.apache.spark.rdd.RDDOperationScope$.withScope(RDDOperationScope.scala:151)\r\n\tat org.apache.spark.rdd.RDDOperationScope$.withScope(RDDOperationScope.scala:112)\r\n\tat org.apache.spark.rdd.RDD.withScope(RDD.scala:406)\r\n\tat org.apache.spark.rdd.RDD.collect(RDD.scala:1020)\r\n\tat org.apache.spark.api.python.PythonRDD$.collectAndServe(PythonRDD.scala:180)\r\n\tat org.apache.spark.api.python.PythonRDD.collectAndServe(PythonRDD.scala)\r\n\tat java.base/jdk.internal.reflect.NativeMethodAccessorImpl.invoke0(Native Method)\r\n\tat java.base/jdk.internal.reflect.NativeMethodAccessorImpl.invoke(NativeMethodAccessorImpl.java:78)\r\n\tat java.base/jdk.internal.reflect.DelegatingMethodAccessorImpl.invoke(DelegatingMethodAccessorImpl.java:43)\r\n\tat java.base/java.lang.reflect.Method.invoke(Method.java:567)\r\n\tat py4j.reflection.MethodInvoker.invoke(MethodInvoker.java:244)\r\n\tat py4j.reflection.ReflectionEngine.invoke(ReflectionEngine.java:357)\r\n\tat py4j.Gateway.invoke(Gateway.java:282)\r\n\tat py4j.commands.AbstractCommand.invokeMethod(AbstractCommand.java:132)\r\n\tat py4j.commands.CallCommand.execute(CallCommand.java:79)\r\n\tat py4j.ClientServerConnection.waitForCommands(ClientServerConnection.java:182)\r\n\tat py4j.ClientServerConnection.run(ClientServerConnection.java:106)\r\n\tat java.base/java.lang.Thread.run(Thread.java:831)\r\nCaused by: org.apache.spark.SparkException: Python worker failed to connect back.\r\n\tat org.apache.spark.api.python.PythonWorkerFactory.createSimpleWorker(PythonWorkerFactory.scala:189)\r\n\tat org.apache.spark.api.python.PythonWorkerFactory.create(PythonWorkerFactory.scala:109)\r\n\tat org.apache.spark.SparkEnv.createPythonWorker(SparkEnv.scala:124)\r\n\tat org.apache.spark.api.python.BasePythonRunner.compute(PythonRunner.scala:164)\r\n\tat org.apache.spark.api.python.PythonRDD.compute(PythonRDD.scala:65)\r\n\tat org.apache.spark.rdd.RDD.computeOrReadCheckpoint(RDD.scala:365)\r\n\tat org.apache.spark.rdd.RDD.iterator(RDD.scala:329)\r\n\tat org.apache.spark.api.python.PairwiseRDD.compute(PythonRDD.scala:115)\r\n\tat org.apache.spark.rdd.RDD.computeOrReadCheckpoint(RDD.scala:365)\r\n\tat org.apache.spark.rdd.RDD.iterator(RDD.scala:329)\r\n\tat org.apache.spark.shuffle.ShuffleWriteProcessor.write(ShuffleWriteProcessor.scala:59)\r\n\tat org.apache.spark.scheduler.ShuffleMapTask.runTask(ShuffleMapTask.scala:99)\r\n\tat org.apache.spark.scheduler.ShuffleMapTask.runTask(ShuffleMapTask.scala:52)\r\n\tat org.apache.spark.scheduler.Task.run(Task.scala:136)\r\n\tat org.apache.spark.executor.Executor$TaskRunner.$anonfun$run$3(Executor.scala:548)\r\n\tat org.apache.spark.util.Utils$.tryWithSafeFinally(Utils.scala:1504)\r\n\tat org.apache.spark.executor.Executor$TaskRunner.run(Executor.scala:551)\r\n\tat java.base/java.util.concurrent.ThreadPoolExecutor.runWorker(ThreadPoolExecutor.java:1130)\r\n\tat java.base/java.util.concurrent.ThreadPoolExecutor$Worker.run(ThreadPoolExecutor.java:630)\r\n\t... 1 more\r\nCaused by: java.net.SocketTimeoutException: Accept timed out\r\n\tat java.base/sun.nio.ch.NioSocketImpl.timedAccept(NioSocketImpl.java:708)\r\n\tat java.base/sun.nio.ch.NioSocketImpl.accept(NioSocketImpl.java:752)\r\n\tat java.base/java.net.ServerSocket.implAccept(ServerSocket.java:681)\r\n\tat java.base/java.net.ServerSocket.platformImplAccept(ServerSocket.java:647)\r\n\tat java.base/java.net.ServerSocket.implAccept(ServerSocket.java:623)\r\n\tat java.base/java.net.ServerSocket.implAccept(ServerSocket.java:580)\r\n\tat java.base/java.net.ServerSocket.accept(ServerSocket.java:538)\r\n\tat org.apache.spark.api.python.PythonWorkerFactory.createSimpleWorker(PythonWorkerFactory.scala:176)\r\n\t... 19 more\r\n"
     ]
    }
   ],
   "source": [
    "count_data.collect()"
   ]
  },
  {
   "cell_type": "code",
   "execution_count": 30,
   "id": "bd7de917",
   "metadata": {},
   "outputs": [
    {
     "data": {
      "text/plain": [
       "'python'"
      ]
     },
     "execution_count": 30,
     "metadata": {},
     "output_type": "execute_result"
    }
   ],
   "source": [
    "import os\n",
    "os.environ.setdefault(\"PYSPARK_PYTHON\", \"python\")"
   ]
  },
  {
   "cell_type": "code",
   "execution_count": null,
   "id": "e86099c1",
   "metadata": {},
   "outputs": [],
   "source": []
  }
 ],
 "metadata": {
  "kernelspec": {
   "display_name": "Python 3 (ipykernel)",
   "language": "python",
   "name": "python3"
  },
  "language_info": {
   "codemirror_mode": {
    "name": "ipython",
    "version": 3
   },
   "file_extension": ".py",
   "mimetype": "text/x-python",
   "name": "python",
   "nbconvert_exporter": "python",
   "pygments_lexer": "ipython3",
   "version": "3.10.4"
  }
 },
 "nbformat": 4,
 "nbformat_minor": 5
}
