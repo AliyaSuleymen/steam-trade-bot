{
 "cells": [
  {
   "cell_type": "code",
   "execution_count": 1,
   "id": "fed2bffa",
   "metadata": {},
   "outputs": [],
   "source": [
    "import os\n",
    "import json\n",
    "import os.path\n",
    "if os.path.basename(os.getcwd()) == \"notebooks\":\n",
    "    os.chdir('..')\n",
    "from dotenv import load_dotenv\n",
    "\n",
    "load_dotenv(\".env\")  # take environment variables from .env.\n",
    "\n",
    "from steam_trade_bot.containers import Container\n",
    "from steam_trade_bot.settings import BotSettings\n",
    "container = Container()\n",
    "container.config.from_pydantic(BotSettings())\n",
    "container.wire(modules=[__name__])"
   ]
  },
  {
   "cell_type": "code",
   "execution_count": 2,
   "id": "1da05a35",
   "metadata": {},
   "outputs": [],
   "source": [
    "uow_ = container.repositories.unit_of_work"
   ]
  },
  {
   "cell_type": "code",
   "execution_count": 3,
   "id": "02ebb9ea",
   "metadata": {},
   "outputs": [],
   "source": [
    "CSGO_APP_ID = 730\n",
    "async with uow_() as uow:\n",
    "    market_names = await uow.market_item.get_all(app_id=CSGO_APP_ID)\n",
    "    knifes_and_gloves = list(filter(lambda name: name.market_hash_name.startswith('★'), market_names))"
   ]
  },
  {
   "cell_type": "code",
   "execution_count": 4,
   "id": "2855f039",
   "metadata": {},
   "outputs": [
    {
     "data": {
      "text/plain": "2294"
     },
     "execution_count": 4,
     "metadata": {},
     "output_type": "execute_result"
    }
   ],
   "source": [
    "len(knifes_and_gloves)"
   ]
  },
  {
   "cell_type": "code",
   "execution_count": 5,
   "id": "eec32c3e",
   "metadata": {},
   "outputs": [],
   "source": [
    "DEFAULT_CURRENCY = 1\n",
    "\n",
    "MAX_PRICE = 200\n",
    "\n",
    "history = {}\n",
    "orders = {}\n",
    "\n",
    "async with uow_() as uow:\n",
    "    for market_item in knifes_and_gloves:\n",
    "        market_hash_name = market_item.market_hash_name\n",
    "        item_orders = await uow.market_item_orders.get(app_id=CSGO_APP_ID, market_hash_name=market_hash_name, currency=1)\n",
    "        if item_orders and ((item_orders.sell_order and item_orders.sell_order < MAX_PRICE) or (item_orders.buy_order and item_orders.buy_order < MAX_PRICE)):\n",
    "            # history[market_hash_name] = await uow.sell_history.get(app_id=CSGO_APP_ID, market_hash_name=market_hash_name, currency=1)\n",
    "            orders[market_hash_name] = item_orders "
   ]
  },
  {
   "cell_type": "code",
   "execution_count": 6,
   "id": "09040bdb",
   "metadata": {},
   "outputs": [
    {
     "data": {
      "text/plain": "(0, 1066)"
     },
     "execution_count": 6,
     "metadata": {},
     "output_type": "execute_result"
    }
   ],
   "source": [
    "len(history), len(orders)"
   ]
  },
  {
   "cell_type": "code",
   "execution_count": 7,
   "id": "03d76987",
   "metadata": {
    "scrolled": true
   },
   "outputs": [],
   "source": [
    "from datetime import datetime, timedelta, timezone\n",
    "curr_dt = datetime.now(timezone.utc)\n",
    "MAX_AGE = timedelta(days=2)\n",
    "\n",
    "\n",
    "market_item_importer = container.services.market_item_importer_from_orders()\n",
    "\n",
    "\n",
    "for item_orders in orders.values():\n",
    "    if curr_dt - item_orders.timestamp > MAX_AGE:\n",
    "        await market_item_importer.import_item_orders(app_id=item_orders.app_id, market_hash_name=item_orders.market_hash_name, currency=DEFAULT_CURRENCY)"
   ]
  },
  {
   "cell_type": "code",
   "execution_count": 8,
   "id": "1c0580e4",
   "metadata": {
    "scrolled": true
   },
   "outputs": [],
   "source": [
    "DEFAULT_CURRENCY = 1\n",
    "\n",
    "curr_dt = datetime.now(timezone.utc)\n",
    "MAX_AGE = timedelta(days=2)\n",
    "MAX_PRICE = 100\n",
    "\n",
    "history = {}\n",
    "orders = {}\n",
    "market_items = {}\n",
    "market_item_importer = container.services.market_item_importer_from_page()\n",
    "\n",
    "async with uow_() as uow:\n",
    "    for market_item in knifes_and_gloves:\n",
    "        market_hash_name = market_item.market_hash_name\n",
    "        item_orders = await uow.market_item_orders.get(app_id=CSGO_APP_ID, market_hash_name=market_hash_name, currency=1)\n",
    "        if item_orders and ((item_orders.sell_order and item_orders.sell_order < MAX_PRICE) or (item_orders.buy_order and item_orders.buy_order < MAX_PRICE)):\n",
    "            item_history = await uow.sell_history.get(app_id=CSGO_APP_ID, market_hash_name=market_hash_name, currency=1)\n",
    "            if curr_dt - item_history.timestamp > MAX_AGE:\n",
    "                await market_item_importer.import_item(app_id=item_orders.app_id, market_hash_name=item_orders.market_hash_name ,currency=DEFAULT_CURRENCY)\n",
    "            history[market_hash_name] = await uow.sell_history.get(app_id=CSGO_APP_ID, market_hash_name=market_hash_name, currency=1)\n",
    "            orders[market_hash_name] = item_orders\n",
    "            market_items[market_hash_name] = market_item"
   ]
  },
  {
   "cell_type": "code",
   "execution_count": 9,
   "id": "3a25b41c",
   "metadata": {},
   "outputs": [
    {
     "name": "stderr",
     "output_type": "stream",
     "text": [
      "C:\\Users\\User\\AppData\\Local\\pypoetry\\Cache\\virtualenvs\\steam-trade-bot-sZAdFImE-py3.10\\lib\\site-packages\\pyspark\\sql\\context.py:112: FutureWarning: Deprecated in 3.0.0. Use SparkSession.builder.getOrCreate() instead.\n",
      "  warnings.warn(\n"
     ]
    }
   ],
   "source": [
    "from pyspark.sql import SparkSession\n",
    "from pyspark.sql import SQLContext\n",
    "\n",
    "spark = SparkSession.builder \\\n",
    "    .master('local[*]') \\\n",
    "    .appName('myAppName') \\\n",
    "    .config(\"spark.driver.memory\", \"3g\") \\\n",
    "    .config('spark.executor.memory', '3g') \\\n",
    "    .getOrCreate()\n",
    "\n",
    "sc = spark.sparkContext\n",
    "sqlContext = SQLContext(sc)"
   ]
  },
  {
   "cell_type": "code",
   "execution_count": 10,
   "id": "c261d4f9",
   "metadata": {},
   "outputs": [],
   "source": [
    "from dataclasses import dataclass\n",
    "\n",
    "@dataclass\n",
    "class SparkInputDTO:\n",
    "    market_hash_name: str\n",
    "    market_fee: str | None\n",
    "    market_marketable_restriction: int | None\n",
    "    market_tradable_restriction: int | None\n",
    "    commodity: bool\n",
    "    history_dump: str\n",
    "    history_timestamp: datetime\n",
    "    orders_buy_count: int | None\n",
    "    orders_buy_order: float | None\n",
    "    orders_sell_count: int | None\n",
    "    orders_sell_order: float | None\n",
    "    orders_sell_order_no_fee: float | None\n",
    "    orders_dump: str\n",
    "    orders_timestamp: datetime\n",
    "\n",
    "data = []\n",
    "for key in history.keys():\n",
    "    if key not in history or key not in orders:\n",
    "        continue\n",
    "    market_item = market_items[key]\n",
    "    item_history = history[key]\n",
    "    item_orders = orders[key]\n",
    "    data.append(SparkInputDTO(\n",
    "        market_hash_name=key,\n",
    "        market_fee=market_item.market_fee,\n",
    "        market_marketable_restriction=market_item.market_marketable_restriction,\n",
    "        market_tradable_restriction=market_item.market_tradable_restriction,\n",
    "        commodity=market_item.commodity,\n",
    "        history_dump=item_history.history,\n",
    "        history_timestamp=item_history.timestamp,\n",
    "        orders_buy_count=item_orders.buy_count,\n",
    "        orders_buy_order=item_orders.buy_order,\n",
    "        orders_sell_count=item_orders.sell_count,\n",
    "        orders_sell_order=item_orders.sell_order,\n",
    "        orders_sell_order_no_fee=item_orders.sell_order_no_fee,\n",
    "        orders_dump=item_orders.dump,\n",
    "        orders_timestamp=item_orders.timestamp,\n",
    "    ))\n",
    "\n",
    "rdd=sc.parallelize(data)"
   ]
  },
  {
   "cell_type": "code",
   "execution_count": 11,
   "id": "c3707ef5",
   "metadata": {},
   "outputs": [
    {
     "data": {
      "text/plain": "388"
     },
     "execution_count": 11,
     "metadata": {},
     "output_type": "execute_result"
    }
   ],
   "source": [
    "rdd.count()"
   ]
  },
  {
   "cell_type": "code",
   "execution_count": 12,
   "outputs": [
    {
     "data": {
      "text/plain": "SparkInputDTO(market_hash_name='★ StatTrak™ Falchion Knife | Night (Well-Worn)', market_fee=None, market_marketable_restriction=None, market_tradable_restriction=7.0, commodity=False, history_dump='[[\"Jun 02 2015 01: +0\",212.883,\"1\"],[\"Jun 17 2015 01: +0\",115.585,\"1\"],[\"Jun 22 2015 01: +0\",124.823,\"1\"],[\"Jun 28 2015 01: +0\",97.75,\"1\"],[\"Jul 01 2015 01: +0\",113.766,\"1\"],[\"Jul 03 2015 01: +0\",111.51,\"1\"],[\"Jul 07 2015 01: +0\",100.914,\"1\"],[\"Jul 09 2015 01: +0\",104.068,\"1\"],[\"Jul 10 2015 01: +0\",99.41,\"1\"],[\"Jul 13 2015 01: +0\",103.501,\"1\"],[\"Jul 15 2015 01: +0\",91.645,\"2\"],[\"Jul 18 2015 01: +0\",89.48,\"1\"],[\"Jul 21 2015 01: +0\",110,\"1\"],[\"Jul 23 2015 01: +0\",121.381,\"1\"],[\"Jul 24 2015 01: +0\",114.935,\"1\"],[\"Jul 25 2015 01: +0\",114.187,\"1\"],[\"Aug 10 2015 01: +0\",109.42,\"1\"],[\"Aug 11 2015 01: +0\",103.5,\"1\"],[\"Aug 26 2015 01: +0\",115.333,\"1\"],[\"Sep 13 2015 01: +0\",100,\"1\"],[\"Sep 15 2015 01: +0\",104.928,\"1\"],[\"Sep 18 2015 01: +0\",104.981,\"1\"],[\"Sep 25 2015 01: +0\",99.941,\"1\"],[\"Oct 07 2015 01: +0\",100.51,\"1\"],[\"Oct 08 2015 01: +0\",96.908,\"1\"],[\"Oct 22 2015 01: +0\",90.527,\"1\"],[\"Oct 23 2015 01: +0\",91.04,\"1\"],[\"Oct 24 2015 01: +0\",81.273,\"3\"],[\"Oct 25 2015 01: +0\",78.658,\"1\"],[\"Oct 30 2015 01: +0\",84.019,\"2\"],[\"Nov 06 2015 01: +0\",66.76,\"1\"],[\"Nov 07 2015 01: +0\",88.55,\"1\"],[\"Nov 16 2015 01: +0\",80.05,\"1\"],[\"Nov 18 2015 01: +0\",76.239,\"1\"],[\"Nov 19 2015 01: +0\",78.514,\"1\"],[\"Nov 23 2015 01: +0\",85.298,\"2\"],[\"Nov 26 2015 01: +0\",86.676,\"1\"],[\"Dec 04 2015 01: +0\",81.955,\"3\"],[\"Dec 08 2015 01: +0\",93.01,\"1\"],[\"Dec 12 2015 01: +0\",76.797,\"1\"],[\"Dec 14 2015 01: +0\",82.373,\"1\"],[\"Dec 22 2015 01: +0\",81.564,\"1\"],[\"Dec 23 2015 01: +0\",82.069,\"1\"],[\"Dec 25 2015 01: +0\",113.105,\"1\"],[\"Dec 30 2015 01: +0\",101.515,\"2\"],[\"Jan 10 2016 01: +0\",98.518,\"1\"],[\"Jan 14 2016 01: +0\",85.11,\"1\"],[\"Jan 17 2016 01: +0\",103.5,\"1\"],[\"Feb 04 2016 01: +0\",60.535,\"1\"],[\"Feb 08 2016 01: +0\",82.591,\"1\"],[\"Feb 17 2016 01: +0\",95.001,\"1\"],[\"Feb 20 2016 01: +0\",70,\"1\"],[\"Feb 21 2016 01: +0\",97.76,\"1\"],[\"Feb 26 2016 01: +0\",85.3,\"1\"],[\"Feb 27 2016 01: +0\",75.508,\"2\"],[\"Feb 28 2016 01: +0\",60.637,\"1\"],[\"Feb 29 2016 01: +0\",71.96,\"1\"],[\"Mar 03 2016 01: +0\",94.708,\"1\"],[\"Mar 04 2016 01: +0\",65.413,\"1\"],[\"Mar 06 2016 01: +0\",88.51,\"1\"],[\"Mar 07 2016 01: +0\",88.528,\"1\"],[\"Mar 13 2016 01: +0\",75.8,\"1\"],[\"Mar 14 2016 01: +0\",94.459,\"1\"],[\"Mar 20 2016 01: +0\",100.016,\"1\"],[\"Mar 25 2016 01: +0\",89.756,\"1\"],[\"Mar 26 2016 01: +0\",100.33,\"1\"],[\"Mar 28 2016 01: +0\",104.818,\"1\"],[\"Mar 30 2016 01: +0\",107.06,\"1\"],[\"Apr 11 2016 01: +0\",80.498,\"1\"],[\"Apr 15 2016 01: +0\",103.607,\"3\"],[\"Apr 17 2016 01: +0\",98.986,\"1\"],[\"May 11 2016 01: +0\",174.525,\"1\"],[\"May 26 2016 01: +0\",233.449,\"1\"],[\"May 27 2016 01: +0\",285.848,\"2\"],[\"May 29 2016 01: +0\",114.425,\"2\"],[\"May 30 2016 01: +0\",125.005,\"1\"],[\"Jun 08 2016 01: +0\",120,\"1\"],[\"Jun 23 2016 01: +0\",100.011,\"1\"],[\"Jun 29 2016 01: +0\",120.01,\"1\"],[\"Sep 06 2016 01: +0\",1.42,\"4\"],[\"Sep 12 2016 01: +0\",57.5,\"1\"],[\"Sep 18 2016 01: +0\",60.615,\"2\"],[\"Sep 20 2016 01: +0\",56.504,\"2\"],[\"Sep 23 2016 01: +0\",57.016,\"1\"],[\"Sep 25 2016 01: +0\",58.002,\"1\"],[\"Sep 29 2016 01: +0\",46.945,\"1\"],[\"Oct 01 2016 01: +0\",60.099,\"3\"],[\"Oct 04 2016 01: +0\",56.124,\"1\"],[\"Oct 11 2016 01: +0\",92.65,\"1\"],[\"Oct 14 2016 01: +0\",31.67,\"1\"],[\"Oct 27 2016 01: +0\",43.905,\"1\"],[\"Nov 02 2016 01: +0\",39.523,\"1\"],[\"Nov 04 2016 01: +0\",56.09,\"1\"],[\"Nov 14 2016 01: +0\",43.87,\"1\"],[\"Nov 22 2016 01: +0\",74.35,\"1\"],[\"Nov 23 2016 01: +0\",56.191,\"1\"],[\"Dec 20 2016 01: +0\",67.881,\"1\"],[\"Dec 26 2016 01: +0\",68.401,\"1\"],[\"Jan 17 2017 01: +0\",74.17,\"1\"],[\"Jan 28 2017 01: +0\",74.852,\"1\"],[\"Feb 12 2017 01: +0\",77.05,\"1\"],[\"Feb 14 2017 01: +0\",77.996,\"1\"],[\"Feb 23 2017 01: +0\",74.014,\"1\"],[\"Mar 11 2017 01: +0\",72.53,\"1\"],[\"Mar 12 2017 01: +0\",76.674,\"1\"],[\"Mar 13 2017 01: +0\",63.444,\"1\"],[\"Mar 14 2017 01: +0\",75.395,\"1\"],[\"Mar 19 2017 01: +0\",73.433,\"1\"],[\"Mar 25 2017 01: +0\",78.665,\"1\"],[\"Apr 04 2017 01: +0\",73.49,\"1\"],[\"Apr 12 2017 01: +0\",78.012,\"1\"],[\"Apr 16 2017 01: +0\",64.205,\"1\"],[\"May 10 2017 01: +0\",89.38,\"2\"],[\"May 24 2017 01: +0\",63.269,\"1\"],[\"Jun 20 2017 01: +0\",62.995,\"1\"],[\"Aug 07 2017 01: +0\",62.462,\"1\"],[\"Aug 09 2017 01: +0\",67.85,\"1\"],[\"Aug 12 2017 01: +0\",66.429,\"3\"],[\"Aug 20 2017 01: +0\",87.699,\"1\"],[\"Aug 30 2017 01: +0\",84.983,\"1\"],[\"Sep 06 2017 01: +0\",82.035,\"1\"],[\"Sep 08 2017 01: +0\",97.014,\"1\"],[\"Dec 29 2017 01: +0\",103.912,\"1\"],[\"Jan 27 2018 01: +0\",112.646,\"1\"],[\"Feb 02 2018 01: +0\",119.106,\"1\"],[\"Mar 23 2018 01: +0\",116.621,\"1\"],[\"Jun 28 2018 01: +0\",70.011,\"1\"],[\"Apr 01 2019 01: +0\",199.985,\"1\"],[\"Apr 02 2019 01: +0\",198.761,\"2\"],[\"Apr 21 2019 01: +0\",77.52,\"1\"],[\"Jun 18 2019 01: +0\",96.006,\"1\"],[\"Jul 07 2019 01: +0\",105.72,\"1\"],[\"Jul 18 2019 01: +0\",109.801,\"1\"],[\"Jul 30 2019 01: +0\",115.062,\"1\"],[\"Aug 11 2019 01: +0\",111.907,\"1\"],[\"Aug 18 2019 01: +0\",85.025,\"1\"],[\"Aug 22 2019 01: +0\",84.414,\"1\"],[\"Aug 29 2019 01: +0\",110.586,\"1\"],[\"Sep 01 2019 01: +0\",104.315,\"1\"],[\"Sep 13 2019 01: +0\",112.798,\"1\"],[\"Sep 21 2019 01: +0\",95.448,\"2\"],[\"Sep 22 2019 01: +0\",98.254,\"1\"],[\"Sep 23 2019 01: +0\",74.908,\"2\"],[\"Sep 24 2019 01: +0\",74.277,\"1\"],[\"Sep 25 2019 01: +0\",93.305,\"1\"],[\"Sep 26 2019 01: +0\",104.881,\"1\"],[\"Oct 01 2019 01: +0\",77.702,\"1\"],[\"Oct 07 2019 01: +0\",120.161,\"1\"],[\"Oct 11 2019 01: +0\",101.998,\"1\"],[\"Oct 13 2019 01: +0\",102.542,\"1\"],[\"Oct 24 2019 01: +0\",100,\"1\"],[\"Nov 02 2019 01: +0\",99.887,\"1\"],[\"Nov 19 2019 01: +0\",86.31,\"1\"],[\"Nov 21 2019 01: +0\",107.973,\"1\"],[\"Nov 28 2019 01: +0\",110,\"1\"],[\"Dec 15 2019 01: +0\",80.59,\"1\"],[\"Dec 21 2019 01: +0\",107.162,\"2\"],[\"Dec 26 2019 01: +0\",114.26,\"1\"],[\"Feb 06 2020 01: +0\",108.865,\"1\"],[\"Feb 08 2020 01: +0\",107.544,\"1\"],[\"Feb 14 2020 01: +0\",87,\"1\"],[\"Feb 17 2020 01: +0\",112.998,\"1\"],[\"Feb 22 2020 01: +0\",117.855,\"1\"],[\"Feb 28 2020 01: +0\",123.7,\"1\"],[\"Mar 04 2020 01: +0\",100.572,\"1\"],[\"Mar 08 2020 01: +0\",82.517,\"1\"],[\"Mar 16 2020 01: +0\",118.714,\"1\"],[\"Mar 20 2020 01: +0\",100.179,\"1\"],[\"Mar 24 2020 01: +0\",87.046,\"1\"],[\"Apr 01 2020 01: +0\",122.126,\"1\"],[\"Apr 21 2020 01: +0\",90.457,\"1\"],[\"Apr 29 2020 01: +0\",104.57,\"1\"],[\"May 02 2020 01: +0\",103.4,\"1\"],[\"May 13 2020 01: +0\",119.71,\"1\"],[\"May 23 2020 01: +0\",99.725,\"1\"],[\"May 31 2020 01: +0\",115.95,\"1\"],[\"Jun 29 2020 01: +0\",119.057,\"1\"],[\"Aug 09 2020 01: +0\",130.805,\"2\"],[\"Aug 11 2020 01: +0\",90.381,\"1\"],[\"Aug 13 2020 01: +0\",102.119,\"2\"],[\"Aug 14 2020 01: +0\",113.966,\"1\"],[\"Aug 29 2020 01: +0\",94.5,\"1\"],[\"Sep 06 2020 01: +0\",91.23,\"1\"],[\"Sep 11 2020 01: +0\",123.015,\"1\"],[\"Sep 24 2020 01: +0\",103.812,\"2\"],[\"Sep 28 2020 01: +0\",90.652,\"1\"],[\"Oct 10 2020 01: +0\",119.227,\"1\"],[\"Oct 15 2020 01: +0\",103.687,\"2\"],[\"Oct 19 2020 01: +0\",91.15,\"1\"],[\"Oct 25 2020 01: +0\",90.25,\"1\"],[\"Oct 27 2020 01: +0\",101.285,\"2\"],[\"Nov 04 2020 01: +0\",106.121,\"2\"],[\"Nov 29 2020 01: +0\",95.646,\"1\"],[\"Dec 02 2020 01: +0\",111.032,\"1\"],[\"Dec 09 2020 01: +0\",69.684,\"1\"],[\"Dec 24 2020 01: +0\",106.681,\"1\"],[\"Dec 25 2020 01: +0\",107.787,\"1\"],[\"Jan 01 2021 01: +0\",110.03,\"1\"],[\"Jan 02 2021 01: +0\",117.322,\"1\"],[\"Jan 04 2021 01: +0\",116.571,\"1\"],[\"Jan 07 2021 01: +0\",113.088,\"1\"],[\"Jan 08 2021 01: +0\",106.684,\"1\"],[\"Jan 09 2021 01: +0\",122.738,\"1\"],[\"Jan 14 2021 01: +0\",110.52,\"1\"],[\"Jan 22 2021 01: +0\",129.77,\"1\"],[\"Jan 25 2021 01: +0\",94.824,\"1\"],[\"Jan 27 2021 01: +0\",121.582,\"1\"],[\"Feb 02 2021 01: +0\",98.67,\"1\"],[\"Feb 03 2021 01: +0\",106.544,\"1\"],[\"Feb 06 2021 01: +0\",126.231,\"1\"],[\"Feb 07 2021 01: +0\",112.024,\"1\"],[\"Feb 11 2021 01: +0\",124.476,\"1\"],[\"Feb 12 2021 01: +0\",115.085,\"1\"],[\"Feb 20 2021 01: +0\",93.249,\"1\"],[\"Feb 24 2021 01: +0\",123.906,\"1\"],[\"Mar 02 2021 01: +0\",120.183,\"1\"],[\"Mar 04 2021 01: +0\",106.694,\"1\"],[\"Mar 07 2021 01: +0\",109.797,\"1\"],[\"Mar 12 2021 01: +0\",137.349,\"1\"],[\"Mar 15 2021 01: +0\",95.427,\"1\"],[\"Mar 17 2021 01: +0\",123.906,\"1\"],[\"Mar 18 2021 01: +0\",118.556,\"1\"],[\"Mar 24 2021 01: +0\",118.386,\"1\"],[\"Apr 09 2021 01: +0\",112.722,\"2\"],[\"Apr 12 2021 01: +0\",129.98,\"1\"],[\"Apr 17 2021 01: +0\",100.015,\"1\"],[\"May 02 2021 01: +0\",102.195,\"1\"],[\"May 05 2021 01: +0\",126.038,\"1\"],[\"May 15 2021 01: +0\",136.319,\"1\"],[\"Jun 07 2021 01: +0\",136.773,\"2\"],[\"Jun 11 2021 01: +0\",181.263,\"1\"],[\"Jun 14 2021 01: +0\",110.009,\"1\"],[\"Jul 10 2021 01: +0\",115.746,\"1\"],[\"Jul 16 2021 01: +0\",141.766,\"1\"],[\"Jul 27 2021 01: +0\",100.53,\"1\"],[\"Jul 28 2021 01: +0\",106.22,\"1\"],[\"Aug 27 2021 01: +0\",127.974,\"1\"],[\"Sep 08 2021 01: +0\",103.28,\"1\"],[\"Sep 26 2021 01: +0\",110.28,\"1\"],[\"Oct 23 2021 01: +0\",87.29,\"1\"],[\"Oct 31 2021 01: +0\",81.53,\"1\"],[\"Nov 01 2021 01: +0\",81.006,\"1\"],[\"Nov 22 2021 01: +0\",103.984,\"1\"],[\"Nov 27 2021 01: +0\",78.992,\"1\"],[\"Dec 29 2021 01: +0\",103.241,\"1\"],[\"Jan 01 2022 01: +0\",88.6,\"1\"],[\"Jan 11 2022 01: +0\",105.27,\"2\"],[\"Jan 14 2022 01: +0\",115.897,\"1\"],[\"Jan 28 2022 01: +0\",100.284,\"1\"],[\"Mar 20 2022 01: +0\",98.081,\"1\"],[\"Mar 22 2022 01: +0\",120.091,\"1\"],[\"Mar 24 2022 01: +0\",94.78,\"1\"],[\"Mar 31 2022 01: +0\",120.09,\"1\"],[\"Apr 06 2022 01: +0\",138.205,\"1\"],[\"Apr 10 2022 01: +0\",92.095,\"1\"],[\"Apr 12 2022 01: +0\",125.105,\"1\"],[\"Apr 23 2022 01: +0\",113.551,\"1\"],[\"May 09 2022 01: +0\",128.91,\"1\"],[\"Aug 01 2022 01: +0\",125,\"1\"],[\"Aug 03 2022 01: +0\",103.497,\"1\"],[\"Aug 12 2022 01: +0\",112.7,\"1\"],[\"Sep 15 2022 01: +0\",130.24,\"1\"],[\"Sep 23 2022 01: +0\",126.816,\"1\"],[\"Sep 25 2022 01: +0\",98.526,\"1\"],[\"Oct 05 2022 01: +0\",126.681,\"1\"],[\"Nov 02 2022 01: +0\",128.829,\"1\"],[\"Nov 06 2022 01: +0\",102.512,\"1\"],[\"Nov 24 2022 01: +0\",100.118,\"1\"],[\"Dec 05 2022 01: +0\",114.449,\"1\"],[\"Jan 03 2023 01: +0\",114.999,\"1\"]]', history_timestamp=datetime.datetime(2023, 2, 4, 0, 43, 38, 95453, tzinfo=datetime.timezone.utc), orders_buy_count=1, orders_buy_order=98.0, orders_sell_count=1, orders_sell_order=133.07, orders_sell_order_no_fee=115.72, orders_dump='{\"success\":1,\"sell_order_table\":\"<table class=\\\\\"market_commodity_orders_table\\\\\"><tr><th align=\\\\\"right\\\\\">Price<\\\\/th><th align=\\\\\"right\\\\\">Quantity<\\\\/th><\\\\/tr><tr><td align=\\\\\"right\\\\\" class=\\\\\"\\\\\">$133.07<\\\\/td><td align=\\\\\"right\\\\\">1<\\\\/td><\\\\/tr><tr><td align=\\\\\"right\\\\\" class=\\\\\"\\\\\">$170.67<\\\\/td><td align=\\\\\"right\\\\\">1<\\\\/td><\\\\/tr><tr><td align=\\\\\"right\\\\\" class=\\\\\"\\\\\">$187.26<\\\\/td><td align=\\\\\"right\\\\\">1<\\\\/td><\\\\/tr><\\\\/table>\",\"sell_order_summary\":\"<span class=\\\\\"market_commodity_orders_header_promote\\\\\">3<\\\\/span> for sale starting at <span class=\\\\\"market_commodity_orders_header_promote\\\\\">$133.07<\\\\/span>\",\"buy_order_table\":\"<table class=\\\\\"market_commodity_orders_table\\\\\"><tr><th align=\\\\\"right\\\\\">Price<\\\\/th><th align=\\\\\"right\\\\\">Quantity<\\\\/th><\\\\/tr><tr><td align=\\\\\"right\\\\\" class=\\\\\"\\\\\">$98.00<\\\\/td><td align=\\\\\"right\\\\\">1<\\\\/td><\\\\/tr><tr><td align=\\\\\"right\\\\\" class=\\\\\"\\\\\">$94.39<\\\\/td><td align=\\\\\"right\\\\\">1<\\\\/td><\\\\/tr><tr><td align=\\\\\"right\\\\\" class=\\\\\"\\\\\">$86.14<\\\\/td><td align=\\\\\"right\\\\\">1<\\\\/td><\\\\/tr><tr><td align=\\\\\"right\\\\\" class=\\\\\"\\\\\">$77.60<\\\\/td><td align=\\\\\"right\\\\\">1<\\\\/td><\\\\/tr><tr><td align=\\\\\"right\\\\\" class=\\\\\"\\\\\">$77.01<\\\\/td><td align=\\\\\"right\\\\\">1<\\\\/td><\\\\/tr><tr><td align=\\\\\"right\\\\\" class=\\\\\"\\\\\">$76.01 or less<\\\\/td><td align=\\\\\"right\\\\\">60<\\\\/td><\\\\/tr><\\\\/table>\",\"buy_order_summary\":\"<span class=\\\\\"market_commodity_orders_header_promote\\\\\">65<\\\\/span> requests to buy at <span class=\\\\\"market_commodity_orders_header_promote\\\\\">$98.00<\\\\/span> or lower\",\"highest_buy_order\":\"9800\",\"lowest_sell_order\":\"13307\",\"buy_order_graph\":[[98,1,\"1 buy orders at $98.00 or higher\"],[94.39,2,\"2 buy orders at $94.39 or higher\"],[86.14,3,\"3 buy orders at $86.14 or higher\"],[77.6,4,\"4 buy orders at $77.60 or higher\"],[77.01,5,\"5 buy orders at $77.01 or higher\"],[76.01,7,\"7 buy orders at $76.01 or higher\"],[70.23,8,\"8 buy orders at $70.23 or higher\"],[47.97,9,\"9 buy orders at $47.97 or higher\"],[21.16,10,\"10 buy orders at $21.16 or higher\"],[8.48,11,\"11 buy orders at $8.48 or higher\"],[2.85,12,\"12 buy orders at $2.85 or higher\"],[2.81,13,\"13 buy orders at $2.81 or higher\"],[2.7,14,\"14 buy orders at $2.70 or higher\"],[2.16,15,\"15 buy orders at $2.16 or higher\"],[1.4,17,\"17 buy orders at $1.40 or higher\"],[1.39,18,\"18 buy orders at $1.39 or higher\"],[1.08,20,\"20 buy orders at $1.08 or higher\"],[1.07,21,\"21 buy orders at $1.07 or higher\"],[1,22,\"22 buy orders at $1.00 or higher\"],[0.97,23,\"23 buy orders at $0.97 or higher\"],[0.82,24,\"24 buy orders at $0.82 or higher\"],[0.51,25,\"25 buy orders at $0.51 or higher\"],[0.31,26,\"26 buy orders at $0.31 or higher\"],[0.27,28,\"28 buy orders at $0.27 or higher\"],[0.26,30,\"30 buy orders at $0.26 or higher\"],[0.17,31,\"31 buy orders at $0.17 or higher\"],[0.15,33,\"33 buy orders at $0.15 or higher\"],[0.13,34,\"34 buy orders at $0.13 or higher\"],[0.12,35,\"35 buy orders at $0.12 or higher\"],[0.11,36,\"36 buy orders at $0.11 or higher\"],[0.09,37,\"37 buy orders at $0.09 or higher\"],[0.05,40,\"40 buy orders at $0.05 or higher\"],[0.04,42,\"42 buy orders at $0.04 or higher\"],[0.03,65,\"65 buy orders at $0.03 or higher\"]],\"sell_order_graph\":[[133.07,1,\"1 sell orders at $133.07 or lower\"],[170.67,2,\"2 sell orders at $170.67 or lower\"],[187.26,3,\"3 sell orders at $187.26 or lower\"]],\"graph_max_y\":70,\"graph_min_x\":0.03,\"graph_max_x\":187.26,\"price_prefix\":\"$\",\"price_suffix\":\"\"}', orders_timestamp=datetime.datetime(2023, 2, 3, 23, 57, 25, 552542, tzinfo=datetime.timezone.utc))"
     },
     "execution_count": 12,
     "metadata": {},
     "output_type": "execute_result"
    }
   ],
   "source": [
    "rdd.first()"
   ],
   "metadata": {
    "collapsed": false
   }
  },
  {
   "cell_type": "code",
   "execution_count": 13,
   "id": "05ec6d4b",
   "metadata": {},
   "outputs": [
    {
     "data": {
      "text/plain": "DataFrame[market_hash_name: string, market_fee: string, market_marketable_restriction: int, market_tradable_restriction: double, commodity: boolean, history_dump: string, history_timestamp: timestamp, orders_buy_count: int, orders_buy_order: double, orders_sell_count: int, orders_sell_order: double, orders_sell_order_no_fee: double, orders_dump: string, orders_timestamp: timestamp]"
     },
     "execution_count": 13,
     "metadata": {},
     "output_type": "execute_result"
    }
   ],
   "source": [
    "from pyspark.sql.types import StructType, StructField, StringType, IntegerType, BooleanType, TimestampType, DoubleType\n",
    "schema = StructType(\n",
    "    [\n",
    "        StructField(\"market_hash_name\", StringType(), False),\n",
    "        StructField(\"market_fee\", StringType(), True),\n",
    "        StructField(\"market_marketable_restriction\", IntegerType(), True),\n",
    "        StructField(\"market_tradable_restriction\", DoubleType(), True),\n",
    "        StructField(\"commodity\", BooleanType(), False),\n",
    "        StructField(\"history_dump\", StringType(), False),\n",
    "        StructField(\"history_timestamp\", TimestampType(), False),\n",
    "        StructField(\"orders_buy_count\", IntegerType(), True),\n",
    "        StructField(\"orders_buy_order\", DoubleType(), True),\n",
    "        StructField(\"orders_sell_count\", IntegerType(), True),\n",
    "        StructField(\"orders_sell_order\", DoubleType(), True),\n",
    "        StructField(\"orders_sell_order_no_fee\", DoubleType(), True),\n",
    "        StructField(\"orders_dump\", StringType(), False),\n",
    "        StructField(\"orders_timestamp\", TimestampType(), False),\n",
    "    ]\n",
    ")\n",
    "df = spark.createDataFrame(rdd, schema=schema).repartition(50)\n",
    "df"
   ]
  },
  {
   "cell_type": "code",
   "execution_count": 14,
   "outputs": [
    {
     "name": "stdout",
     "output_type": "stream",
     "text": [
      "+--------------------+----------+-----------------------------+---------------------------+---------+--------------------+--------------------+----------------+----------------+-----------------+-----------------+------------------------+--------------------+--------------------+\n",
      "|    market_hash_name|market_fee|market_marketable_restriction|market_tradable_restriction|commodity|        history_dump|   history_timestamp|orders_buy_count|orders_buy_order|orders_sell_count|orders_sell_order|orders_sell_order_no_fee|         orders_dump|    orders_timestamp|\n",
      "+--------------------+----------+-----------------------------+---------------------------+---------+--------------------+--------------------+----------------+----------------+-----------------+-----------------+------------------------+--------------------+--------------------+\n",
      "|★ Hand Wraps | De...|      null|                         null|                        7.0|    false|[[\"Dec 04 2020 01...|2023-02-04 03:48:...|               2|           72.88|                1|             80.5|                    70.0|{\"success\":1,\"sel...|2023-02-04 03:00:...|\n",
      "|★ Gut Knife | Dam...|      null|                         null|                        7.0|    false|[[\"Jan 10 2015 01...|2023-02-04 03:57:...|               1|           94.87|                1|           111.61|                   97.06|{\"success\":1,\"sel...|2023-02-04 03:06:...|\n",
      "|★ Navaja Knife | ...|      null|                         null|                        7.0|    false|[[\"Aug 20 2018 01...|2023-02-04 04:02:...|               1|            84.0|                1|            93.31|                   81.15|{\"success\":1,\"sel...|2023-02-04 03:09:...|\n",
      "|★ Falchion Knife ...|      null|                         null|                        7.0|    false|[[\"May 27 2015 01...|2023-02-04 04:15:...|               1|            87.2|                1|           184.25|                  160.22|{\"success\":1,\"sel...|2023-02-04 03:20:...|\n",
      "|★ StatTrak™ Gut K...|      null|                         null|                        7.0|    false|[[\"Aug 19 2013 01...|2023-02-04 04:19:...|               1|           91.59|                1|           124.74|                  108.48|{\"success\":1,\"sel...|2023-02-04 03:22:...|\n",
      "|★ StatTrak™ Shado...|      null|                         null|                        7.0|    false|[[\"Sep 28 2015 01...|2023-02-04 04:31:...|               1|           66.31|                1|            98.99|                   86.09|{\"success\":1,\"sel...|2023-02-04 03:34:...|\n",
      "|★ Navaja Knife | ...|      null|                         null|                        7.0|    false|[[\"Aug 12 2018 01...|2023-02-04 04:36:...|               1|           67.87|                1|            78.68|                   68.42|{\"success\":1,\"sel...|2023-02-04 03:40:...|\n",
      "|★ Falchion Knife ...|      null|                         null|                        7.0|    false|[[\"May 27 2015 01...|2023-02-04 04:38:...|               1|           92.89|                1|            97.37|                   84.68|{\"success\":1,\"sel...|2023-02-04 03:40:...|\n",
      "|★ Falchion Knife ...|      null|                         null|                        7.0|    false|[[\"Mar 21 2017 01...|2023-02-04 03:44:...|               1|           97.45|                1|           115.47|                  100.41|{\"success\":1,\"sel...|2023-02-04 02:57:...|\n",
      "|★ Survival Knife ...|      null|                         null|                        7.0|    false|[[\"Nov 21 2019 01...|2023-02-04 03:56:...|               1|           93.07|                1|           112.36|                   97.71|{\"success\":1,\"sel...|2023-02-04 03:05:...|\n",
      "|★ Driver Gloves |...|      null|                         null|                        7.0|    false|[[\"Dec 04 2016 01...|2023-02-04 04:02:...|               1|           71.57|                1|            83.97|                   73.02|{\"success\":1,\"sel...|2023-02-04 03:10:...|\n",
      "|★ StatTrak™ Shado...|      null|                         null|                        7.0|    false|[[\"Sep 19 2015 01...|2023-02-04 04:11:...|               1|           83.84|                1|           100.98|                   87.81|{\"success\":1,\"sel...|2023-02-04 03:17:...|\n",
      "|★ StatTrak™ Navaj...|      null|                         null|                        7.0|    false|[[\"Dec 17 2018 01...|2023-02-04 04:17:...|               1|           64.91|                1|           106.11|                   92.28|{\"success\":1,\"sel...|2023-02-04 03:21:...|\n",
      "|★ Gut Knife | Bor...|      null|                         null|                        7.0|    false|[[\"Aug 25 2013 01...|2023-02-04 04:30:...|               1|           82.49|                1|            89.21|                   77.59|{\"success\":1,\"sel...|2023-02-04 03:33:...|\n",
      "|★ StatTrak™ Ursus...|      null|                         null|                        7.0|    false|[[\"Jan 02 2019 01...|2023-02-04 04:35:...|               1|           93.95|             null|             null|                    null|{\"success\":1,\"sel...|2023-02-04 03:39:...|\n",
      "|★ Hydra Gloves | ...|      null|                         null|                        7.0|    false|[[\"Feb 18 2018 01...|2023-02-04 04:37:...|               1|           51.93|                1|            59.27|                   51.55|{\"success\":1,\"sel...|2023-02-04 03:40:...|\n",
      "|★ Hand Wraps | Co...|      null|                         null|                        7.0|    false|[[\"Dec 04 2020 01...|2023-02-04 03:45:...|               1|            75.9|                1|            84.07|                   73.11|{\"success\":1,\"sel...|2023-02-04 02:58:...|\n",
      "|★ Shadow Daggers ...|      null|                         null|                        7.0|    false|[[\"Sep 18 2015 01...|2023-02-04 03:54:...|               1|           78.21|                1|            90.23|                   78.47|{\"success\":1,\"sel...|2023-02-04 03:03:...|\n",
      "|★ Bloodhound Glov...|      null|                         null|                        7.0|    false|[[\"Dec 10 2016 01...|2023-02-04 04:03:...|               1|           69.64|                1|            97.68|                   84.95|{\"success\":1,\"sel...|2023-02-04 03:11:...|\n",
      "|★ Gut Knife | Sta...|      null|                         null|                        7.0|    false|[[\"Aug 21 2013 01...|2023-02-04 04:14:...|               1|           84.99|                1|           100.54|                   87.43|{\"success\":1,\"sel...|2023-02-04 03:19:...|\n",
      "+--------------------+----------+-----------------------------+---------------------------+---------+--------------------+--------------------+----------------+----------------+-----------------+-----------------+------------------------+--------------------+--------------------+\n",
      "only showing top 20 rows\n",
      "\n"
     ]
    }
   ],
   "source": [
    "df.show()"
   ],
   "metadata": {
    "collapsed": false
   }
  },
  {
   "cell_type": "code",
   "execution_count": 15,
   "id": "8e2b0724",
   "metadata": {},
   "outputs": [
    {
     "name": "stdout",
     "output_type": "stream",
     "text": [
      "root\n",
      " |-- market_hash_name: string (nullable = false)\n",
      " |-- market_fee: string (nullable = true)\n",
      " |-- market_marketable_restriction: integer (nullable = true)\n",
      " |-- market_tradable_restriction: double (nullable = true)\n",
      " |-- commodity: boolean (nullable = false)\n",
      " |-- history_dump: string (nullable = false)\n",
      " |-- history_timestamp: timestamp (nullable = false)\n",
      " |-- orders_buy_count: integer (nullable = true)\n",
      " |-- orders_buy_order: double (nullable = true)\n",
      " |-- orders_sell_count: integer (nullable = true)\n",
      " |-- orders_sell_order: double (nullable = true)\n",
      " |-- orders_sell_order_no_fee: double (nullable = true)\n",
      " |-- orders_dump: string (nullable = false)\n",
      " |-- orders_timestamp: timestamp (nullable = false)\n",
      "\n"
     ]
    }
   ],
   "source": [
    "df.printSchema()"
   ]
  },
  {
   "cell_type": "code",
   "execution_count": 16,
   "id": "063d6454",
   "metadata": {},
   "outputs": [
    {
     "data": {
      "text/plain": "Row(market_hash_name='★ Hand Wraps | Desert Shamagh (Field-Tested)', market_fee=None, market_marketable_restriction=None, market_tradable_restriction=7.0, commodity=False, history_dump='[[\"Dec 04 2020 01: +0\",152.242,\"8\"],[\"Dec 05 2020 01: +0\",163.2,\"7\"],[\"Dec 06 2020 01: +0\",147.821,\"8\"],[\"Dec 07 2020 01: +0\",130.797,\"13\"],[\"Dec 08 2020 01: +0\",125.057,\"5\"],[\"Dec 09 2020 01: +0\",127.573,\"5\"],[\"Dec 10 2020 01: +0\",123.466,\"3\"],[\"Dec 11 2020 01: +0\",132.969,\"5\"],[\"Dec 12 2020 01: +0\",129.488,\"8\"],[\"Dec 13 2020 01: +0\",145.673,\"5\"],[\"Dec 14 2020 01: +0\",131.332,\"4\"],[\"Dec 15 2020 01: +0\",128.774,\"5\"],[\"Dec 16 2020 01: +0\",142.242,\"4\"],[\"Dec 17 2020 01: +0\",153.144,\"4\"],[\"Dec 18 2020 01: +0\",183.188,\"2\"],[\"Dec 19 2020 01: +0\",169.11,\"3\"],[\"Dec 20 2020 01: +0\",169.475,\"2\"],[\"Dec 21 2020 01: +0\",163.932,\"5\"],[\"Dec 22 2020 01: +0\",155.455,\"3\"],[\"Dec 23 2020 01: +0\",160.915,\"5\"],[\"Dec 24 2020 01: +0\",165.297,\"4\"],[\"Dec 25 2020 01: +0\",178.929,\"6\"],[\"Dec 26 2020 01: +0\",159.362,\"3\"],[\"Dec 27 2020 01: +0\",168.921,\"2\"],[\"Dec 28 2020 01: +0\",171.071,\"6\"],[\"Dec 29 2020 01: +0\",165.321,\"5\"],[\"Dec 30 2020 01: +0\",159.84,\"3\"],[\"Dec 31 2020 01: +0\",161.899,\"4\"],[\"Jan 01 2021 01: +0\",189.68,\"1\"],[\"Jan 02 2021 01: +0\",159.314,\"4\"],[\"Jan 03 2021 01: +0\",167.071,\"4\"],[\"Jan 04 2021 01: +0\",165.853,\"4\"],[\"Jan 05 2021 01: +0\",168.769,\"5\"],[\"Jan 06 2021 01: +0\",177.709,\"3\"],[\"Jan 07 2021 01: +0\",176.255,\"5\"],[\"Jan 08 2021 01: +0\",170.489,\"4\"],[\"Jan 09 2021 01: +0\",182.141,\"2\"],[\"Jan 10 2021 01: +0\",192.271,\"3\"],[\"Jan 11 2021 01: +0\",191.248,\"5\"],[\"Jan 12 2021 01: +0\",183.301,\"4\"],[\"Jan 13 2021 01: +0\",174.676,\"1\"],[\"Jan 14 2021 01: +0\",190.859,\"3\"],[\"Jan 15 2021 01: +0\",178.843,\"4\"],[\"Jan 16 2021 01: +0\",176.07,\"5\"],[\"Jan 17 2021 01: +0\",163.643,\"4\"],[\"Jan 18 2021 01: +0\",176.795,\"2\"],[\"Jan 19 2021 01: +0\",175.585,\"3\"],[\"Jan 20 2021 01: +0\",188.411,\"2\"],[\"Jan 21 2021 01: +0\",171.143,\"10\"],[\"Jan 22 2021 01: +0\",164.507,\"4\"],[\"Jan 23 2021 01: +0\",179.258,\"4\"],[\"Jan 24 2021 01: +0\",173.466,\"6\"],[\"Jan 25 2021 01: +0\",179.666,\"2\"],[\"Jan 26 2021 01: +0\",173.376,\"9\"],[\"Jan 27 2021 01: +0\",162.2,\"6\"],[\"Jan 28 2021 01: +0\",178.6,\"7\"],[\"Jan 29 2021 01: +0\",116.27,\"3\"],[\"Jan 30 2021 01: +0\",151.319,\"5\"],[\"Jan 31 2021 01: +0\",168.881,\"4\"],[\"Feb 01 2021 01: +0\",153.409,\"3\"],[\"Feb 02 2021 01: +0\",155.824,\"6\"],[\"Feb 03 2021 01: +0\",155.394,\"6\"],[\"Feb 04 2021 01: +0\",157.036,\"8\"],[\"Feb 05 2021 01: +0\",175.102,\"3\"],[\"Feb 06 2021 01: +0\",172.851,\"1\"],[\"Feb 07 2021 01: +0\",160.915,\"3\"],[\"Feb 08 2021 01: +0\",164.27,\"6\"],[\"Feb 09 2021 01: +0\",174.797,\"2\"],[\"Feb 10 2021 01: +0\",150.474,\"4\"],[\"Feb 11 2021 01: +0\",157.279,\"4\"],[\"Feb 12 2021 01: +0\",151.874,\"11\"],[\"Feb 13 2021 01: +0\",172.605,\"7\"],[\"Feb 14 2021 01: +0\",159.405,\"3\"],[\"Feb 15 2021 01: +0\",151.13,\"1\"],[\"Feb 16 2021 01: +0\",152.396,\"4\"],[\"Feb 17 2021 01: +0\",155.953,\"5\"],[\"Feb 18 2021 01: +0\",152.24,\"9\"],[\"Feb 19 2021 01: +0\",159.233,\"5\"],[\"Feb 20 2021 01: +0\",154.257,\"4\"],[\"Feb 21 2021 01: +0\",156.886,\"4\"],[\"Feb 22 2021 01: +0\",163.984,\"5\"],[\"Feb 23 2021 01: +0\",163.051,\"5\"],[\"Feb 24 2021 01: +0\",173.748,\"5\"],[\"Feb 25 2021 01: +0\",155.588,\"3\"],[\"Feb 26 2021 01: +0\",151.75,\"7\"],[\"Feb 27 2021 01: +0\",150.753,\"4\"],[\"Feb 28 2021 01: +0\",150.066,\"9\"],[\"Mar 01 2021 01: +0\",154.884,\"5\"],[\"Mar 02 2021 01: +0\",158.004,\"4\"],[\"Mar 03 2021 01: +0\",167.047,\"2\"],[\"Mar 04 2021 01: +0\",155.551,\"4\"],[\"Mar 05 2021 01: +0\",158.018,\"5\"],[\"Mar 06 2021 01: +0\",173.319,\"8\"],[\"Mar 07 2021 01: +0\",169.531,\"4\"],[\"Mar 08 2021 01: +0\",161.513,\"3\"],[\"Mar 09 2021 01: +0\",161.451,\"4\"],[\"Mar 10 2021 01: +0\",148.05,\"6\"],[\"Mar 11 2021 01: +0\",168.94,\"1\"],[\"Mar 12 2021 01: +0\",164.646,\"2\"],[\"Mar 13 2021 01: +0\",160.443,\"3\"],[\"Mar 14 2021 01: +0\",210.641,\"1\"],[\"Mar 15 2021 01: +0\",152.405,\"2\"],[\"Mar 16 2021 01: +0\",162.915,\"3\"],[\"Mar 17 2021 01: +0\",162.165,\"3\"],[\"Mar 18 2021 01: +0\",159.767,\"5\"],[\"Mar 19 2021 01: +0\",163.217,\"4\"],[\"Mar 20 2021 01: +0\",164.048,\"2\"],[\"Mar 21 2021 01: +0\",150.01,\"6\"],[\"Mar 22 2021 01: +0\",147.057,\"4\"],[\"Mar 23 2021 01: +0\",149.663,\"3\"],[\"Mar 24 2021 01: +0\",149.99,\"5\"],[\"Mar 25 2021 01: +0\",160.744,\"4\"],[\"Mar 26 2021 01: +0\",153.538,\"9\"],[\"Mar 27 2021 01: +0\",181.534,\"3\"],[\"Mar 28 2021 01: +0\",152.619,\"3\"],[\"Mar 29 2021 01: +0\",152.207,\"5\"],[\"Mar 30 2021 01: +0\",160.026,\"8\"],[\"Mar 31 2021 01: +0\",154.303,\"3\"],[\"Apr 01 2021 01: +0\",155.519,\"4\"],[\"Apr 02 2021 01: +0\",156.681,\"3\"],[\"Apr 03 2021 01: +0\",161.869,\"4\"],[\"Apr 04 2021 01: +0\",153.357,\"3\"],[\"Apr 05 2021 01: +0\",159.9,\"7\"],[\"Apr 06 2021 01: +0\",163.687,\"5\"],[\"Apr 07 2021 01: +0\",157.71,\"4\"],[\"Apr 08 2021 01: +0\",159.668,\"4\"],[\"Apr 09 2021 01: +0\",154.132,\"9\"],[\"Apr 10 2021 01: +0\",147.738,\"3\"],[\"Apr 11 2021 01: +0\",141.31,\"2\"],[\"Apr 12 2021 01: +0\",155.239,\"4\"],[\"Apr 13 2021 01: +0\",143.398,\"4\"],[\"Apr 14 2021 01: +0\",146.999,\"3\"],[\"Apr 15 2021 01: +0\",150.757,\"3\"],[\"Apr 16 2021 01: +0\",145.027,\"6\"],[\"Apr 17 2021 01: +0\",146.75,\"7\"],[\"Apr 18 2021 01: +0\",149.52,\"5\"],[\"Apr 19 2021 01: +0\",144.625,\"8\"],[\"Apr 20 2021 01: +0\",145.637,\"5\"],[\"Apr 21 2021 01: +0\",142.679,\"8\"],[\"Apr 22 2021 01: +0\",147.216,\"3\"],[\"Apr 23 2021 01: +0\",139.21,\"1\"],[\"Apr 24 2021 01: +0\",139.449,\"5\"],[\"Apr 25 2021 01: +0\",145.682,\"6\"],[\"Apr 26 2021 01: +0\",139.844,\"5\"],[\"Apr 27 2021 01: +0\",141.22,\"3\"],[\"Apr 28 2021 01: +0\",147.841,\"3\"],[\"Apr 29 2021 01: +0\",144.047,\"5\"],[\"Apr 30 2021 01: +0\",153.726,\"6\"],[\"May 01 2021 01: +0\",134.906,\"7\"],[\"May 02 2021 01: +0\",150.455,\"5\"],[\"May 03 2021 01: +0\",141.103,\"5\"],[\"May 04 2021 01: +0\",137.924,\"8\"],[\"May 05 2021 01: +0\",141.754,\"8\"],[\"May 06 2021 01: +0\",142.618,\"5\"],[\"May 07 2021 01: +0\",144.083,\"8\"],[\"May 08 2021 01: +0\",129.114,\"5\"],[\"May 09 2021 01: +0\",133.528,\"8\"],[\"May 10 2021 01: +0\",131.981,\"9\"],[\"May 11 2021 01: +0\",137.28,\"11\"],[\"May 12 2021 01: +0\",144.702,\"9\"],[\"May 13 2021 01: +0\",133.082,\"9\"],[\"May 14 2021 01: +0\",136.266,\"10\"],[\"May 15 2021 01: +0\",130.854,\"9\"],[\"May 16 2021 01: +0\",133.434,\"8\"],[\"May 17 2021 01: +0\",139.657,\"6\"],[\"May 18 2021 01: +0\",138.402,\"6\"],[\"May 19 2021 01: +0\",131.594,\"3\"],[\"May 20 2021 01: +0\",133.724,\"6\"],[\"May 21 2021 01: +0\",132.92,\"8\"],[\"May 22 2021 01: +0\",128.795,\"7\"],[\"May 23 2021 01: +0\",133.715,\"6\"],[\"May 24 2021 01: +0\",130.025,\"9\"],[\"May 25 2021 01: +0\",133.095,\"8\"],[\"May 26 2021 01: +0\",136.836,\"11\"],[\"May 27 2021 01: +0\",136.411,\"10\"],[\"May 28 2021 01: +0\",134.602,\"8\"],[\"May 29 2021 01: +0\",123.203,\"4\"],[\"May 30 2021 01: +0\",126.658,\"6\"],[\"May 31 2021 01: +0\",130.535,\"12\"],[\"Jun 01 2021 01: +0\",124.424,\"3\"],[\"Jun 02 2021 01: +0\",128.995,\"5\"],[\"Jun 03 2021 01: +0\",131.832,\"9\"],[\"Jun 04 2021 01: +0\",125.432,\"5\"],[\"Jun 05 2021 01: +0\",124.975,\"12\"],[\"Jun 06 2021 01: +0\",131.829,\"10\"],[\"Jun 07 2021 01: +0\",125.615,\"7\"],[\"Jun 08 2021 01: +0\",132.619,\"5\"],[\"Jun 09 2021 01: +0\",129.129,\"6\"],[\"Jun 10 2021 01: +0\",129.927,\"5\"],[\"Jun 11 2021 01: +0\",129.86,\"3\"],[\"Jun 12 2021 01: +0\",129.382,\"9\"],[\"Jun 13 2021 01: +0\",123.463,\"3\"],[\"Jun 14 2021 01: +0\",119.156,\"5\"],[\"Jun 15 2021 01: +0\",128.585,\"4\"],[\"Jun 16 2021 01: +0\",121.759,\"3\"],[\"Jun 17 2021 01: +0\",122.622,\"12\"],[\"Jun 18 2021 01: +0\",125.088,\"10\"],[\"Jun 19 2021 01: +0\",120.565,\"7\"],[\"Jun 20 2021 01: +0\",122.894,\"3\"],[\"Jun 21 2021 01: +0\",122.791,\"4\"],[\"Jun 22 2021 01: +0\",116.472,\"11\"],[\"Jun 23 2021 01: +0\",120.703,\"7\"],[\"Jun 24 2021 01: +0\",115.589,\"5\"],[\"Jun 25 2021 01: +0\",115.653,\"8\"],[\"Jun 26 2021 01: +0\",109.039,\"11\"],[\"Jun 27 2021 01: +0\",121.111,\"5\"],[\"Jun 28 2021 01: +0\",111.202,\"3\"],[\"Jun 29 2021 01: +0\",107.883,\"9\"],[\"Jun 30 2021 01: +0\",104.659,\"10\"],[\"Jul 01 2021 01: +0\",102.939,\"9\"],[\"Jul 02 2021 01: +0\",102.417,\"6\"],[\"Jul 03 2021 01: +0\",103.364,\"10\"],[\"Jul 04 2021 01: +0\",108.329,\"4\"],[\"Jul 05 2021 01: +0\",103.426,\"8\"],[\"Jul 06 2021 01: +0\",103.701,\"11\"],[\"Jul 07 2021 01: +0\",103.271,\"6\"],[\"Jul 08 2021 01: +0\",102.092,\"6\"],[\"Jul 09 2021 01: +0\",99.927,\"3\"],[\"Jul 10 2021 01: +0\",102.426,\"8\"],[\"Jul 11 2021 01: +0\",100.054,\"10\"],[\"Jul 12 2021 01: +0\",100.578,\"6\"],[\"Jul 13 2021 01: +0\",101.108,\"8\"],[\"Jul 14 2021 01: +0\",105.492,\"3\"],[\"Jul 15 2021 01: +0\",106.606,\"7\"],[\"Jul 16 2021 01: +0\",98.627,\"5\"],[\"Jul 17 2021 01: +0\",100.193,\"8\"],[\"Jul 18 2021 01: +0\",95.635,\"6\"],[\"Jul 19 2021 01: +0\",99.771,\"7\"],[\"Jul 20 2021 01: +0\",103.895,\"9\"],[\"Jul 21 2021 01: +0\",110.516,\"5\"],[\"Jul 22 2021 01: +0\",101.073,\"3\"],[\"Jul 23 2021 01: +0\",96.426,\"10\"],[\"Jul 24 2021 01: +0\",103.869,\"5\"],[\"Jul 25 2021 01: +0\",103.867,\"11\"],[\"Jul 26 2021 01: +0\",110.825,\"11\"],[\"Jul 27 2021 01: +0\",102.86,\"4\"],[\"Jul 28 2021 01: +0\",105.414,\"6\"],[\"Jul 29 2021 01: +0\",106.031,\"11\"],[\"Jul 30 2021 01: +0\",105.254,\"6\"],[\"Jul 31 2021 01: +0\",110.161,\"9\"],[\"Aug 01 2021 01: +0\",106.853,\"10\"],[\"Aug 02 2021 01: +0\",109.238,\"16\"],[\"Aug 03 2021 01: +0\",105.259,\"9\"],[\"Aug 04 2021 01: +0\",105.315,\"8\"],[\"Aug 05 2021 01: +0\",111.318,\"7\"],[\"Aug 06 2021 01: +0\",109.023,\"7\"],[\"Aug 07 2021 01: +0\",108.258,\"6\"],[\"Aug 08 2021 01: +0\",100.065,\"5\"],[\"Aug 09 2021 01: +0\",91.068,\"13\"],[\"Aug 10 2021 01: +0\",104.098,\"9\"],[\"Aug 11 2021 01: +0\",110.143,\"2\"],[\"Aug 12 2021 01: +0\",101.03,\"4\"],[\"Aug 13 2021 01: +0\",98.825,\"4\"],[\"Aug 14 2021 01: +0\",100.321,\"11\"],[\"Aug 15 2021 01: +0\",97.239,\"7\"],[\"Aug 16 2021 01: +0\",98.637,\"11\"],[\"Aug 17 2021 01: +0\",91.589,\"7\"],[\"Aug 18 2021 01: +0\",92.713,\"7\"],[\"Aug 19 2021 01: +0\",97.658,\"10\"],[\"Aug 20 2021 01: +0\",95.387,\"7\"],[\"Aug 21 2021 01: +0\",98.101,\"11\"],[\"Aug 22 2021 01: +0\",95.343,\"8\"],[\"Aug 23 2021 01: +0\",98.951,\"7\"],[\"Aug 24 2021 01: +0\",95.878,\"6\"],[\"Aug 25 2021 01: +0\",100.269,\"11\"],[\"Aug 26 2021 01: +0\",94.426,\"7\"],[\"Aug 27 2021 01: +0\",91.288,\"2\"],[\"Aug 28 2021 01: +0\",100.839,\"8\"],[\"Aug 29 2021 01: +0\",99.951,\"9\"],[\"Aug 30 2021 01: +0\",99.893,\"4\"],[\"Aug 31 2021 01: +0\",94.625,\"12\"],[\"Sep 01 2021 01: +0\",100.116,\"6\"],[\"Sep 02 2021 01: +0\",96.757,\"9\"],[\"Sep 03 2021 01: +0\",94.543,\"11\"],[\"Sep 04 2021 01: +0\",102.945,\"10\"],[\"Sep 05 2021 01: +0\",101.204,\"7\"],[\"Sep 06 2021 01: +0\",99.656,\"8\"],[\"Sep 07 2021 01: +0\",101.506,\"10\"],[\"Sep 08 2021 01: +0\",93.332,\"5\"],[\"Sep 09 2021 01: +0\",97.496,\"8\"],[\"Sep 10 2021 01: +0\",101.223,\"6\"],[\"Sep 11 2021 01: +0\",97.962,\"7\"],[\"Sep 12 2021 01: +0\",97.531,\"7\"],[\"Sep 13 2021 01: +0\",95.86,\"10\"],[\"Sep 14 2021 01: +0\",94.532,\"7\"],[\"Sep 15 2021 01: +0\",95.403,\"10\"],[\"Sep 16 2021 01: +0\",95.323,\"10\"],[\"Sep 17 2021 01: +0\",86.304,\"11\"],[\"Sep 18 2021 01: +0\",93.257,\"9\"],[\"Sep 19 2021 01: +0\",97.764,\"6\"],[\"Sep 20 2021 01: +0\",94.131,\"10\"],[\"Sep 21 2021 01: +0\",88.531,\"8\"],[\"Sep 22 2021 01: +0\",78.07,\"18\"],[\"Sep 23 2021 01: +0\",80.115,\"21\"],[\"Sep 24 2021 01: +0\",78.922,\"18\"],[\"Sep 25 2021 01: +0\",81.092,\"16\"],[\"Sep 26 2021 01: +0\",82.245,\"9\"],[\"Sep 27 2021 01: +0\",81.269,\"14\"],[\"Sep 28 2021 01: +0\",81.114,\"13\"],[\"Sep 29 2021 01: +0\",83.514,\"10\"],[\"Sep 30 2021 01: +0\",86.456,\"5\"],[\"Oct 01 2021 01: +0\",86.094,\"12\"],[\"Oct 02 2021 01: +0\",87.376,\"6\"],[\"Oct 03 2021 01: +0\",83.258,\"10\"],[\"Oct 04 2021 01: +0\",80.778,\"8\"],[\"Oct 05 2021 01: +0\",85.947,\"14\"],[\"Oct 06 2021 01: +0\",87.799,\"12\"],[\"Oct 07 2021 01: +0\",81.39,\"6\"],[\"Oct 08 2021 01: +0\",93.511,\"5\"],[\"Oct 09 2021 01: +0\",87.686,\"7\"],[\"Oct 10 2021 01: +0\",86.718,\"12\"],[\"Oct 11 2021 01: +0\",82.51,\"12\"],[\"Oct 12 2021 01: +0\",86.043,\"8\"],[\"Oct 13 2021 01: +0\",92.923,\"10\"],[\"Oct 14 2021 01: +0\",88.97,\"10\"],[\"Oct 15 2021 01: +0\",87.695,\"12\"],[\"Oct 16 2021 01: +0\",90.492,\"7\"],[\"Oct 17 2021 01: +0\",93.024,\"9\"],[\"Oct 18 2021 01: +0\",89.993,\"5\"],[\"Oct 19 2021 01: +0\",86.045,\"11\"],[\"Oct 20 2021 01: +0\",82.36,\"7\"],[\"Oct 21 2021 01: +0\",91.567,\"7\"],[\"Oct 22 2021 01: +0\",84.788,\"13\"],[\"Oct 23 2021 01: +0\",86.467,\"6\"],[\"Oct 24 2021 01: +0\",84.259,\"10\"],[\"Oct 25 2021 01: +0\",84.575,\"8\"],[\"Oct 26 2021 01: +0\",85.213,\"10\"],[\"Oct 27 2021 01: +0\",83.625,\"15\"],[\"Oct 28 2021 01: +0\",86.345,\"6\"],[\"Oct 29 2021 01: +0\",83.3,\"9\"],[\"Oct 30 2021 01: +0\",86.692,\"16\"],[\"Oct 31 2021 01: +0\",86.09,\"6\"],[\"Nov 01 2021 01: +0\",84.467,\"13\"],[\"Nov 02 2021 01: +0\",89.04,\"9\"],[\"Nov 03 2021 01: +0\",83.64,\"10\"],[\"Nov 04 2021 01: +0\",85.965,\"11\"],[\"Nov 05 2021 01: +0\",83.401,\"15\"],[\"Nov 06 2021 01: +0\",85.261,\"8\"],[\"Nov 07 2021 01: +0\",85.842,\"15\"],[\"Nov 08 2021 01: +0\",83.718,\"9\"],[\"Nov 09 2021 01: +0\",80.804,\"12\"],[\"Nov 10 2021 01: +0\",81.943,\"11\"],[\"Nov 11 2021 01: +0\",83.677,\"11\"],[\"Nov 12 2021 01: +0\",77.358,\"7\"],[\"Nov 13 2021 01: +0\",81.447,\"16\"],[\"Nov 14 2021 01: +0\",81.757,\"9\"],[\"Nov 15 2021 01: +0\",83.049,\"14\"],[\"Nov 16 2021 01: +0\",84.463,\"10\"],[\"Nov 17 2021 01: +0\",84.444,\"7\"],[\"Nov 18 2021 01: +0\",82.705,\"15\"],[\"Nov 19 2021 01: +0\",83.691,\"7\"],[\"Nov 20 2021 01: +0\",83.056,\"8\"],[\"Nov 21 2021 01: +0\",79.484,\"9\"],[\"Nov 22 2021 01: +0\",83.926,\"9\"],[\"Nov 23 2021 01: +0\",81.012,\"10\"],[\"Nov 24 2021 01: +0\",83.394,\"12\"],[\"Nov 25 2021 01: +0\",85.528,\"6\"],[\"Nov 26 2021 01: +0\",81.236,\"11\"],[\"Nov 27 2021 01: +0\",84.641,\"7\"],[\"Nov 28 2021 01: +0\",82.581,\"9\"],[\"Nov 29 2021 01: +0\",82.233,\"5\"],[\"Nov 30 2021 01: +0\",82.38,\"9\"],[\"Dec 01 2021 01: +0\",79.501,\"6\"],[\"Dec 02 2021 01: +0\",80.681,\"6\"],[\"Dec 03 2021 01: +0\",84.16,\"8\"],[\"Dec 04 2021 01: +0\",85.661,\"11\"],[\"Dec 05 2021 01: +0\",85.916,\"10\"],[\"Dec 06 2021 01: +0\",86.788,\"7\"],[\"Dec 07 2021 01: +0\",86.907,\"8\"],[\"Dec 08 2021 01: +0\",88.962,\"11\"],[\"Dec 09 2021 01: +0\",87.604,\"11\"],[\"Dec 10 2021 01: +0\",88.52,\"7\"],[\"Dec 11 2021 01: +0\",89.955,\"10\"],[\"Dec 12 2021 01: +0\",89.953,\"4\"],[\"Dec 13 2021 01: +0\",86.201,\"11\"],[\"Dec 14 2021 01: +0\",87.868,\"10\"],[\"Dec 15 2021 01: +0\",89.371,\"7\"],[\"Dec 16 2021 01: +0\",86.649,\"9\"],[\"Dec 17 2021 01: +0\",90.806,\"6\"],[\"Dec 18 2021 01: +0\",87.192,\"9\"],[\"Dec 19 2021 01: +0\",82.289,\"11\"],[\"Dec 20 2021 01: +0\",84.436,\"10\"],[\"Dec 21 2021 01: +0\",83.743,\"8\"],[\"Dec 22 2021 01: +0\",89.363,\"11\"],[\"Dec 23 2021 01: +0\",84.983,\"6\"],[\"Dec 24 2021 01: +0\",88.258,\"11\"],[\"Dec 25 2021 01: +0\",90.849,\"13\"],[\"Dec 26 2021 01: +0\",89.175,\"13\"],[\"Dec 27 2021 01: +0\",97.791,\"6\"],[\"Dec 28 2021 01: +0\",98.573,\"5\"],[\"Dec 29 2021 01: +0\",95.31,\"14\"],[\"Dec 30 2021 01: +0\",99.658,\"3\"],[\"Dec 31 2021 01: +0\",90.945,\"8\"],[\"Jan 01 2022 01: +0\",80.352,\"6\"],[\"Jan 02 2022 01: +0\",90.549,\"6\"],[\"Jan 03 2022 01: +0\",90.292,\"11\"],[\"Jan 04 2022 01: +0\",92.006,\"9\"],[\"Jan 05 2022 01: +0\",93.074,\"8\"],[\"Jan 06 2022 01: +0\",99.081,\"10\"],[\"Jan 07 2022 01: +0\",94.571,\"7\"],[\"Jan 08 2022 01: +0\",98.346,\"5\"],[\"Jan 09 2022 01: +0\",100.563,\"8\"],[\"Jan 10 2022 01: +0\",94.292,\"7\"],[\"Jan 11 2022 01: +0\",97.77,\"11\"],[\"Jan 12 2022 01: +0\",91.061,\"5\"],[\"Jan 13 2022 01: +0\",94.687,\"7\"],[\"Jan 14 2022 01: +0\",98.897,\"5\"],[\"Jan 15 2022 01: +0\",97.368,\"10\"],[\"Jan 16 2022 01: +0\",93.291,\"7\"],[\"Jan 17 2022 01: +0\",100.659,\"11\"],[\"Jan 18 2022 01: +0\",94.671,\"4\"],[\"Jan 19 2022 01: +0\",95.983,\"8\"],[\"Jan 20 2022 01: +0\",95.331,\"5\"],[\"Jan 21 2022 01: +0\",105.184,\"4\"],[\"Jan 22 2022 01: +0\",95.085,\"16\"],[\"Jan 23 2022 01: +0\",97.534,\"6\"],[\"Jan 24 2022 01: +0\",94.416,\"6\"],[\"Jan 25 2022 01: +0\",96.58,\"8\"],[\"Jan 26 2022 01: +0\",91.666,\"7\"],[\"Jan 27 2022 01: +0\",93.121,\"3\"],[\"Jan 28 2022 01: +0\",97.254,\"12\"],[\"Jan 29 2022 01: +0\",95.053,\"11\"],[\"Jan 30 2022 01: +0\",88.095,\"8\"],[\"Jan 31 2022 01: +0\",95.659,\"7\"],[\"Feb 01 2022 01: +0\",92.518,\"14\"],[\"Feb 02 2022 01: +0\",89.958,\"7\"],[\"Feb 03 2022 01: +0\",94.713,\"13\"],[\"Feb 04 2022 01: +0\",90.244,\"16\"],[\"Feb 05 2022 01: +0\",96.92,\"10\"],[\"Feb 06 2022 01: +0\",97.415,\"9\"],[\"Feb 07 2022 01: +0\",91.109,\"7\"],[\"Feb 08 2022 01: +0\",90.914,\"9\"],[\"Feb 09 2022 01: +0\",93.004,\"5\"],[\"Feb 10 2022 01: +0\",104.949,\"5\"],[\"Feb 11 2022 01: +0\",94.866,\"10\"],[\"Feb 12 2022 01: +0\",93.358,\"9\"],[\"Feb 13 2022 01: +0\",89.899,\"7\"],[\"Feb 14 2022 01: +0\",95.406,\"10\"],[\"Feb 15 2022 01: +0\",97.592,\"9\"],[\"Feb 16 2022 01: +0\",92.467,\"11\"],[\"Feb 17 2022 01: +0\",94.989,\"8\"],[\"Feb 18 2022 01: +0\",95.065,\"7\"],[\"Feb 19 2022 01: +0\",94.914,\"5\"],[\"Feb 20 2022 01: +0\",95.216,\"7\"],[\"Feb 21 2022 01: +0\",97.904,\"8\"],[\"Feb 22 2022 01: +0\",95.548,\"9\"],[\"Feb 23 2022 01: +0\",99.269,\"12\"],[\"Feb 24 2022 01: +0\",92.791,\"12\"],[\"Feb 25 2022 01: +0\",92.688,\"13\"],[\"Feb 26 2022 01: +0\",95.778,\"7\"],[\"Feb 27 2022 01: +0\",90.07,\"10\"],[\"Feb 28 2022 01: +0\",89.85,\"6\"],[\"Mar 01 2022 01: +0\",96.544,\"9\"],[\"Mar 02 2022 01: +0\",98.842,\"10\"],[\"Mar 03 2022 01: +0\",94.983,\"11\"],[\"Mar 04 2022 01: +0\",95.621,\"5\"],[\"Mar 05 2022 01: +0\",100.874,\"8\"],[\"Mar 06 2022 01: +0\",95.557,\"7\"],[\"Mar 07 2022 01: +0\",94.972,\"12\"],[\"Mar 08 2022 01: +0\",101.049,\"9\"],[\"Mar 09 2022 01: +0\",94.47,\"8\"],[\"Mar 10 2022 01: +0\",94.543,\"6\"],[\"Mar 11 2022 01: +0\",96.239,\"7\"],[\"Mar 12 2022 01: +0\",96.272,\"10\"],[\"Mar 13 2022 01: +0\",100.318,\"10\"],[\"Mar 14 2022 01: +0\",95.378,\"4\"],[\"Mar 15 2022 01: +0\",98.81,\"8\"],[\"Mar 16 2022 01: +0\",91.734,\"13\"],[\"Mar 17 2022 01: +0\",98.63,\"11\"],[\"Mar 18 2022 01: +0\",95.494,\"9\"],[\"Mar 19 2022 01: +0\",93.134,\"9\"],[\"Mar 20 2022 01: +0\",97.646,\"8\"],[\"Mar 21 2022 01: +0\",95.036,\"12\"],[\"Mar 22 2022 01: +0\",98.551,\"6\"],[\"Mar 23 2022 01: +0\",99.106,\"5\"],[\"Mar 24 2022 01: +0\",97.994,\"11\"],[\"Mar 25 2022 01: +0\",99.017,\"9\"],[\"Mar 26 2022 01: +0\",98.484,\"6\"],[\"Mar 27 2022 01: +0\",98.697,\"8\"],[\"Mar 28 2022 01: +0\",98.779,\"6\"],[\"Mar 29 2022 01: +0\",97.177,\"5\"],[\"Mar 30 2022 01: +0\",93.579,\"10\"],[\"Mar 31 2022 01: +0\",99.427,\"13\"],[\"Apr 01 2022 01: +0\",95.028,\"9\"],[\"Apr 02 2022 01: +0\",98.226,\"8\"],[\"Apr 03 2022 01: +0\",96.342,\"9\"],[\"Apr 04 2022 01: +0\",108.147,\"5\"],[\"Apr 05 2022 01: +0\",103.288,\"10\"],[\"Apr 06 2022 01: +0\",94.493,\"4\"],[\"Apr 07 2022 01: +0\",97.724,\"13\"],[\"Apr 08 2022 01: +0\",102.341,\"12\"],[\"Apr 09 2022 01: +0\",101.978,\"8\"],[\"Apr 10 2022 01: +0\",99.215,\"9\"],[\"Apr 11 2022 01: +0\",98.02,\"8\"],[\"Apr 12 2022 01: +0\",105.495,\"7\"],[\"Apr 13 2022 01: +0\",103.505,\"12\"],[\"Apr 14 2022 01: +0\",92.517,\"3\"],[\"Apr 15 2022 01: +0\",103.152,\"9\"],[\"Apr 16 2022 01: +0\",102.87,\"9\"],[\"Apr 17 2022 01: +0\",103.459,\"5\"],[\"Apr 18 2022 01: +0\",100.25,\"6\"],[\"Apr 19 2022 01: +0\",101.067,\"7\"],[\"Apr 20 2022 01: +0\",99.009,\"8\"],[\"Apr 21 2022 01: +0\",98.236,\"5\"],[\"Apr 22 2022 01: +0\",97.897,\"6\"],[\"Apr 23 2022 01: +0\",96.575,\"7\"],[\"Apr 24 2022 01: +0\",101.238,\"10\"],[\"Apr 25 2022 01: +0\",104.085,\"6\"],[\"Apr 26 2022 01: +0\",101.362,\"8\"],[\"Apr 27 2022 01: +0\",100.245,\"6\"],[\"Apr 28 2022 01: +0\",91.564,\"6\"],[\"Apr 29 2022 01: +0\",97.923,\"9\"],[\"Apr 30 2022 01: +0\",94.008,\"10\"],[\"May 01 2022 01: +0\",97.809,\"7\"],[\"May 02 2022 01: +0\",95.956,\"11\"],[\"May 03 2022 01: +0\",91.11,\"6\"],[\"May 04 2022 01: +0\",96.845,\"13\"],[\"May 05 2022 01: +0\",103.954,\"3\"],[\"May 06 2022 01: +0\",104.29,\"10\"],[\"May 07 2022 01: +0\",100.749,\"9\"],[\"May 08 2022 01: +0\",97.733,\"5\"],[\"May 09 2022 01: +0\",88.07,\"5\"],[\"May 10 2022 01: +0\",94.976,\"8\"],[\"May 11 2022 01: +0\",91.566,\"5\"],[\"May 12 2022 01: +0\",96.856,\"7\"],[\"May 13 2022 01: +0\",97.919,\"8\"],[\"May 14 2022 01: +0\",92.509,\"10\"],[\"May 15 2022 01: +0\",94.279,\"5\"],[\"May 16 2022 01: +0\",91.03,\"8\"],[\"May 17 2022 01: +0\",93.375,\"10\"],[\"May 18 2022 01: +0\",88.007,\"7\"],[\"May 19 2022 01: +0\",95.291,\"2\"],[\"May 20 2022 01: +0\",91.421,\"6\"],[\"May 21 2022 01: +0\",92.074,\"10\"],[\"May 22 2022 01: +0\",94.581,\"7\"],[\"May 23 2022 01: +0\",89.567,\"15\"],[\"May 24 2022 01: +0\",95.111,\"11\"],[\"May 25 2022 01: +0\",91.534,\"8\"],[\"May 26 2022 01: +0\",91.07,\"7\"],[\"May 27 2022 01: +0\",91.223,\"11\"],[\"May 28 2022 01: +0\",88.641,\"12\"],[\"May 29 2022 01: +0\",92.451,\"9\"],[\"May 30 2022 01: +0\",94.736,\"9\"],[\"May 31 2022 01: +0\",92.227,\"9\"],[\"Jun 01 2022 01: +0\",90.188,\"13\"],[\"Jun 02 2022 01: +0\",90.665,\"4\"],[\"Jun 03 2022 01: +0\",89.019,\"6\"],[\"Jun 04 2022 01: +0\",84.597,\"7\"],[\"Jun 05 2022 01: +0\",92.49,\"8\"],[\"Jun 06 2022 01: +0\",94.209,\"8\"],[\"Jun 07 2022 01: +0\",91.753,\"6\"],[\"Jun 08 2022 01: +0\",89.068,\"10\"],[\"Jun 09 2022 01: +0\",90.351,\"7\"],[\"Jun 10 2022 01: +0\",87.097,\"4\"],[\"Jun 11 2022 01: +0\",92.227,\"14\"],[\"Jun 12 2022 01: +0\",88.836,\"6\"],[\"Jun 13 2022 01: +0\",85.186,\"8\"],[\"Jun 14 2022 01: +0\",86.994,\"11\"],[\"Jun 15 2022 01: +0\",88.439,\"9\"],[\"Jun 16 2022 01: +0\",84.235,\"12\"],[\"Jun 17 2022 01: +0\",83.734,\"12\"],[\"Jun 18 2022 01: +0\",85.003,\"10\"],[\"Jun 19 2022 01: +0\",82.134,\"8\"],[\"Jun 20 2022 01: +0\",83.5,\"8\"],[\"Jun 21 2022 01: +0\",85.499,\"13\"],[\"Jun 22 2022 01: +0\",84.954,\"7\"],[\"Jun 23 2022 01: +0\",81.492,\"14\"],[\"Jun 24 2022 01: +0\",83.786,\"9\"],[\"Jun 25 2022 01: +0\",80.432,\"7\"],[\"Jun 26 2022 01: +0\",83.346,\"13\"],[\"Jun 27 2022 01: +0\",79.865,\"7\"],[\"Jun 28 2022 01: +0\",83.03,\"6\"],[\"Jun 29 2022 01: +0\",85.286,\"12\"],[\"Jun 30 2022 01: +0\",82.645,\"11\"],[\"Jul 01 2022 01: +0\",83.778,\"11\"],[\"Jul 02 2022 01: +0\",82.969,\"21\"],[\"Jul 03 2022 01: +0\",81.085,\"12\"],[\"Jul 04 2022 01: +0\",82.225,\"10\"],[\"Jul 05 2022 01: +0\",88.253,\"15\"],[\"Jul 06 2022 01: +0\",81.15,\"16\"],[\"Jul 07 2022 01: +0\",82.297,\"13\"],[\"Jul 08 2022 01: +0\",79.317,\"11\"],[\"Jul 09 2022 01: +0\",80.107,\"19\"],[\"Jul 10 2022 01: +0\",80.951,\"11\"],[\"Jul 11 2022 01: +0\",81.749,\"11\"],[\"Jul 12 2022 01: +0\",83.216,\"13\"],[\"Jul 13 2022 01: +0\",89.472,\"5\"],[\"Jul 14 2022 01: +0\",82.154,\"16\"],[\"Jul 15 2022 01: +0\",84.2,\"16\"],[\"Jul 16 2022 01: +0\",82.22,\"11\"],[\"Jul 17 2022 01: +0\",85.085,\"14\"],[\"Jul 18 2022 01: +0\",84.904,\"11\"],[\"Jul 19 2022 01: +0\",86.265,\"11\"],[\"Jul 20 2022 01: +0\",88.27,\"9\"],[\"Jul 21 2022 01: +0\",84.837,\"11\"],[\"Jul 22 2022 01: +0\",85.086,\"10\"],[\"Jul 23 2022 01: +0\",83.664,\"13\"],[\"Jul 24 2022 01: +0\",86.383,\"7\"],[\"Jul 25 2022 01: +0\",93.164,\"12\"],[\"Jul 26 2022 01: +0\",88.169,\"9\"],[\"Jul 27 2022 01: +0\",88.312,\"3\"],[\"Jul 28 2022 01: +0\",89.656,\"6\"],[\"Jul 29 2022 01: +0\",85.5,\"16\"],[\"Jul 30 2022 01: +0\",83.162,\"13\"],[\"Jul 31 2022 01: +0\",84.55,\"11\"],[\"Aug 01 2022 01: +0\",87.107,\"14\"],[\"Aug 02 2022 01: +0\",88.878,\"9\"],[\"Aug 03 2022 01: +0\",85.333,\"12\"],[\"Aug 04 2022 01: +0\",92.088,\"5\"],[\"Aug 05 2022 01: +0\",86.902,\"11\"],[\"Aug 06 2022 01: +0\",89.179,\"8\"],[\"Aug 07 2022 01: +0\",88.919,\"8\"],[\"Aug 08 2022 01: +0\",83.628,\"10\"],[\"Aug 09 2022 01: +0\",86.054,\"6\"],[\"Aug 10 2022 01: +0\",87.219,\"13\"],[\"Aug 11 2022 01: +0\",86.999,\"14\"],[\"Aug 12 2022 01: +0\",84.683,\"10\"],[\"Aug 13 2022 01: +0\",85.555,\"15\"],[\"Aug 14 2022 01: +0\",82.525,\"22\"],[\"Aug 15 2022 01: +0\",85.974,\"13\"],[\"Aug 16 2022 01: +0\",86.299,\"16\"],[\"Aug 17 2022 01: +0\",86.328,\"12\"],[\"Aug 18 2022 01: +0\",85.892,\"13\"],[\"Aug 19 2022 01: +0\",82.241,\"9\"],[\"Aug 20 2022 01: +0\",86.775,\"15\"],[\"Aug 21 2022 01: +0\",85.273,\"10\"],[\"Aug 22 2022 01: +0\",85.224,\"11\"],[\"Aug 23 2022 01: +0\",80.875,\"14\"],[\"Aug 24 2022 01: +0\",80.784,\"18\"],[\"Aug 25 2022 01: +0\",87.838,\"9\"],[\"Aug 26 2022 01: +0\",82.95,\"12\"],[\"Aug 27 2022 01: +0\",84.127,\"14\"],[\"Aug 28 2022 01: +0\",83.063,\"11\"],[\"Aug 29 2022 01: +0\",83.889,\"7\"],[\"Aug 30 2022 01: +0\",82.355,\"8\"],[\"Aug 31 2022 01: +0\",84.585,\"16\"],[\"Sep 01 2022 01: +0\",82.861,\"16\"],[\"Sep 02 2022 01: +0\",82.463,\"16\"],[\"Sep 03 2022 01: +0\",85.504,\"8\"],[\"Sep 04 2022 01: +0\",81.805,\"16\"],[\"Sep 05 2022 01: +0\",81.877,\"16\"],[\"Sep 06 2022 01: +0\",82.967,\"13\"],[\"Sep 07 2022 01: +0\",80.398,\"12\"],[\"Sep 08 2022 01: +0\",84.198,\"13\"],[\"Sep 09 2022 01: +0\",83.19,\"12\"],[\"Sep 10 2022 01: +0\",83.647,\"13\"],[\"Sep 11 2022 01: +0\",81.409,\"12\"],[\"Sep 12 2022 01: +0\",79.032,\"19\"],[\"Sep 13 2022 01: +0\",74.038,\"10\"],[\"Sep 14 2022 01: +0\",82.398,\"10\"],[\"Sep 15 2022 01: +0\",79.928,\"10\"],[\"Sep 16 2022 01: +0\",77.595,\"24\"],[\"Sep 17 2022 01: +0\",81.938,\"19\"],[\"Sep 18 2022 01: +0\",77.749,\"12\"],[\"Sep 19 2022 01: +0\",79.148,\"12\"],[\"Sep 20 2022 01: +0\",78.804,\"12\"],[\"Sep 21 2022 01: +0\",75.077,\"9\"],[\"Sep 22 2022 01: +0\",75.214,\"18\"],[\"Sep 23 2022 01: +0\",74.482,\"15\"],[\"Sep 24 2022 01: +0\",75.009,\"17\"],[\"Sep 25 2022 01: +0\",72.341,\"19\"],[\"Sep 26 2022 01: +0\",76.171,\"16\"],[\"Sep 27 2022 01: +0\",73.797,\"14\"],[\"Sep 28 2022 01: +0\",74.373,\"14\"],[\"Sep 29 2022 01: +0\",75.233,\"11\"],[\"Sep 30 2022 01: +0\",77.158,\"12\"],[\"Oct 01 2022 01: +0\",75.216,\"13\"],[\"Oct 02 2022 01: +0\",76.291,\"12\"],[\"Oct 03 2022 01: +0\",78.316,\"15\"],[\"Oct 04 2022 01: +0\",79.136,\"7\"],[\"Oct 05 2022 01: +0\",74.181,\"14\"],[\"Oct 06 2022 01: +0\",75.921,\"14\"],[\"Oct 07 2022 01: +0\",80.013,\"12\"],[\"Oct 08 2022 01: +0\",79.905,\"17\"],[\"Oct 09 2022 01: +0\",77.73,\"14\"],[\"Oct 10 2022 01: +0\",83.705,\"5\"],[\"Oct 11 2022 01: +0\",81.678,\"16\"],[\"Oct 12 2022 01: +0\",82.456,\"11\"],[\"Oct 13 2022 01: +0\",77.055,\"10\"],[\"Oct 14 2022 01: +0\",77.935,\"7\"],[\"Oct 15 2022 01: +0\",77.903,\"18\"],[\"Oct 16 2022 01: +0\",75.449,\"11\"],[\"Oct 17 2022 01: +0\",75.653,\"11\"],[\"Oct 18 2022 01: +0\",77.982,\"8\"],[\"Oct 19 2022 01: +0\",75.355,\"14\"],[\"Oct 20 2022 01: +0\",73.961,\"9\"],[\"Oct 21 2022 01: +0\",73.589,\"15\"],[\"Oct 22 2022 01: +0\",74.109,\"7\"],[\"Oct 23 2022 01: +0\",73.465,\"9\"],[\"Oct 24 2022 01: +0\",75.377,\"15\"],[\"Oct 25 2022 01: +0\",73.722,\"10\"],[\"Oct 26 2022 01: +0\",70.488,\"3\"],[\"Oct 27 2022 01: +0\",67.84,\"11\"],[\"Oct 28 2022 01: +0\",69.965,\"11\"],[\"Oct 29 2022 01: +0\",69.14,\"13\"],[\"Oct 30 2022 01: +0\",71.96,\"6\"],[\"Oct 31 2022 01: +0\",69.259,\"10\"],[\"Nov 01 2022 01: +0\",71.639,\"7\"],[\"Nov 02 2022 01: +0\",72.957,\"13\"],[\"Nov 03 2022 01: +0\",75.182,\"11\"],[\"Nov 04 2022 01: +0\",72.228,\"14\"],[\"Nov 05 2022 01: +0\",71.665,\"12\"],[\"Nov 06 2022 01: +0\",73.907,\"15\"],[\"Nov 07 2022 01: +0\",75.995,\"14\"],[\"Nov 08 2022 01: +0\",79.106,\"13\"],[\"Nov 09 2022 01: +0\",74.998,\"20\"],[\"Nov 10 2022 01: +0\",72.98,\"16\"],[\"Nov 11 2022 01: +0\",73.602,\"13\"],[\"Nov 12 2022 01: +0\",75.34,\"10\"],[\"Nov 13 2022 01: +0\",74.819,\"8\"],[\"Nov 14 2022 01: +0\",74.643,\"14\"],[\"Nov 15 2022 01: +0\",77.632,\"8\"],[\"Nov 16 2022 01: +0\",71.531,\"8\"],[\"Nov 17 2022 01: +0\",71.671,\"6\"],[\"Nov 18 2022 01: +0\",69.738,\"15\"],[\"Nov 19 2022 01: +0\",70.715,\"15\"],[\"Nov 20 2022 01: +0\",69.918,\"8\"],[\"Nov 21 2022 01: +0\",68.548,\"12\"],[\"Nov 22 2022 01: +0\",67.704,\"16\"],[\"Nov 23 2022 01: +0\",65.033,\"7\"],[\"Nov 24 2022 01: +0\",65.796,\"16\"],[\"Nov 25 2022 01: +0\",66.835,\"17\"],[\"Nov 26 2022 01: +0\",65.571,\"10\"],[\"Nov 27 2022 01: +0\",64.254,\"12\"],[\"Nov 28 2022 01: +0\",64.327,\"17\"],[\"Nov 29 2022 01: +0\",66.831,\"13\"],[\"Nov 30 2022 01: +0\",67.875,\"13\"],[\"Dec 01 2022 01: +0\",69.348,\"8\"],[\"Dec 02 2022 01: +0\",70.398,\"10\"],[\"Dec 03 2022 01: +0\",70.28,\"13\"],[\"Dec 04 2022 01: +0\",71.182,\"12\"],[\"Dec 05 2022 01: +0\",75.434,\"8\"],[\"Dec 06 2022 01: +0\",72.408,\"15\"],[\"Dec 07 2022 01: +0\",71.358,\"12\"],[\"Dec 08 2022 01: +0\",71.627,\"15\"],[\"Dec 09 2022 01: +0\",72.302,\"14\"],[\"Dec 10 2022 01: +0\",74.449,\"18\"],[\"Dec 11 2022 01: +0\",67.939,\"6\"],[\"Dec 12 2022 01: +0\",68.302,\"14\"],[\"Dec 13 2022 01: +0\",69.261,\"14\"],[\"Dec 14 2022 01: +0\",68.5,\"5\"],[\"Dec 15 2022 01: +0\",70.879,\"12\"],[\"Dec 16 2022 01: +0\",72.132,\"10\"],[\"Dec 17 2022 01: +0\",71.445,\"12\"],[\"Dec 18 2022 01: +0\",71.096,\"12\"],[\"Dec 19 2022 01: +0\",71.904,\"9\"],[\"Dec 20 2022 01: +0\",71.973,\"9\"],[\"Dec 21 2022 01: +0\",70.312,\"9\"],[\"Dec 22 2022 01: +0\",71.847,\"12\"],[\"Dec 23 2022 01: +0\",68.432,\"11\"],[\"Dec 24 2022 01: +0\",72.94,\"15\"],[\"Dec 25 2022 01: +0\",71.999,\"15\"],[\"Dec 26 2022 01: +0\",74.318,\"12\"],[\"Dec 27 2022 01: +0\",72.982,\"9\"],[\"Dec 28 2022 01: +0\",72.269,\"9\"],[\"Dec 29 2022 01: +0\",74.24,\"17\"],[\"Dec 30 2022 01: +0\",74.071,\"10\"],[\"Dec 31 2022 01: +0\",72.121,\"14\"],[\"Jan 01 2023 01: +0\",74.639,\"17\"],[\"Jan 02 2023 01: +0\",73.597,\"11\"],[\"Jan 03 2023 01: +0\",71.789,\"17\"],[\"Jan 04 2023 03: +0\",77.84,\"1\"],[\"Jan 04 2023 13: +0\",74.199,\"2\"],[\"Jan 04 2023 17: +0\",75.35,\"1\"],[\"Jan 04 2023 19: +0\",68.89,\"1\"],[\"Jan 04 2023 20: +0\",76.474,\"1\"],[\"Jan 04 2023 21: +0\",76.789,\"2\"],[\"Jan 05 2023 01: +0\",70.153,\"1\"],[\"Jan 05 2023 02: +0\",81.996,\"1\"],[\"Jan 05 2023 03: +0\",69.7,\"1\"],[\"Jan 05 2023 06: +0\",69.84,\"1\"],[\"Jan 05 2023 10: +0\",77.257,\"1\"],[\"Jan 05 2023 12: +0\",68.179,\"1\"],[\"Jan 05 2023 14: +0\",66.55,\"1\"],[\"Jan 05 2023 15: +0\",77.377,\"1\"],[\"Jan 05 2023 17: +0\",69.223,\"1\"],[\"Jan 05 2023 18: +0\",72.486,\"2\"],[\"Jan 05 2023 20: +0\",71.67,\"2\"],[\"Jan 05 2023 22: +0\",77.687,\"1\"],[\"Jan 05 2023 23: +0\",68.62,\"1\"],[\"Jan 06 2023 05: +0\",69.15,\"1\"],[\"Jan 06 2023 08: +0\",69.09,\"1\"],[\"Jan 06 2023 09: +0\",70.1,\"1\"],[\"Jan 06 2023 12: +0\",76.004,\"1\"],[\"Jan 06 2023 14: +0\",77.776,\"1\"],[\"Jan 06 2023 16: +0\",69.27,\"1\"],[\"Jan 06 2023 17: +0\",73.488,\"2\"],[\"Jan 06 2023 18: +0\",67.5,\"1\"],[\"Jan 06 2023 20: +0\",76.489,\"1\"],[\"Jan 06 2023 21: +0\",71.492,\"1\"],[\"Jan 06 2023 23: +0\",68.515,\"2\"],[\"Jan 07 2023 06: +0\",78.004,\"1\"],[\"Jan 07 2023 11: +0\",78.72,\"1\"],[\"Jan 07 2023 13: +0\",75.113,\"1\"],[\"Jan 07 2023 14: +0\",69.12,\"1\"],[\"Jan 07 2023 18: +0\",69.288,\"1\"],[\"Jan 07 2023 19: +0\",80.433,\"1\"],[\"Jan 07 2023 20: +0\",69,\"3\"],[\"Jan 08 2023 01: +0\",79.416,\"1\"],[\"Jan 08 2023 08: +0\",79.426,\"1\"],[\"Jan 08 2023 12: +0\",72.289,\"2\"],[\"Jan 08 2023 13: +0\",77.921,\"1\"],[\"Jan 08 2023 17: +0\",78.374,\"2\"],[\"Jan 08 2023 20: +0\",75.965,\"3\"],[\"Jan 08 2023 22: +0\",73.85,\"1\"],[\"Jan 09 2023 01: +0\",79.42,\"1\"],[\"Jan 09 2023 02: +0\",68.695,\"1\"],[\"Jan 09 2023 07: +0\",70.922,\"1\"],[\"Jan 09 2023 08: +0\",80.47,\"1\"],[\"Jan 09 2023 12: +0\",69.48,\"1\"],[\"Jan 09 2023 14: +0\",80.506,\"1\"],[\"Jan 09 2023 15: +0\",69.775,\"2\"],[\"Jan 09 2023 17: +0\",83.064,\"1\"],[\"Jan 09 2023 20: +0\",70.16,\"1\"],[\"Jan 09 2023 21: +0\",78.959,\"1\"],[\"Jan 09 2023 22: +0\",70.17,\"1\"],[\"Jan 10 2023 00: +0\",70.2,\"1\"],[\"Jan 10 2023 03: +0\",83.4,\"1\"],[\"Jan 10 2023 14: +0\",73.107,\"3\"],[\"Jan 10 2023 16: +0\",76.011,\"2\"],[\"Jan 11 2023 01: +0\",74.746,\"1\"],[\"Jan 11 2023 02: +0\",71.89,\"1\"],[\"Jan 11 2023 12: +0\",74.567,\"2\"],[\"Jan 11 2023 14: +0\",74.027,\"2\"],[\"Jan 11 2023 15: +0\",76.588,\"2\"],[\"Jan 11 2023 20: +0\",81.649,\"4\"],[\"Jan 12 2023 00: +0\",71.96,\"1\"],[\"Jan 12 2023 02: +0\",66.63,\"1\"],[\"Jan 12 2023 03: +0\",71.61,\"1\"],[\"Jan 12 2023 05: +0\",83.018,\"1\"],[\"Jan 12 2023 12: +0\",84.864,\"2\"],[\"Jan 12 2023 13: +0\",77.844,\"2\"],[\"Jan 12 2023 17: +0\",82.584,\"3\"],[\"Jan 12 2023 18: +0\",83.284,\"1\"],[\"Jan 12 2023 19: +0\",86.562,\"2\"],[\"Jan 12 2023 22: +0\",73.01,\"2\"],[\"Jan 13 2023 02: +0\",86.018,\"1\"],[\"Jan 13 2023 03: +0\",80.017,\"1\"],[\"Jan 13 2023 05: +0\",80,\"1\"],[\"Jan 13 2023 09: +0\",72.88,\"1\"],[\"Jan 13 2023 10: +0\",72.19,\"1\"],[\"Jan 13 2023 12: +0\",78.632,\"2\"],[\"Jan 13 2023 15: +0\",77.121,\"1\"],[\"Jan 13 2023 16: +0\",73.587,\"1\"],[\"Jan 13 2023 17: +0\",85.365,\"1\"],[\"Jan 13 2023 19: +0\",83.21,\"1\"],[\"Jan 13 2023 20: +0\",84.534,\"1\"],[\"Jan 13 2023 21: +0\",84.525,\"1\"],[\"Jan 13 2023 23: +0\",74.49,\"1\"],[\"Jan 14 2023 01: +0\",81.395,\"2\"],[\"Jan 14 2023 02: +0\",78.353,\"1\"],[\"Jan 14 2023 03: +0\",74.23,\"3\"],[\"Jan 14 2023 05: +0\",74.3,\"1\"],[\"Jan 14 2023 06: +0\",82.796,\"1\"],[\"Jan 14 2023 13: +0\",82.706,\"1\"],[\"Jan 14 2023 16: +0\",73.812,\"2\"],[\"Jan 14 2023 18: +0\",73.19,\"1\"],[\"Jan 14 2023 20: +0\",81.903,\"3\"],[\"Jan 14 2023 21: +0\",73.02,\"2\"],[\"Jan 14 2023 22: +0\",72.36,\"3\"],[\"Jan 15 2023 00: +0\",76.7,\"3\"],[\"Jan 15 2023 01: +0\",82.34,\"1\"],[\"Jan 15 2023 02: +0\",70.228,\"1\"],[\"Jan 15 2023 03: +0\",70.34,\"1\"],[\"Jan 15 2023 09: +0\",77.688,\"2\"],[\"Jan 15 2023 13: +0\",70.32,\"1\"],[\"Jan 15 2023 16: +0\",79.468,\"1\"],[\"Jan 15 2023 17: +0\",82.275,\"1\"],[\"Jan 15 2023 18: +0\",68.01,\"1\"],[\"Jan 15 2023 19: +0\",82.091,\"1\"],[\"Jan 15 2023 20: +0\",70.18,\"1\"],[\"Jan 15 2023 21: +0\",75.25,\"2\"],[\"Jan 15 2023 22: +0\",70.8,\"1\"],[\"Jan 16 2023 01: +0\",82.328,\"1\"],[\"Jan 16 2023 04: +0\",60,\"1\"],[\"Jan 16 2023 09: +0\",80.261,\"2\"],[\"Jan 16 2023 12: +0\",82.341,\"3\"],[\"Jan 16 2023 13: +0\",79.904,\"1\"],[\"Jan 16 2023 14: +0\",70.95,\"1\"],[\"Jan 16 2023 15: +0\",77.495,\"2\"],[\"Jan 16 2023 18: +0\",78.616,\"1\"],[\"Jan 16 2023 22: +0\",81.292,\"1\"],[\"Jan 17 2023 00: +0\",71.27,\"1\"],[\"Jan 17 2023 03: +0\",78.015,\"1\"],[\"Jan 17 2023 06: +0\",71.37,\"1\"],[\"Jan 17 2023 08: +0\",72.62,\"1\"],[\"Jan 17 2023 09: +0\",75.345,\"2\"],[\"Jan 17 2023 10: +0\",72.24,\"1\"],[\"Jan 17 2023 13: +0\",82.145,\"1\"],[\"Jan 17 2023 17: +0\",78.085,\"3\"],[\"Jan 17 2023 21: +0\",74.944,\"1\"],[\"Jan 18 2023 00: +0\",81.55,\"1\"],[\"Jan 18 2023 02: +0\",72.553,\"1\"],[\"Jan 18 2023 04: +0\",77.14,\"1\"],[\"Jan 18 2023 05: +0\",81.443,\"1\"],[\"Jan 18 2023 09: +0\",71.96,\"1\"],[\"Jan 18 2023 13: +0\",80.005,\"1\"],[\"Jan 18 2023 14: +0\",65.17,\"1\"],[\"Jan 18 2023 15: +0\",81.147,\"2\"],[\"Jan 18 2023 16: +0\",72.124,\"1\"],[\"Jan 18 2023 17: +0\",72.102,\"1\"],[\"Jan 18 2023 19: +0\",77.144,\"2\"],[\"Jan 18 2023 20: +0\",73.931,\"2\"],[\"Jan 18 2023 22: +0\",75.295,\"2\"],[\"Jan 19 2023 03: +0\",71.96,\"1\"],[\"Jan 19 2023 04: +0\",77.754,\"2\"],[\"Jan 19 2023 05: +0\",67.359,\"2\"],[\"Jan 19 2023 13: +0\",72.614,\"1\"],[\"Jan 19 2023 16: +0\",85.731,\"1\"],[\"Jan 19 2023 17: +0\",83.182,\"2\"],[\"Jan 19 2023 18: +0\",71.6,\"1\"],[\"Jan 19 2023 19: +0\",85.964,\"2\"],[\"Jan 19 2023 20: +0\",69.905,\"1\"],[\"Jan 19 2023 22: +0\",70.052,\"1\"],[\"Jan 20 2023 01: +0\",84.83,\"1\"],[\"Jan 20 2023 10: +0\",83.84,\"1\"],[\"Jan 20 2023 14: +0\",78.478,\"2\"],[\"Jan 20 2023 15: +0\",71.38,\"1\"],[\"Jan 20 2023 18: +0\",85.945,\"1\"],[\"Jan 20 2023 20: +0\",79.361,\"1\"],[\"Jan 20 2023 21: +0\",81.104,\"2\"],[\"Jan 20 2023 23: +0\",79.978,\"1\"],[\"Jan 21 2023 00: +0\",82.426,\"1\"],[\"Jan 21 2023 01: +0\",78.072,\"2\"],[\"Jan 21 2023 02: +0\",96.28,\"1\"],[\"Jan 21 2023 03: +0\",83.012,\"1\"],[\"Jan 21 2023 08: +0\",70.969,\"1\"],[\"Jan 21 2023 14: +0\",75.653,\"1\"],[\"Jan 21 2023 16: +0\",70.332,\"1\"],[\"Jan 21 2023 17: +0\",77.566,\"1\"],[\"Jan 21 2023 19: +0\",70.33,\"3\"],[\"Jan 21 2023 20: +0\",71.8,\"4\"],[\"Jan 21 2023 21: +0\",71.183,\"4\"],[\"Jan 21 2023 22: +0\",75.1,\"2\"],[\"Jan 22 2023 03: +0\",71.296,\"1\"],[\"Jan 22 2023 08: +0\",73.003,\"1\"],[\"Jan 22 2023 10: +0\",71.973,\"2\"],[\"Jan 22 2023 12: +0\",73.62,\"2\"],[\"Jan 22 2023 14: +0\",77.897,\"1\"],[\"Jan 22 2023 16: +0\",75.453,\"2\"],[\"Jan 22 2023 18: +0\",76.181,\"1\"],[\"Jan 22 2023 19: +0\",70,\"3\"],[\"Jan 22 2023 20: +0\",86.014,\"1\"],[\"Jan 22 2023 21: +0\",75.939,\"1\"],[\"Jan 22 2023 22: +0\",76.003,\"1\"],[\"Jan 22 2023 23: +0\",75.308,\"2\"],[\"Jan 23 2023 02: +0\",69.4,\"1\"],[\"Jan 23 2023 08: +0\",79.004,\"1\"],[\"Jan 23 2023 12: +0\",80.773,\"1\"],[\"Jan 23 2023 15: +0\",86.21,\"1\"],[\"Jan 23 2023 16: +0\",70.35,\"1\"],[\"Jan 23 2023 18: +0\",67,\"1\"],[\"Jan 23 2023 19: +0\",70.34,\"3\"],[\"Jan 23 2023 20: +0\",70.95,\"1\"],[\"Jan 23 2023 21: +0\",69.59,\"1\"],[\"Jan 23 2023 23: +0\",70.66,\"1\"],[\"Jan 24 2023 00: +0\",75.788,\"1\"],[\"Jan 24 2023 01: +0\",75.943,\"1\"],[\"Jan 24 2023 03: +0\",71.534,\"1\"],[\"Jan 24 2023 05: +0\",71.342,\"1\"],[\"Jan 24 2023 06: +0\",96.427,\"1\"],[\"Jan 24 2023 14: +0\",79.908,\"1\"],[\"Jan 24 2023 17: +0\",69.95,\"1\"],[\"Jan 24 2023 18: +0\",76.806,\"1\"],[\"Jan 24 2023 19: +0\",73.031,\"1\"],[\"Jan 24 2023 20: +0\",72.773,\"1\"],[\"Jan 24 2023 21: +0\",78.585,\"1\"],[\"Jan 24 2023 23: +0\",70.85,\"1\"],[\"Jan 25 2023 01: +0\",80.891,\"2\"],[\"Jan 25 2023 02: +0\",70.865,\"2\"],[\"Jan 25 2023 05: +0\",80.64,\"1\"],[\"Jan 25 2023 13: +0\",71.7,\"1\"],[\"Jan 25 2023 15: +0\",75.49,\"2\"],[\"Jan 25 2023 18: +0\",71.047,\"2\"],[\"Jan 25 2023 19: +0\",71.77,\"3\"],[\"Jan 25 2023 20: +0\",81.98,\"1\"],[\"Jan 25 2023 22: +0\",71.606,\"1\"],[\"Jan 26 2023 00: +0\",68.996,\"1\"],[\"Jan 26 2023 01: +0\",71.66,\"1\"],[\"Jan 26 2023 04: +0\",74.352,\"2\"],[\"Jan 26 2023 06: +0\",80.974,\"1\"],[\"Jan 26 2023 07: +0\",73.67,\"1\"],[\"Jan 26 2023 12: +0\",81.869,\"1\"],[\"Jan 26 2023 13: +0\",81.893,\"1\"],[\"Jan 26 2023 14: +0\",80.849,\"4\"],[\"Jan 26 2023 16: +0\",80.78,\"2\"],[\"Jan 26 2023 17: +0\",69.935,\"2\"],[\"Jan 26 2023 18: +0\",66.547,\"1\"],[\"Jan 26 2023 19: +0\",81.021,\"1\"],[\"Jan 26 2023 21: +0\",80.007,\"1\"],[\"Jan 26 2023 22: +0\",72.42,\"1\"],[\"Jan 26 2023 23: +0\",71.695,\"2\"],[\"Jan 27 2023 00: +0\",67.41,\"1\"],[\"Jan 27 2023 01: +0\",62.62,\"1\"],[\"Jan 27 2023 04: +0\",71.53,\"1\"],[\"Jan 27 2023 11: +0\",78.021,\"1\"],[\"Jan 27 2023 15: +0\",73.92,\"1\"],[\"Jan 27 2023 16: +0\",76.711,\"2\"],[\"Jan 27 2023 17: +0\",80.41,\"1\"],[\"Jan 27 2023 18: +0\",75.306,\"2\"],[\"Jan 27 2023 19: +0\",76.786,\"2\"],[\"Jan 27 2023 20: +0\",79.622,\"1\"],[\"Jan 27 2023 21: +0\",73.39,\"1\"],[\"Jan 27 2023 22: +0\",80.619,\"1\"],[\"Jan 27 2023 23: +0\",77.83,\"2\"],[\"Jan 28 2023 00: +0\",83.8,\"1\"],[\"Jan 28 2023 02: +0\",72.54,\"1\"],[\"Jan 28 2023 03: +0\",80.872,\"1\"],[\"Jan 28 2023 04: +0\",80.53,\"1\"],[\"Jan 28 2023 05: +0\",91.589,\"1\"],[\"Jan 28 2023 10: +0\",83.32,\"1\"],[\"Jan 28 2023 14: +0\",73.624,\"1\"],[\"Jan 28 2023 15: +0\",86.666,\"1\"],[\"Jan 28 2023 19: +0\",84.487,\"1\"],[\"Jan 28 2023 20: +0\",84.65,\"1\"],[\"Jan 28 2023 21: +0\",79.526,\"2\"],[\"Jan 28 2023 22: +0\",75.84,\"1\"],[\"Jan 28 2023 23: +0\",83.489,\"1\"],[\"Jan 29 2023 00: +0\",84.812,\"1\"],[\"Jan 29 2023 01: +0\",85.242,\"1\"],[\"Jan 29 2023 03: +0\",76.404,\"1\"],[\"Jan 29 2023 05: +0\",75.9,\"1\"],[\"Jan 29 2023 08: +0\",77.01,\"1\"],[\"Jan 29 2023 11: +0\",79.373,\"1\"],[\"Jan 29 2023 12: +0\",84.642,\"1\"],[\"Jan 29 2023 13: +0\",84.32,\"1\"],[\"Jan 29 2023 14: +0\",77.37,\"1\"],[\"Jan 29 2023 17: +0\",77.208,\"1\"],[\"Jan 29 2023 18: +0\",76.62,\"1\"],[\"Jan 29 2023 19: +0\",79.783,\"2\"],[\"Jan 29 2023 21: +0\",70,\"1\"],[\"Jan 29 2023 23: +0\",73.255,\"2\"],[\"Jan 30 2023 02: +0\",76.18,\"1\"],[\"Jan 30 2023 07: +0\",89.24,\"1\"],[\"Jan 30 2023 12: +0\",73.615,\"2\"],[\"Jan 30 2023 14: +0\",82.406,\"1\"],[\"Jan 30 2023 15: +0\",83.999,\"1\"],[\"Jan 30 2023 19: +0\",77.442,\"2\"],[\"Jan 30 2023 20: +0\",73.55,\"1\"],[\"Jan 30 2023 21: +0\",76.789,\"2\"],[\"Jan 30 2023 23: +0\",73.26,\"3\"],[\"Jan 31 2023 00: +0\",84.923,\"1\"],[\"Jan 31 2023 10: +0\",72.7,\"1\"],[\"Jan 31 2023 12: +0\",81.695,\"1\"],[\"Jan 31 2023 15: +0\",80.234,\"1\"],[\"Jan 31 2023 16: +0\",79.94,\"1\"],[\"Jan 31 2023 17: +0\",80.606,\"1\"],[\"Jan 31 2023 19: +0\",83.891,\"1\"],[\"Jan 31 2023 20: +0\",66.384,\"1\"],[\"Jan 31 2023 22: +0\",74.716,\"3\"],[\"Jan 31 2023 23: +0\",73.841,\"1\"],[\"Feb 01 2023 00: +0\",69.51,\"1\"],[\"Feb 01 2023 02: +0\",75.428,\"2\"],[\"Feb 01 2023 07: +0\",72.505,\"2\"],[\"Feb 01 2023 08: +0\",71.16,\"1\"],[\"Feb 01 2023 09: +0\",83.736,\"1\"],[\"Feb 01 2023 12: +0\",78.732,\"2\"],[\"Feb 01 2023 14: +0\",73.14,\"1\"],[\"Feb 01 2023 15: +0\",72.77,\"1\"],[\"Feb 01 2023 16: +0\",67.942,\"1\"],[\"Feb 01 2023 19: +0\",78.175,\"2\"],[\"Feb 01 2023 20: +0\",82.938,\"1\"],[\"Feb 02 2023 07: +0\",73.2,\"1\"],[\"Feb 02 2023 10: +0\",73.33,\"3\"],[\"Feb 02 2023 18: +0\",81.452,\"1\"],[\"Feb 02 2023 21: +0\",81.11,\"1\"],[\"Feb 02 2023 22: +0\",76.822,\"1\"],[\"Feb 03 2023 00: +0\",76.514,\"1\"],[\"Feb 03 2023 02: +0\",80.616,\"2\"],[\"Feb 03 2023 03: +0\",79.165,\"2\"],[\"Feb 03 2023 04: +0\",71.373,\"1\"],[\"Feb 03 2023 05: +0\",75.427,\"1\"],[\"Feb 03 2023 12: +0\",73.69,\"1\"],[\"Feb 03 2023 14: +0\",78.689,\"1\"],[\"Feb 03 2023 17: +0\",74.206,\"2\"],[\"Feb 03 2023 18: +0\",72.88,\"1\"],[\"Feb 03 2023 19: +0\",74.929,\"2\"],[\"Feb 03 2023 20: +0\",72.88,\"1\"],[\"Feb 03 2023 22: +0\",71.318,\"1\"],[\"Feb 04 2023 00: +0\",80.821,\"1\"]]', history_timestamp=datetime.datetime(2023, 2, 4, 3, 48, 40, 66524), orders_buy_count=2, orders_buy_order=72.88, orders_sell_count=1, orders_sell_order=80.5, orders_sell_order_no_fee=70.0, orders_dump='{\"success\":1,\"sell_order_table\":\"<table class=\\\\\"market_commodity_orders_table\\\\\"><tr><th align=\\\\\"right\\\\\">Price<\\\\/th><th align=\\\\\"right\\\\\">Quantity<\\\\/th><\\\\/tr><tr><td align=\\\\\"right\\\\\" class=\\\\\"\\\\\">$80.50<\\\\/td><td align=\\\\\"right\\\\\">1<\\\\/td><\\\\/tr><tr><td align=\\\\\"right\\\\\" class=\\\\\"\\\\\">$81.20<\\\\/td><td align=\\\\\"right\\\\\">1<\\\\/td><\\\\/tr><tr><td align=\\\\\"right\\\\\" class=\\\\\"\\\\\">$82.07<\\\\/td><td align=\\\\\"right\\\\\">1<\\\\/td><\\\\/tr><tr><td align=\\\\\"right\\\\\" class=\\\\\"\\\\\">$82.11<\\\\/td><td align=\\\\\"right\\\\\">1<\\\\/td><\\\\/tr><tr><td align=\\\\\"right\\\\\" class=\\\\\"\\\\\">$82.50<\\\\/td><td align=\\\\\"right\\\\\">1<\\\\/td><\\\\/tr><tr><td align=\\\\\"right\\\\\" class=\\\\\"\\\\\">$83.81 or more<\\\\/td><td align=\\\\\"right\\\\\">17<\\\\/td><\\\\/tr><\\\\/table>\",\"sell_order_summary\":\"<span class=\\\\\"market_commodity_orders_header_promote\\\\\">22<\\\\/span> for sale starting at <span class=\\\\\"market_commodity_orders_header_promote\\\\\">$80.50<\\\\/span>\",\"buy_order_table\":\"<table class=\\\\\"market_commodity_orders_table\\\\\"><tr><th align=\\\\\"right\\\\\">Price<\\\\/th><th align=\\\\\"right\\\\\">Quantity<\\\\/th><\\\\/tr><tr><td align=\\\\\"right\\\\\" class=\\\\\"\\\\\">$72.88<\\\\/td><td align=\\\\\"right\\\\\">2<\\\\/td><\\\\/tr><tr><td align=\\\\\"right\\\\\" class=\\\\\"\\\\\">$72.64<\\\\/td><td align=\\\\\"right\\\\\">1<\\\\/td><\\\\/tr><tr><td align=\\\\\"right\\\\\" class=\\\\\"\\\\\">$72.56<\\\\/td><td align=\\\\\"right\\\\\">2<\\\\/td><\\\\/tr><tr><td align=\\\\\"right\\\\\" class=\\\\\"\\\\\">$72.47<\\\\/td><td align=\\\\\"right\\\\\">1<\\\\/td><\\\\/tr><tr><td align=\\\\\"right\\\\\" class=\\\\\"\\\\\">$72.46<\\\\/td><td align=\\\\\"right\\\\\">1<\\\\/td><\\\\/tr><tr><td align=\\\\\"right\\\\\" class=\\\\\"\\\\\">$72.00 or less<\\\\/td><td align=\\\\\"right\\\\\">270<\\\\/td><\\\\/tr><\\\\/table>\",\"buy_order_summary\":\"<span class=\\\\\"market_commodity_orders_header_promote\\\\\">277<\\\\/span> requests to buy at <span class=\\\\\"market_commodity_orders_header_promote\\\\\">$72.88<\\\\/span> or lower\",\"highest_buy_order\":\"7288\",\"lowest_sell_order\":\"8050\",\"buy_order_graph\":[[72.88,2,\"2 buy orders at $72.88 or higher\"],[72.64,3,\"3 buy orders at $72.64 or higher\"],[72.56,5,\"5 buy orders at $72.56 or higher\"],[72.47,6,\"6 buy orders at $72.47 or higher\"],[72.46,7,\"7 buy orders at $72.46 or higher\"],[72,9,\"9 buy orders at $72.00 or higher\"],[71.44,10,\"10 buy orders at $71.44 or higher\"],[71.2,11,\"11 buy orders at $71.20 or higher\"],[70.9,12,\"12 buy orders at $70.90 or higher\"],[70.85,13,\"13 buy orders at $70.85 or higher\"],[70.8,14,\"14 buy orders at $70.80 or higher\"],[70.77,15,\"15 buy orders at $70.77 or higher\"],[70.06,16,\"16 buy orders at $70.06 or higher\"],[69.92,18,\"18 buy orders at $69.92 or higher\"],[69.8,19,\"19 buy orders at $69.80 or higher\"],[69.69,20,\"20 buy orders at $69.69 or higher\"],[69.66,21,\"21 buy orders at $69.66 or higher\"],[69.5,22,\"22 buy orders at $69.50 or higher\"],[69.48,23,\"23 buy orders at $69.48 or higher\"],[69.43,25,\"25 buy orders at $69.43 or higher\"],[69.34,27,\"27 buy orders at $69.34 or higher\"],[68.48,28,\"28 buy orders at $68.48 or higher\"],[68,30,\"30 buy orders at $68.00 or higher\"],[67.73,32,\"32 buy orders at $67.73 or higher\"],[66.72,33,\"33 buy orders at $66.72 or higher\"],[66.63,35,\"35 buy orders at $66.63 or higher\"],[66.56,48,\"48 buy orders at $66.56 or higher\"],[66.55,49,\"49 buy orders at $66.55 or higher\"],[66.53,50,\"50 buy orders at $66.53 or higher\"],[66.33,51,\"51 buy orders at $66.33 or higher\"],[66.12,52,\"52 buy orders at $66.12 or higher\"],[65.96,53,\"53 buy orders at $65.96 or higher\"],[65.75,56,\"56 buy orders at $65.75 or higher\"],[65.35,57,\"57 buy orders at $65.35 or higher\"],[65.15,61,\"61 buy orders at $65.15 or higher\"],[64.93,62,\"62 buy orders at $64.93 or higher\"],[64.83,64,\"64 buy orders at $64.83 or higher\"],[64.6,65,\"65 buy orders at $64.60 or higher\"],[64.3,66,\"66 buy orders at $64.30 or higher\"],[64.26,67,\"67 buy orders at $64.26 or higher\"],[64.01,70,\"70 buy orders at $64.01 or higher\"],[63.97,71,\"71 buy orders at $63.97 or higher\"],[63.94,73,\"73 buy orders at $63.94 or higher\"],[63.34,74,\"74 buy orders at $63.34 or higher\"],[63.16,76,\"76 buy orders at $63.16 or higher\"],[62.8,77,\"77 buy orders at $62.80 or higher\"],[62.57,78,\"78 buy orders at $62.57 or higher\"],[62.3,79,\"79 buy orders at $62.30 or higher\"],[62.22,81,\"81 buy orders at $62.22 or higher\"],[62.19,82,\"82 buy orders at $62.19 or higher\"],[62.17,83,\"83 buy orders at $62.17 or higher\"],[61.95,84,\"84 buy orders at $61.95 or higher\"],[61.89,85,\"85 buy orders at $61.89 or higher\"],[61.87,88,\"88 buy orders at $61.87 or higher\"],[61.84,90,\"90 buy orders at $61.84 or higher\"],[61.57,91,\"91 buy orders at $61.57 or higher\"],[61.54,92,\"92 buy orders at $61.54 or higher\"],[61.52,93,\"93 buy orders at $61.52 or higher\"],[61.43,97,\"97 buy orders at $61.43 or higher\"],[61.27,100,\"100 buy orders at $61.27 or higher\"],[61.13,101,\"101 buy orders at $61.13 or higher\"],[61.12,102,\"102 buy orders at $61.12 or higher\"],[61,107,\"107 buy orders at $61.00 or higher\"],[60.92,110,\"110 buy orders at $60.92 or higher\"],[60.46,112,\"112 buy orders at $60.46 or higher\"],[60.27,114,\"114 buy orders at $60.27 or higher\"],[60,118,\"118 buy orders at $60.00 or higher\"],[59.69,119,\"119 buy orders at $59.69 or higher\"],[59.26,120,\"120 buy orders at $59.26 or higher\"],[59.2,121,\"121 buy orders at $59.20 or higher\"],[59.11,122,\"122 buy orders at $59.11 or higher\"],[58.88,124,\"124 buy orders at $58.88 or higher\"],[58.55,125,\"125 buy orders at $58.55 or higher\"],[57.64,126,\"126 buy orders at $57.64 or higher\"],[57.15,127,\"127 buy orders at $57.15 or higher\"],[56.43,129,\"129 buy orders at $56.43 or higher\"],[54.94,131,\"131 buy orders at $54.94 or higher\"],[54.85,132,\"132 buy orders at $54.85 or higher\"],[54.75,133,\"133 buy orders at $54.75 or higher\"],[54.09,134,\"134 buy orders at $54.09 or higher\"],[54.01,139,\"139 buy orders at $54.01 or higher\"],[53.94,140,\"140 buy orders at $53.94 or higher\"],[53.82,141,\"141 buy orders at $53.82 or higher\"],[53.66,142,\"142 buy orders at $53.66 or higher\"],[53.2,143,\"143 buy orders at $53.20 or higher\"],[52.22,144,\"144 buy orders at $52.22 or higher\"],[52.11,145,\"145 buy orders at $52.11 or higher\"],[51.38,146,\"146 buy orders at $51.38 or higher\"],[50.79,147,\"147 buy orders at $50.79 or higher\"],[48.81,148,\"148 buy orders at $48.81 or higher\"],[47.76,149,\"149 buy orders at $47.76 or higher\"],[47.32,150,\"150 buy orders at $47.32 or higher\"],[47.04,151,\"151 buy orders at $47.04 or higher\"],[45.96,152,\"152 buy orders at $45.96 or higher\"],[45.16,153,\"153 buy orders at $45.16 or higher\"],[44.51,154,\"154 buy orders at $44.51 or higher\"],[39.58,155,\"155 buy orders at $39.58 or higher\"],[38.56,156,\"156 buy orders at $38.56 or higher\"],[34.97,157,\"157 buy orders at $34.97 or higher\"],[32.56,158,\"158 buy orders at $32.56 or higher\"],[28.21,159,\"159 buy orders at $28.21 or higher\"]],\"sell_order_graph\":[[80.5,1,\"1 sell orders at $80.50 or lower\"],[81.2,2,\"2 sell orders at $81.20 or lower\"],[82.07,3,\"3 sell orders at $82.07 or lower\"],[82.11,4,\"4 sell orders at $82.11 or lower\"],[82.5,5,\"5 sell orders at $82.50 or lower\"],[83.81,6,\"6 sell orders at $83.81 or lower\"],[84.31,7,\"7 sell orders at $84.31 or lower\"],[84.89,8,\"8 sell orders at $84.89 or lower\"],[85.03,9,\"9 sell orders at $85.03 or lower\"],[86.25,11,\"11 sell orders at $86.25 or lower\"],[90,12,\"12 sell orders at $90.00 or lower\"],[91.77,13,\"13 sell orders at $91.77 or lower\"],[92,14,\"14 sell orders at $92.00 or lower\"],[92.55,15,\"15 sell orders at $92.55 or lower\"],[92.82,16,\"16 sell orders at $92.82 or lower\"],[92.99,17,\"17 sell orders at $92.99 or lower\"],[97.37,18,\"18 sell orders at $97.37 or lower\"],[98.32,19,\"19 sell orders at $98.32 or lower\"],[106.11,20,\"20 sell orders at $106.11 or lower\"],[116.12,21,\"21 sell orders at $116.12 or lower\"]],\"graph_max_y\":200,\"graph_min_x\":28.21,\"graph_max_x\":116.12,\"price_prefix\":\"$\",\"price_suffix\":\"\"}', orders_timestamp=datetime.datetime(2023, 2, 4, 3, 0, 33, 600742))"
     },
     "execution_count": 16,
     "metadata": {},
     "output_type": "execute_result"
    }
   ],
   "source": [
    "df.first()"
   ]
  },
  {
   "cell_type": "code",
   "execution_count": 17,
   "id": "353059d2",
   "metadata": {},
   "outputs": [],
   "source": [
    "import pyspark.sql.functions as func\n"
   ]
  },
  {
   "cell_type": "code",
   "execution_count": 18,
   "id": "3a19bdf0",
   "metadata": {},
   "outputs": [],
   "source": [
    "CURRENT_TIME = datetime.now(timezone.utc)\n",
    "current_time_broadcast = sc.broadcast(CURRENT_TIME)"
   ]
  },
  {
   "cell_type": "code",
   "execution_count": 19,
   "id": "82b49bc7",
   "metadata": {},
   "outputs": [],
   "source": [
    "_MAX_FALL_DEVIATION = 0.05\n",
    "_MEAN_MAX_THRESHOLD = 0.1\n",
    "_MEAN_MIN_THRESHOLD = 0.1\n",
    "_WINDOWS_SIZE = 15\n",
    "_MAX_DEVIATION = 0.06\n",
    "_MIN_SELLS_PER_WEEK = 10\n",
    "_QUANTILES_MIN_POINTS = 10\n",
    "\n",
    "def steam_date_str_to_datetime(s: str) -> datetime:\n",
    "    \"\"\"\n",
    "    converts str like 'Mar 16 2017 01: +0' to datetime:\n",
    "    \"\"\"\n",
    "    s = s[: s.index(\":\")]\n",
    "    return datetime.strptime(s, \"%b %d %Y %H\").astimezone(timezone.utc)\n",
    "\n",
    "\n",
    "def percentage_diff(price1: float, price2: float) -> float:\n",
    "    min_ = min(price1, price2)\n",
    "    max_ = max(price1, price2)\n",
    "    return (max_ - min_) / max_\n",
    "\n",
    "\n",
    "def window_slicing(k, iter_):\n",
    "    for i in range(0, len(iter_) - k + 1):\n",
    "        yield iter_[i : i + k]\n",
    "\n",
    "@func.udf(StringType())\n",
    "def cut_to_last_30_days(history_dump) -> str:\n",
    "    j = json.loads(history_dump)\n",
    "    curr_dt = current_time_broadcast.value\n",
    "    filtered = []\n",
    "    for timestamp, price, amount in reversed(j):\n",
    "        dt = steam_date_str_to_datetime(timestamp)\n",
    "        if curr_dt - dt > timedelta(days=30):\n",
    "            break\n",
    "        else:\n",
    "            filtered.append((timestamp, price, amount))\n",
    "\n",
    "    return json.dumps(list(reversed(filtered)))\n",
    "\n",
    "df = df.withColumn(\"last_month_history\", cut_to_last_30_days(func.col(\"history_dump\"))).cache()"
   ]
  },
  {
   "cell_type": "code",
   "execution_count": 20,
   "outputs": [
    {
     "name": "stdout",
     "output_type": "stream",
     "text": [
      "+--------------------+\n",
      "|  last_month_history|\n",
      "+--------------------+\n",
      "|[[\"Jan 05 2023 14...|\n",
      "|[[\"Jan 05 2023 15...|\n",
      "|[[\"Jan 05 2023 19...|\n",
      "|[[\"Jan 05 2023 17...|\n",
      "|[[\"Jan 14 2023 23...|\n",
      "|[[\"Jan 05 2023 15...|\n",
      "|[[\"Jan 05 2023 15...|\n",
      "|[[\"Jan 06 2023 16...|\n",
      "|[[\"Jan 06 2023 21...|\n",
      "|[[\"Jan 08 2023 03...|\n",
      "|[[\"Jan 05 2023 14...|\n",
      "|[[\"Jan 08 2023 18...|\n",
      "|[[\"Jan 08 2023 21...|\n",
      "|[[\"Jan 05 2023 15...|\n",
      "|[[\"Jan 20 2023 23...|\n",
      "|[[\"Jan 05 2023 15...|\n",
      "|[[\"Jan 05 2023 15...|\n",
      "|[[\"Jan 05 2023 15...|\n",
      "|[[\"Jan 06 2023 18...|\n",
      "|[[\"Jan 06 2023 11...|\n",
      "+--------------------+\n",
      "only showing top 20 rows\n",
      "\n"
     ]
    }
   ],
   "source": [
    "df.select(\"last_month_history\").show()"
   ],
   "metadata": {
    "collapsed": false
   }
  },
  {
   "cell_type": "code",
   "execution_count": 21,
   "outputs": [],
   "source": [
    "@func.udf(IntegerType())\n",
    "def calc_sold_quantity(history_dump, days: int) -> int:\n",
    "    j = json.loads(history_dump)\n",
    "    curr_dt = current_time_broadcast.value\n",
    "    counter = 0\n",
    "    for timestamp, price, amount in reversed(j):\n",
    "        dt = steam_date_str_to_datetime(timestamp)\n",
    "        if curr_dt - dt > timedelta(days=days):\n",
    "            break\n",
    "        else:\n",
    "            counter += int(amount)\n",
    "\n",
    "    return counter\n",
    "\n",
    "df = df\\\n",
    "    .withColumn(\"sold_last_month\", calc_sold_quantity(func.col(\"last_month_history\"), func.lit(30))) \\\n",
    "    .withColumn(\"sold_last_week\", calc_sold_quantity(func.col(\"last_month_history\"), func.lit(7))) \\\n",
    "    .cache()\n"
   ],
   "metadata": {
    "collapsed": false
   }
  },
  {
   "cell_type": "code",
   "execution_count": 22,
   "outputs": [
    {
     "name": "stdout",
     "output_type": "stream",
     "text": [
      "+--------------------+---------------+--------------+----------------------------+\n",
      "|  last_month_history|sold_last_month|sold_last_week|sold_last_week_to_month_corr|\n",
      "+--------------------+---------------+--------------+----------------------------+\n",
      "|[[\"Jan 05 2023 15...|            888|           212|           0.954954954954955|\n",
      "|[[\"Jan 05 2023 14...|            682|           154|          0.9032258064516129|\n",
      "|[[\"Jan 05 2023 16...|            605|           153|          1.0115702479338844|\n",
      "|[[\"Jan 05 2023 14...|            603|           149|           0.988391376451078|\n",
      "|[[\"Jan 05 2023 14...|            597|           118|          0.7906197654941374|\n",
      "|[[\"Jan 05 2023 16...|            498|           123|          0.9879518072289156|\n",
      "|[[\"Jan 05 2023 19...|            423|           115|          1.0874704491725768|\n",
      "|[[\"Jan 05 2023 14...|            421|           112|          1.0641330166270784|\n",
      "|[[\"Jan 05 2023 14...|            419|            89|          0.8496420047732697|\n",
      "|[[\"Jan 05 2023 15...|            416|           104|                         1.0|\n",
      "|[[\"Jan 05 2023 14...|            416|            86|          0.8269230769230769|\n",
      "|[[\"Jan 05 2023 16...|            383|            93|          0.9712793733681462|\n",
      "|[[\"Jan 05 2023 15...|            366|            87|          0.9508196721311475|\n",
      "|[[\"Jan 05 2023 14...|            348|            69|          0.7931034482758621|\n",
      "|[[\"Jan 05 2023 14...|            347|            64|          0.7377521613832853|\n",
      "|[[\"Jan 05 2023 14...|            318|            61|          0.7672955974842768|\n",
      "|[[\"Jan 05 2023 15...|            291|            66|          0.9072164948453608|\n",
      "|[[\"Jan 05 2023 15...|            278|            67|          0.9640287769784173|\n",
      "|[[\"Jan 05 2023 16...|            269|            62|          0.9219330855018587|\n",
      "|[[\"Jan 05 2023 15...|            254|            59|          0.9291338582677166|\n",
      "+--------------------+---------------+--------------+----------------------------+\n",
      "only showing top 20 rows\n",
      "\n"
     ]
    }
   ],
   "source": [
    "df2 = df\\\n",
    "    .withColumn(\"sold_last_week_to_month_corr\", func.col(\"sold_last_week\") * 4 / func.col(\"sold_last_month\"))\n",
    "df2.select(\"last_month_history\", \"sold_last_month\", \"sold_last_week\", \"sold_last_week_to_month_corr\").sort(df.sold_last_month.desc()).show()"
   ],
   "metadata": {
    "collapsed": false
   }
  },
  {
   "cell_type": "code",
   "execution_count": 22,
   "outputs": [],
   "source": [],
   "metadata": {
    "collapsed": false
   }
  }
 ],
 "metadata": {
  "kernelspec": {
   "display_name": "Python 3 (ipykernel)",
   "language": "python",
   "name": "python3"
  },
  "language_info": {
   "codemirror_mode": {
    "name": "ipython",
    "version": 3
   },
   "file_extension": ".py",
   "mimetype": "text/x-python",
   "name": "python",
   "nbconvert_exporter": "python",
   "pygments_lexer": "ipython3",
   "version": "3.10.4"
  }
 },
 "nbformat": 4,
 "nbformat_minor": 5
}
